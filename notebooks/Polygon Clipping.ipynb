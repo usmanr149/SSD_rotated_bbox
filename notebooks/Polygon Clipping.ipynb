{
 "cells": [
  {
   "cell_type": "code",
   "execution_count": 49,
   "id": "ed081eb9",
   "metadata": {},
   "outputs": [],
   "source": [
    "import cv2\n",
    "import numpy as np\n",
    "import glob\n",
    "\n",
    "from matplotlib import pyplot as plt"
   ]
  },
  {
   "cell_type": "code",
   "execution_count": null,
   "id": "b93d29d4",
   "metadata": {},
   "outputs": [],
   "source": [
    "image = np.zeros((300, 300, 3))"
   ]
  },
  {
   "cell_type": "code",
   "execution_count": null,
   "id": "d4b83a75",
   "metadata": {},
   "outputs": [],
   "source": [
    "pts1 = np.array([[100, 150], [200, 250],\n",
    "                [250, 200], [150, 100]\n",
    "               ],\n",
    "               np.int32)\n",
    "\n",
    "pts1 = np.array([[100, 100], [200, 100],\n",
    "                [200, 50], [100, 50]\n",
    "               ],\n",
    "               np.int32)\n",
    " \n",
    "pts1 = pts1.reshape((-1, 1, 2))"
   ]
  },
  {
   "cell_type": "code",
   "execution_count": null,
   "id": "40dfcd05",
   "metadata": {},
   "outputs": [],
   "source": [
    "pts2 = np.array([[120, 200], [70, 50], \n",
    "                [90, 40], [140, 190]\n",
    "               ],\n",
    "               np.int32)\n",
    "\n",
    "pts2 = np.array([[125, 125], [225, 125],\n",
    "                [225, 75], [125, 75]\n",
    "               ],\n",
    "               np.int32)\n",
    " \n",
    "pts2 = pts2.reshape((-1, 1, 2))"
   ]
  },
  {
   "cell_type": "code",
   "execution_count": null,
   "id": "84250c76",
   "metadata": {},
   "outputs": [],
   "source": [
    "# Blue color in BGR\n",
    "color = (255, 0, 0)\n",
    " \n",
    "# Line thickness of 2 px\n",
    "thickness = 2\n",
    " \n",
    "# Using cv2.polylines() method\n",
    "# Draw a Blue polygon with\n",
    "# thickness of 1 px\n",
    "image = cv2.polylines(image, [pts1],\n",
    "                      True, color, thickness)\n",
    "image = cv2.polylines(image, [pts2],\n",
    "                      True, color, thickness)"
   ]
  },
  {
   "cell_type": "code",
   "execution_count": null,
   "id": "17986735",
   "metadata": {},
   "outputs": [],
   "source": [
    "plt.figure(figsize=(10,10))\n",
    "plt.imshow(image)"
   ]
  },
  {
   "cell_type": "code",
   "execution_count": null,
   "id": "43b20b0d",
   "metadata": {},
   "outputs": [],
   "source": [
    "float(\"inf\") == float(\"inf\")"
   ]
  },
  {
   "cell_type": "code",
   "execution_count": null,
   "id": "2df69eee",
   "metadata": {},
   "outputs": [],
   "source": [
    "def calcSlopeIntercept(x1, y1, x2, y2):\n",
    "    \n",
    "    if x2 - x1 == 0:\n",
    "        return float('inf'), x1\n",
    "    \n",
    "    m = ( y2 - y1 ) / ( x2 - x1 )\n",
    "    \n",
    "    b = y1 - m * x1\n",
    "    \n",
    "    return m, b\n",
    "\n",
    "l = len(pts2)\n",
    "\n",
    "for i in range(l):\n",
    "    j = (i + 1) % l\n",
    "    print( calcSlopeIntercept(pts2[i][0][0], pts2[i][0][1], pts2[j][0][0], pts2[j][0][1]) )"
   ]
  },
  {
   "cell_type": "code",
   "execution_count": null,
   "id": "6f298a09",
   "metadata": {},
   "outputs": [],
   "source": [
    "subject_polygon = [(100, 100), (200, 100), (200, 50), (100, 50)]\n",
    "clipping_polygon = [(125, 125), (225, 125), (225, 75), (125, 75)]"
   ]
  },
  {
   "cell_type": "code",
   "execution_count": null,
   "id": "89fb14cd",
   "metadata": {},
   "outputs": [],
   "source": [
    "def findIntersectionInRange(m1, b1, range1, m2, b2, range2):\n",
    "    if m1 == m2:\n",
    "        return None, None\n",
    "    \n",
    "    elif m1 == float('inf'):\n",
    "        x_intersect = b1\n",
    "        y_intersect = m2 * x_intersect + b2\n",
    "    elif m2 == float('inf'):\n",
    "        print('here')\n",
    "        x_intersect = b2\n",
    "        y_intersect = m1 * x_intersect + b1\n",
    "    elif m1 == 0:\n",
    "        y_intersect = b1\n",
    "        x_intersect = ( y_intersect - b2 ) / m2\n",
    "    elif m2 == 0:\n",
    "        y_intersect = b2\n",
    "        x_intersect = ( y_intersect - b1 ) / m1\n",
    "    else:\n",
    "        x_intersect = (b2 - b1) / (m1 - m2)\n",
    "        y_intersect = m1 * x_intersect + b1\n",
    "    \n",
    "    x1min = min(range1[0], range1[2])\n",
    "    x2min = min(range2[0], range2[2])\n",
    "    x_min = max(x1min, x2min)\n",
    "    \n",
    "    x1max = max(range1[0], range1[2])\n",
    "    x2max = max(range2[0], range2[2])\n",
    "    x_max = min(x1max, x2max)\n",
    "    \n",
    "#     print(x_intersect, x_min, x_max)\n",
    "    \n",
    "    if x_intersect >= x_min and x_intersect <= x_max:\n",
    "        \n",
    "        y1min = min(range1[1], range1[3])\n",
    "        y2min = min(range2[1], range2[3])\n",
    "        y_min = max(y1min, y2min)\n",
    "\n",
    "        y1max = max(range1[1], range1[3])\n",
    "        y2max = max(range2[1], range2[3])\n",
    "        y_max = min(y1max, y2max)\n",
    "        \n",
    "        if y_intersect >= y_min and y_intersect <= y_max:\n",
    "            return x_intersect, y_intersect\n",
    "        else:\n",
    "            return None, None\n",
    "    else:\n",
    "        return None, None\n",
    "    \n",
    "\n",
    "final_polygon = subject_polygon.copy()\n",
    "\n",
    "for i in range(len(clipping_polygon)):\n",
    "    # stores the vertices of the next iteration of the clipping procedure\n",
    "    next_polygon = final_polygon.copy()\n",
    "    \n",
    "    final_polygon = []\n",
    "    \n",
    "    for j in range(len(next_polygon)):\n",
    "        edge_start = next_polygon[j]\n",
    "        nextEdge_idx = (j + 1) % len(next_polygon)\n",
    "        edge_end = next_polygon[nextEdge_idx]\n",
    "        \n",
    "        \n",
    "        \n",
    "    \n",
    "    \n",
    "\n",
    "pts2_slope_int = []\n",
    "l = len(pts2)\n",
    "\n",
    "for i in range(l):\n",
    "    j = (i + 1) % l\n",
    "    m, b = calcSlopeIntercept(pts2[i][0][0], pts2[i][0][1], pts2[j][0][0], pts2[j][0][1])\n",
    "    xmin, ymin, xmax, ymax = pts2[i][0][0], pts2[i][0][1], pts2[j][0][0], pts2[j][0][1]\n",
    "    pts2_slope_int.append( (m, b, xmin, ymin, xmax, ymax) )\n",
    "\n",
    "pts1_slope_int = []\n",
    "l = len(pts1)\n",
    "\n",
    "for i in range(l):\n",
    "    j = (i + 1) % l\n",
    "    m, b = calcSlopeIntercept(pts1[i][0][0], pts1[i][0][1], pts1[j][0][0], pts1[j][0][1])\n",
    "    xmin, ymin, xmax, ymax = pts1[i][0][0], pts1[i][0][1], pts1[j][0][0], pts1[j][0][1]\n",
    "    pts1_slope_int.append( (m, b, xmin, ymin, xmax, ymax) )"
   ]
  },
  {
   "cell_type": "code",
   "execution_count": null,
   "id": "b309b5d0",
   "metadata": {},
   "outputs": [],
   "source": [
    "print(pts1_slope_int[2])\n",
    "print(pts2_slope_int[2])\n",
    "\n",
    "m1, b1, x1min, y1min, x1max, y1max = pts1_slope_int[2]\n",
    "m2, b2, x2min, y2min, x2max, y2max = pts2_slope_int[2]\n",
    "x_intersect, y_intersect = findIntersectionInRange(m1, b1, [x1min, y1min, x1max, y1max], m2, b2, [x2min, y2min, x2max, y2max])"
   ]
  },
  {
   "cell_type": "code",
   "execution_count": null,
   "id": "a63bd39c",
   "metadata": {},
   "outputs": [],
   "source": [
    "# image = cv2.line(image, (250, 200), (150, 100), (0, 255, 0), thickness)\n",
    "# image = cv2.line(image, (90, 40), (140, 190), (0, 255, 0), thickness) "
   ]
  },
  {
   "cell_type": "code",
   "execution_count": null,
   "id": "495fe337",
   "metadata": {},
   "outputs": [],
   "source": [
    "intersection_points = []\n",
    "\n",
    "for i in range(4):\n",
    "    for j in range(4):\n",
    "        m1, b1, x1min, y1min, x1max, y1max = pts1_slope_int[i]\n",
    "        m2, b2, x2min, y2min, x2max, y2max = pts2_slope_int[j]\n",
    "        x_intersect, y_intersect = findIntersectionInRange(m1, b1, [x1min, y1min, x1max, y1max], m2, b2, [x2min, y2min, x2max, y2max])\n",
    "        if x_intersect is not None and y_intersect is not None:\n",
    "            image = cv2.circle(image, (int(x_intersect), int(y_intersect)), radius=5, color=(255, 0, 255), thickness=2)\n",
    "            intersection_points.append( (x_intersect, y_intersect) )"
   ]
  },
  {
   "cell_type": "code",
   "execution_count": null,
   "id": "43db7028",
   "metadata": {},
   "outputs": [],
   "source": [
    "# image = cv2.circle(image, (105, 155), radius=5, color=(255, 0, 255), thickness=1)\n",
    "# image = cv2.circle(image, (105, 155), radius=5, color=(255, 0, 255), thickness=1)"
   ]
  },
  {
   "cell_type": "code",
   "execution_count": null,
   "id": "528af514",
   "metadata": {},
   "outputs": [],
   "source": [
    "image = cv2.rectangle(image, (125, 75), (200, 100), color = (255, 1, 1), thickness = 1)\n",
    "\n",
    "plt.figure(figsize=(10,10))\n",
    "plt.imshow(image)"
   ]
  },
  {
   "cell_type": "code",
   "execution_count": null,
   "id": "37c1b920",
   "metadata": {},
   "outputs": [],
   "source": [
    "pts2[0][0][0], pts2[0][0][1]"
   ]
  },
  {
   "cell_type": "code",
   "execution_count": null,
   "id": "c13fabef",
   "metadata": {},
   "outputs": [],
   "source": [
    "pts2[1][0]"
   ]
  },
  {
   "cell_type": "code",
   "execution_count": null,
   "id": "69e85684",
   "metadata": {},
   "outputs": [],
   "source": [
    "import numpy as np\n",
    "import warnings\n",
    "\n",
    "# POINTS NEED TO BE PRESENTED CLOCKWISE OR ELSE THIS WONT WORK\n",
    "\n",
    "class PolygonClipper:\n",
    "    \n",
    "    def __init__(self,warn_if_empty=True):\n",
    "        self.warn_if_empty = warn_if_empty\n",
    "    \n",
    "    def is_inside(self,p1,p2,q):\n",
    "        R = (p2[0] - p1[0]) * (q[1] - p1[1]) - (p2[1] - p1[1]) * (q[0] - p1[0])\n",
    "        if R >= 0:\n",
    "            return True\n",
    "        else:\n",
    "            return False\n",
    "\n",
    "    def compute_intersection(self,p1,p2,p3,p4):\n",
    "        \n",
    "        \"\"\"\n",
    "        given points p1 and p2 on line L1, compute the equation of L1 in the\n",
    "        format of y = m1 * x + b1. Also, given points p3 and p4 on line L2,\n",
    "        compute the equation of L2 in the format of y = m2 * x + b2.\n",
    "        \n",
    "        To compute the point of intersection of the two lines, equate\n",
    "        the two line equations together\n",
    "        \n",
    "        m1 * x + b1 = m2 * x + b2\n",
    "        \n",
    "        and solve for x. Once x is obtained, substitute it into one of the\n",
    "        equations to obtain the value of y.\n",
    "        \n",
    "        if one of the lines is vertical, then the x-coordinate of the point of\n",
    "        intersection will be the x-coordinate of the vertical line. Note that\n",
    "        there is no need to check if both lines are vertical (parallel), since\n",
    "        this function is only called if we know that the lines intersect.\n",
    "        \"\"\"\n",
    "        \n",
    "        # if first line is vertical\n",
    "        if p2[0] - p1[0] == 0:\n",
    "            x = p1[0]\n",
    "            \n",
    "            # slope and intercept of second line\n",
    "            m2 = (p4[1] - p3[1]) / (p4[0] - p3[0])\n",
    "            b2 = p3[1] - m2 * p3[0]\n",
    "            \n",
    "            # y-coordinate of intersection\n",
    "            y = m2 * x + b2\n",
    "        \n",
    "        # if second line is vertical\n",
    "        elif p4[0] - p3[0] == 0:\n",
    "            x = p3[0]\n",
    "            \n",
    "            # slope and intercept of first line\n",
    "            m1 = (p2[1] - p1[1]) / (p2[0] - p1[0])\n",
    "            b1 = p1[1] - m1 * p1[0]\n",
    "            \n",
    "            # y-coordinate of intersection\n",
    "            y = m1 * x + b1\n",
    "        \n",
    "        # if neither line is vertical\n",
    "        else:\n",
    "            m1 = (p2[1] - p1[1]) / (p2[0] - p1[0])\n",
    "            b1 = p1[1] - m1 * p1[0]\n",
    "            \n",
    "            # slope and intercept of second line\n",
    "            m2 = (p4[1] - p3[1]) / (p4[0] - p3[0])\n",
    "            b2 = p3[1] - m2 * p3[0]\n",
    "        \n",
    "            # x-coordinate of intersection\n",
    "            x = (b2 - b1) / (m1 - m2)\n",
    "        \n",
    "            # y-coordinate of intersection\n",
    "            y = m1 * x + b1\n",
    "        \n",
    "        intersection = (x,y)\n",
    "        \n",
    "        return intersection\n",
    "    \n",
    "    def clip(self, subject_polygon, clipping_polygon):\n",
    "        \n",
    "        final_polygon = subject_polygon.copy()\n",
    "        \n",
    "        for i in range(len(clipping_polygon)):\n",
    "            \n",
    "            # stores the vertices of the next iteration of the clipping procedure\n",
    "            next_polygon = final_polygon.copy()\n",
    "            \n",
    "            # stores the vertices of the final clipped polygon\n",
    "            final_polygon = []\n",
    "            \n",
    "            # these two vertices define a line segment (edge) in the clipping\n",
    "            # polygon. It is assumed that indices wrap around, such that if\n",
    "            # i = 1, then i - 1 = K.\n",
    "            c_edge_start = clipping_polygon[i - 1]\n",
    "            c_edge_end = clipping_polygon[i]\n",
    "            \n",
    "            for j in range(len(next_polygon)):\n",
    "                \n",
    "                # these two vertices define a line segment (edge) in the subject\n",
    "                # polygon\n",
    "                s_edge_start = next_polygon[j - 1]\n",
    "                s_edge_end = next_polygon[j]\n",
    "                \n",
    "                print('subject: ', j, s_edge_start, s_edge_end)\n",
    "                \n",
    "                if self.is_inside(c_edge_start,c_edge_end,s_edge_end):\n",
    "                    if not self.is_inside(c_edge_start,c_edge_end,s_edge_start):\n",
    "                        intersection = self.compute_intersection(s_edge_start,s_edge_end,c_edge_start,c_edge_end)\n",
    "                        final_polygon.append(intersection)\n",
    "                    final_polygon.append(tuple(s_edge_end))\n",
    "                elif self.is_inside(c_edge_start,c_edge_end,s_edge_start):\n",
    "                    intersection = self.compute_intersection(s_edge_start,s_edge_end,c_edge_start,c_edge_end)\n",
    "                    final_polygon.append(intersection)\n",
    "            print(final_polygon)\n",
    "            print('*'*20)\n",
    "        \n",
    "        return np.asarray(final_polygon)\n",
    "    \n",
    "    def __call__(self,A,B):\n",
    "        clipped_polygon = self.clip(A,B)\n",
    "        if len(clipped_polygon) == 0 and self.warn_if_empty:\n",
    "            warnings.warn(\"No intersections found. Are you sure your \\\n",
    "                          polygon coordinates are in clockwise order?\")\n",
    "        \n",
    "        return clipped_polygon\n",
    "\n",
    "\n",
    "    \n",
    "clip = PolygonClipper()\n",
    "    \n",
    "# squares\n",
    "# subject_polygon = [(-1,1),(1,1),(1,-1),(-1,-1)]\n",
    "# clipping_polygon = [(0,0),(0,2),(2,2),(2,0)]\n",
    "\n",
    "# squares: different order of points\n",
    "# subject_polygon = [(-1,-1),(-1,1),(1,1),(1,-1)]\n",
    "# clipping_polygon = [(2,0),(0,0),(0,2),(2,2)]\n",
    "\n",
    "# triangles\n",
    "# subject_polygon = [(0,0),(2,1),(2,0)]\n",
    "# clipping_polygon = [(1,0.5),(3,1.5),(3,0.5)]\n",
    "\n",
    "# star and square\n",
    "# subject_polygon = [(0,3),(0.5,0.5),(3,0),(0.5,-0.5),(0,-3),(-0.5,-0.5),(-3,0),(-0.5,0.5)]\n",
    "# clipping_polygon = [(-2,-2),(-2,2),(2,2),(2,-2)]\n",
    "\n",
    "subject_polygon = [[383, 313], [380, 382], [538, 528], [623, 545], [845, 475], [872, 401], [668, 352], [578, 333]]\n",
    "clipping_polygon = [(300, 250), (400, 350), (450, 300), (350, 200)]\n",
    "\n",
    "\n",
    "# subject_polygon = [(120, 200), (70, 50), (90, 40), (140, 190)]\n",
    "# clipping_polygon = [(100, 150), (200, 250), (250, 200), (150, 100)]\n",
    "\n",
    "# subject_polygon = [(100, 100), (200, 100), (200, 50), (100, 50)]\n",
    "# clipping_polygon = [(125, 125), (225, 125), (225, 75), (125, 75)]\n",
    "\n",
    "# star and triangle\n",
    "# subject_polygon = [(0,3),(0.5,0.5),(3,0),(0.5,-0.5),(0,-3),(-0.5,-0.5),(-3,0),(-0.5,0.5)]\n",
    "# clipping_polygon = [(0,2),(2,-2),(-2,-2)]\n",
    "\n",
    "subject_polygon = np.array(subject_polygon)\n",
    "clipping_polygon = np.array(clipping_polygon)\n",
    "clipped_polygon = clip(subject_polygon,clipping_polygon)"
   ]
  },
  {
   "cell_type": "code",
   "execution_count": null,
   "id": "67821cc7",
   "metadata": {},
   "outputs": [],
   "source": [
    "subject_polygon = [220.,  99.999999, 319.999999, 200.000001, 270.000001, 249.999999,  169.999999, 150.      ]\n",
    "\n",
    "subject_polygon = np.array(subject_polygon).reshape(4, 2)\n",
    "\n",
    "clipping_polygon = [318.94291117, 12.11417767, 318.94291117, 287.88582233, 181.05708883, 287.88582233, 181.05708883, 12.11417767]\n",
    "\n",
    "clipping_polygon = np.array(clipping_polygon).reshape(4, 2)"
   ]
  },
  {
   "cell_type": "code",
   "execution_count": null,
   "id": "f312277a",
   "metadata": {},
   "outputs": [],
   "source": [
    "pts1 = np.array(subject_polygon, np.int32).reshape((-1, 1, 2))\n",
    "\n",
    "pts2 = np.array(clipping_polygon, np.int32).reshape((-1, 1, 2))\n",
    "\n",
    "\n",
    "image = np.zeros((350, 350, 3))\n",
    "\n",
    "image = cv2.polylines(image, [pts1],\n",
    "                      True, color, thickness)\n",
    "image = cv2.polylines(image, [pts2],\n",
    "                      True, color, thickness)\n",
    "\n",
    "clipped_polygon = clip(subject_polygon,clipping_polygon)\n",
    "\n",
    "overlap = clipped_polygon.reshape((-1, 1, 2)).astype( np.int32 )\n",
    "\n",
    "image = cv2.polylines(image, [overlap],\n",
    "                      True, (255, 100 , 100), thickness)\n",
    "\n",
    "plt.figure(figsize=(10,10))\n",
    "plt.imshow(image)"
   ]
  },
  {
   "cell_type": "code",
   "execution_count": null,
   "id": "95b508ea",
   "metadata": {},
   "outputs": [],
   "source": [
    "clipped_polygon"
   ]
  },
  {
   "cell_type": "code",
   "execution_count": null,
   "id": "c7716774",
   "metadata": {},
   "outputs": [],
   "source": []
  },
  {
   "cell_type": "code",
   "execution_count": null,
   "id": "f5c27c30",
   "metadata": {},
   "outputs": [],
   "source": [
    "area = 0\n",
    "for i in range(len(intersection_points)):\n",
    "    j = (i + 1) % len(intersection_points)\n",
    "    x1 = intersection_points[i][0]\n",
    "    y1 = intersection_points[i][1]\n",
    "    \n",
    "    x2 = intersection_points[j][0]\n",
    "    y2 = intersection_points[j][0]\n",
    "    area+=x1 * y2 - x2 * y1\n",
    "\n",
    "abs(area) / 2"
   ]
  },
  {
   "cell_type": "code",
   "execution_count": null,
   "id": "da1644c8",
   "metadata": {},
   "outputs": [],
   "source": [
    "75 * 25"
   ]
  },
  {
   "cell_type": "code",
   "execution_count": null,
   "id": "cf2386fc",
   "metadata": {},
   "outputs": [],
   "source": [
    "x1, y1, x2, y2, x3, y3, x4, y4 = 100, 150, 200, 250, 250, 200, 150, 100\n",
    "\n",
    "xmin = min(x1, x2, x3, x4)\n",
    "xmax = max(x1, x2, x3, x4)\n",
    "\n",
    "ymin = min(y1, y2, y3, y4)\n",
    "ymax = max(y1, y2, y3, y4)"
   ]
  },
  {
   "cell_type": "code",
   "execution_count": null,
   "id": "42370b5f",
   "metadata": {},
   "outputs": [],
   "source": [
    "xmin"
   ]
  },
  {
   "cell_type": "code",
   "execution_count": null,
   "id": "577ef05d",
   "metadata": {},
   "outputs": [],
   "source": [
    "pts1 = np.array([[100, 150], [200, 250],\n",
    "                [250, 200], [150, 100]\n",
    "               ],\n",
    "               np.int32)\n",
    "\n",
    "pts1 = pts1.reshape((-1, 1, 2))\n",
    "\n",
    "image = np.zeros((300, 300, 3))\n",
    "\n",
    "image = cv2.polylines(image, [pts1],\n",
    "                      True, color, thickness)\n",
    "\n",
    "image = cv2.rectangle(image, (xmin, ymin), (xmax, ymax), color = (255,100, 100), thickness = 1)\n",
    "\n",
    "plt.figure(figsize=(10,10))\n",
    "plt.imshow(image)"
   ]
  },
  {
   "cell_type": "code",
   "execution_count": null,
   "id": "539a0025",
   "metadata": {},
   "outputs": [],
   "source": [
    "class vectorRepresentation:\n",
    "    def __init__(self, x, y):\n",
    "        self.x = x\n",
    "        self.y = y\n",
    "    \n",
    "def vector(p1, p2):\n",
    "    return vectorRepresentation(p2.x - p1.x, p2.y - p1.y)\n",
    "\n",
    "def dot(p1, p2):\n",
    "    return p1.x * p2.x + p1.y * p2.y\n",
    "\n",
    "A = vectorRepresentation(10, 30)\n",
    "B = vectorRepresentation(60, 10)\n",
    "C = vectorRepresentation(70, 40)\n",
    "D = vectorRepresentation(20, 60)\n",
    "\n",
    "point = vectorRepresentation(90, 30)\n",
    "\n",
    "def pointInRextactangle(A, B, C, D, point):\n",
    "    AB = vector(A, B)\n",
    "    AM = vector(A, point)\n",
    "    AD = vector(A, D)\n",
    "    \n",
    "    dotAMAB = dot(AM, AB)\n",
    "    dotABAB = dot(AB, AB)\n",
    "    dotAMAD = dot(AM, AD)\n",
    "    dotADAD = dot(AD, AD)\n",
    "    \n",
    "    return 0 <= dotAMAB <= dotABAB and 0 <= dotAMAD <= dotADAD\n",
    "\n",
    "pointInRextactangle(A, B, C, D, point)"
   ]
  },
  {
   "cell_type": "code",
   "execution_count": null,
   "id": "40b54bc9",
   "metadata": {},
   "outputs": [],
   "source": [
    "A = vectorRepresentation(5, 0)\n",
    "B = vectorRepresentation(0, 2)\n",
    "C = vectorRepresentation(1, 5)\n",
    "D = vectorRepresentation(6, 3)\n",
    "\n",
    "M = vectorRepresentation(4, 2)\n",
    "\n",
    "AB = vector(A, B)\n",
    "BC = vector(B, C)\n",
    "AM = vector(A, M)\n",
    "BM = vector(B, M)\n",
    "\n",
    "dot(AB,AM), dot(BC,BM)\n",
    "\n",
    "0 <= dot(AB,AM) <= dot(AB,AB) and 0 <= dot(BC,BM) <= dot(BC,BC)"
   ]
  },
  {
   "cell_type": "code",
   "execution_count": null,
   "id": "c651ba14",
   "metadata": {},
   "outputs": [],
   "source": [
    "0, dot(AB,AM), dot(AB,AB),0, dot(BC,BM), dot(BC,BC)"
   ]
  },
  {
   "cell_type": "code",
   "execution_count": null,
   "id": "8524fce8",
   "metadata": {},
   "outputs": [],
   "source": []
  },
  {
   "cell_type": "code",
   "execution_count": null,
   "id": "22843ba3",
   "metadata": {},
   "outputs": [],
   "source": []
  },
  {
   "cell_type": "code",
   "execution_count": null,
   "id": "47cc9a3f",
   "metadata": {},
   "outputs": [],
   "source": []
  },
  {
   "cell_type": "code",
   "execution_count": null,
   "id": "d367d337",
   "metadata": {},
   "outputs": [],
   "source": [
    "pts1 = np.array([[10, 30], [60, 10], \n",
    "                 [70, 40], [20, 60]\n",
    "               ],\n",
    "               np.int32)\n",
    "\n",
    "pts1 = pts1.reshape((-1, 1, 2))\n",
    "\n",
    "image = np.zeros((200, 200, 3))\n",
    "\n",
    "image = cv2.polylines(image, [pts1],\n",
    "                      True, color, thickness)\n",
    "\n",
    "image = cv2.circle(image, (50, 30), radius=1, color=(255, 0, 255), thickness=3)\n",
    "\n",
    "plt.figure(figsize=(10,10))\n",
    "plt.imshow(image)"
   ]
  },
  {
   "cell_type": "code",
   "execution_count": null,
   "id": "9fedf854",
   "metadata": {},
   "outputs": [],
   "source": [
    "def shoelaceFormula(coordinates):\n",
    "    if len(coordinates) < 3:\n",
    "        return 'Not a polygon'\n",
    "    \n",
    "    area = 0\n",
    "\n",
    "    for i in range(len(coordinates)):\n",
    "        i_plus_1 = (i + 1) % len(coordinates)\n",
    "        area += (coordinates[i_plus_1][0] * coordinates[i][1] - coordinates[i][0] * coordinates[i_plus_1][1]) / 2\n",
    "\n",
    "    return area"
   ]
  },
  {
   "cell_type": "code",
   "execution_count": null,
   "id": "17ad1e34",
   "metadata": {},
   "outputs": [],
   "source": [
    "coordinates = [[10, 30], [60, 10], [70, 40], [20, 60]]\n",
    "\n",
    "area = 0\n",
    "\n",
    "for i in range(len(coordinates)):\n",
    "    i_plus_1 = (i + 1) % len(coordinates)\n",
    "    area += (coordinates[i_plus_1][0] * coordinates[i][1] - coordinates[i][0] * coordinates[i_plus_1][1]) / 2\n",
    "    \n",
    "print(area)"
   ]
  },
  {
   "cell_type": "code",
   "execution_count": null,
   "id": "2191e5c6",
   "metadata": {},
   "outputs": [],
   "source": [
    "triangle_1 = [[10, 30], [60, 10], [50, 30]]\n",
    "triangle_2 = [[60, 10], [70, 40], [50, 30]]\n",
    "triangle_3 = [[70, 40], [20, 60], [50, 30]]\n",
    "triangle_4 = [[20, 60], [10, 30], [50, 30]]\n",
    "\n",
    "\n",
    "abs(shoelaceFormula(triangle_1)) + abs(shoelaceFormula(triangle_2)) + abs(shoelaceFormula(triangle_3)) + abs(shoelaceFormula(triangle_4))"
   ]
  },
  {
   "cell_type": "code",
   "execution_count": null,
   "id": "517bde4b",
   "metadata": {},
   "outputs": [],
   "source": [
    "def calcSlopeIntercept(x1, y1, x2, y2):\n",
    "    m = (y2 - y1) / (x2 - x1)\n",
    "    b = y1 - m * x1\n",
    "    \n",
    "    return m, b\n",
    "\n",
    "calcSlopeIntercept(3, 2, 4, 6)"
   ]
  },
  {
   "cell_type": "code",
   "execution_count": null,
   "id": "d63272b8",
   "metadata": {},
   "outputs": [],
   "source": [
    "calcSlopeIntercept(2, -3, 6, -4)"
   ]
  },
  {
   "cell_type": "code",
   "execution_count": null,
   "id": "6cefed10",
   "metadata": {},
   "outputs": [],
   "source": [
    "def isleft(x1, y1, x2, y2, x, y):\n",
    "    R = (x - x1) * (y2 - y1) - (y - y1) * (x2 - x1)\n",
    "    \n",
    "    if R < 0:\n",
    "        return 'Left'\n",
    "    elif R > 0:\n",
    "        return 'Right'\n",
    "    else:\n",
    "        return 'Online'\n",
    "    \n",
    "    return R\n",
    "\n",
    "isleft(3, 2, 4, 6, 2, -3)"
   ]
  },
  {
   "cell_type": "code",
   "execution_count": null,
   "id": "4b757717",
   "metadata": {},
   "outputs": [],
   "source": [
    "def isRight(x1, y1, x2, y2, x, y):\n",
    "    R = (x - x1) * (y2 - y1) - (y - y1) * (x2 - x1)\n",
    "    \n",
    "    return R >= 0"
   ]
  },
  {
   "cell_type": "code",
   "execution_count": null,
   "id": "148d8105",
   "metadata": {},
   "outputs": [],
   "source": [
    "def calcSlopeIntercept(x1, y1, x2, y2):\n",
    "    \n",
    "    if x2 - x1 == 0:\n",
    "        return float('inf'), x1\n",
    "    \n",
    "    m = ( y2 - y1 ) / ( x2 - x1 )\n",
    "    \n",
    "    b = y1 - m * x1\n",
    "    \n",
    "    return m, b\n",
    "\n",
    "def findIntersectionInRange(m1, b1, m2, b2):\n",
    "    if m1 == m2:\n",
    "        return None, None\n",
    "    \n",
    "    elif m1 == float('inf'):\n",
    "        x_intersect = b1\n",
    "        y_intersect = m2 * x_intersect + b2\n",
    "    elif m2 == float('inf'):\n",
    "        x_intersect = b2\n",
    "        y_intersect = m1 * x_intersect + b1\n",
    "    elif m1 == 0:\n",
    "        y_intersect = b1\n",
    "        x_intersect = ( y_intersect - b2 ) / m2\n",
    "    elif m2 == 0:\n",
    "        y_intersect = b2\n",
    "        x_intersect = ( y_intersect - b1 ) / m1\n",
    "    else:\n",
    "        x_intersect = (b2 - b1) / (m1 - m2)\n",
    "        y_intersect = m1 * x_intersect + b1\n",
    "    \n",
    "    return [x_intersect, y_intersect]\n",
    "\n",
    "subject = [[100, 50], [200, 50], [200, 100], [100, 100]][::-1]\n",
    "# subject = [[300, 250], [400, 250], [400, 300], [300, 300]]\n",
    "clip = [[125, 75], [225, 75], [225, 125], [125, 125]][::-1]\n",
    "\n",
    "# subject = [[383, 313], [380, 382], [538, 528], [623, 545], [845, 475], [872, 401], [668, 352], [578, 333]]\n",
    "# clip = [(300, 250), (400, 350), (450, 300), (350, 200)]\n",
    "\n",
    "\n",
    "\n",
    "outputList = subject.copy()\n",
    "\n",
    "for i in range(len(clip)):\n",
    "    inputList = outputList.copy()\n",
    "    outputList = []\n",
    "    \n",
    "    curr_edge = clip[i]\n",
    "    prev_edge = clip[(i - 1) % len(clip)]\n",
    "    \n",
    "    for j in range(len(inputList)):\n",
    "        curr_point = inputList[j]\n",
    "        prev_point = inputList[(j - 1) % len(inputList)]\n",
    "        \n",
    "        m1, b1 = calcSlopeIntercept(prev_point[0], prev_point[1], curr_point[0], curr_point[1])\n",
    "        m2, b2 = calcSlopeIntercept(prev_edge[0], prev_edge[1], curr_edge[0], curr_edge[1])\n",
    "        \n",
    "        interscecting_point = findIntersectionInRange(m1, b1, m2, b2)\n",
    "        if isRight(prev_edge[0], prev_edge[1], curr_edge[0], curr_edge[1], curr_point[0], curr_point[1]):\n",
    "#             print(prev_edge[0], prev_edge[1], curr_edge[0], curr_edge[1], curr_point[0], curr_point[1])\n",
    "            if not isRight(prev_edge[0], prev_edge[1], curr_edge[0], curr_edge[1], prev_point[0], prev_point[1]):\n",
    "                outputList.append(interscecting_point)\n",
    "            outputList.append([curr_point[0], curr_point[1]])\n",
    "        elif isRight(prev_edge[0], prev_edge[1], curr_edge[0], curr_edge[1], prev_point[0], prev_point[1]):\n",
    "            outputList.append(interscecting_point)\n",
    "    \n",
    "print(outputList)"
   ]
  },
  {
   "cell_type": "code",
   "execution_count": null,
   "id": "51db5dff",
   "metadata": {},
   "outputs": [],
   "source": [
    "pts1"
   ]
  },
  {
   "cell_type": "code",
   "execution_count": null,
   "id": "d334c196",
   "metadata": {},
   "outputs": [],
   "source": [
    "pts1 = np.array(subject_polygon, np.int32).reshape((-1, 1, 2))\n",
    "\n",
    "pts2 = np.array(clipping_polygon, np.int32).reshape((-1, 1, 2))\n",
    "\n",
    "clipped_polygon = np.array(outputList, np.int32).reshape((-1, 1, 2))\n",
    "\n",
    "image = np.zeros((300, 300, 3))\n",
    "\n",
    "image = cv2.polylines(image, [pts1],\n",
    "                      True, color, 1)\n",
    "image = cv2.polylines(image, [pts2],\n",
    "                      True, color, 1)\n",
    "\n",
    "clipped_polygon = clip\n",
    "\n",
    "overlap = clipped_polygon.reshape((-1, 1, 2)).astype( np.int32 )\n",
    "\n",
    "image = cv2.polylines(image, [overlap],\n",
    "                      True, (255,10,120), 2)\n",
    "\n",
    "plt.figure(figsize=(10,10))\n",
    "plt.imshow(image)"
   ]
  },
  {
   "cell_type": "code",
   "execution_count": null,
   "id": "f8318c17",
   "metadata": {},
   "outputs": [],
   "source": [
    "import tensorflow as tf"
   ]
  },
  {
   "cell_type": "code",
   "execution_count": null,
   "id": "cb9ade55",
   "metadata": {},
   "outputs": [],
   "source": [
    "@tf.function\n",
    "def add(a, b):\n",
    "    return a + b\n",
    "\n",
    "add(tf.ones([2, 2]), tf.ones([2, 2]))"
   ]
  },
  {
   "cell_type": "code",
   "execution_count": null,
   "id": "36ba6ddd",
   "metadata": {},
   "outputs": [],
   "source": [
    "@tf.function\n",
    "def dense_layer(x, w):\n",
    "    return tf.matmul(x, w)\n",
    "\n",
    "dense_layer(tf.constant(\n",
    "    [[1.,2.],\n",
    "             [3., 4.],\n",
    "             [5., 6.]]), tf.ones([2, 2]))"
   ]
  },
  {
   "cell_type": "code",
   "execution_count": null,
   "id": "077e0737",
   "metadata": {},
   "outputs": [],
   "source": [
    "tf.ones([3, 2])"
   ]
  },
  {
   "cell_type": "code",
   "execution_count": null,
   "id": "c1e531c8",
   "metadata": {},
   "outputs": [],
   "source": [
    "tf.constant([[1,2],\n",
    "             [3,4],\n",
    "             [5,6]])"
   ]
  },
  {
   "cell_type": "code",
   "execution_count": null,
   "id": "7761bacd",
   "metadata": {},
   "outputs": [],
   "source": [
    "def my_func(key):\n",
    "    return key[0] * key[1]\n",
    "\n",
    "elems = (np.array([1, 2, 3]), np.array([-1, 1, -1]))\n",
    "\n",
    "# tf.map_fn(lambda x: x[0] * x[1], elems, fn_output_signature=tf.int64)\n",
    "\n",
    "tf.map_fn(my_func, elems, fn_output_signature=tf.int64)"
   ]
  },
  {
   "cell_type": "code",
   "execution_count": null,
   "id": "1156ef88",
   "metadata": {},
   "outputs": [],
   "source": [
    "def my_func(key):\n",
    "    print(key)\n",
    "    return tf.tensordot(key[0], key[1], axes = 1 )\n",
    "#     return key[0] * key[1]\n",
    "\n",
    "elems = (np.array([[1, 2, 3], \n",
    "                  [4, 5, 6]]), \n",
    "         np.array([[-1, 1, -1], \n",
    "                   [-1, 1, -1]])\n",
    "        )\n",
    "\n",
    "# tf.map_fn(lambda x: x[0] * x[1], elems, fn_output_signature=tf.int64)\n",
    "\n",
    "tf.map_fn(my_func, elems, fn_output_signature=tf.int64)"
   ]
  },
  {
   "cell_type": "code",
   "execution_count": null,
   "id": "1f92221e",
   "metadata": {},
   "outputs": [],
   "source": [
    "specs = ['xli', 'GTI 500']"
   ]
  },
  {
   "cell_type": "code",
   "execution_count": null,
   "id": "f23c4408",
   "metadata": {},
   "outputs": [],
   "source": [
    "list(map(lambda spec: spec.replace(' ', ''), specs))"
   ]
  },
  {
   "cell_type": "code",
   "execution_count": null,
   "id": "45a970fc",
   "metadata": {},
   "outputs": [],
   "source": [
    "customers = {'j': 50, 'a': 20, 'b0': 30}\n",
    "\n",
    "print(list(customers.keys())[:2])"
   ]
  },
  {
   "cell_type": "code",
   "execution_count": null,
   "id": "3d7f8f43",
   "metadata": {},
   "outputs": [],
   "source": [
    "0.1 * 0.3 / 0.5"
   ]
  },
  {
   "cell_type": "code",
   "execution_count": null,
   "id": "41b12bb2",
   "metadata": {},
   "outputs": [],
   "source": [
    "[[125, 75.0], [125, 100.0], [200, 100], [200, 75.0]]\n"
   ]
  },
  {
   "cell_type": "code",
   "execution_count": null,
   "id": "8f71383e",
   "metadata": {},
   "outputs": [],
   "source": [
    "subject = [[100, 50], [200, 50], [200, 100], [100, 100]][::-1]\n",
    "# subject = [[300, 250], [400, 250], [400, 300], [300, 300]]\n",
    "clip = [[125, 75], [225, 75], [225, 125], [125, 125]][::-1]\n",
    "\n",
    "# subject = [[383, 313], [380, 382], [538, 528], [623, 545], [845, 475], [872, 401], [668, 352], [578, 333]]\n",
    "# clip = [(300, 250), (400, 350), (450, 300), (350, 200)]\n",
    "\n",
    "\n",
    "\n",
    "outputList = subject.copy()\n",
    "\n",
    "for i in range(len(clip)):\n",
    "    inputList = outputList.copy()\n",
    "    counter = len(inputList)\n",
    "    outputList = np.empty( (8, 2) , dtype=np.float64)\n",
    "    \n",
    "    curr_edge = clip[i]\n",
    "    prev_edge = clip[(i - 1) % len(clip)]\n",
    "    \n",
    "    for j in range(counter):\n",
    "        curr_point = inputList[j]\n",
    "        prev_point = inputList[(j - 1) % len(inputList)]\n",
    "        \n",
    "        m1, b1 = calcSlopeIntercept(prev_point[0], prev_point[1], curr_point[0], curr_point[1])\n",
    "        m2, b2 = calcSlopeIntercept(prev_edge[0], prev_edge[1], curr_edge[0], curr_edge[1])\n",
    "        \n",
    "        interscecting_point = findIntersectionInRange(m1, b1, m2, b2)\n",
    "        if isRight(prev_edge[0], prev_edge[1], curr_edge[0], curr_edge[1], curr_point[0], curr_point[1]):\n",
    "#             print(prev_edge[0], prev_edge[1], curr_edge[0], curr_edge[1], curr_point[0], curr_point[1])\n",
    "            if not isRight(prev_edge[0], prev_edge[1], curr_edge[0], curr_edge[1], prev_point[0], prev_point[1]):\n",
    "                outputList.append(interscecting_point)\n",
    "            outputList.append([curr_point[0], curr_point[1]])\n",
    "        elif isRight(prev_edge[0], prev_edge[1], curr_edge[0], curr_edge[1], prev_point[0], prev_point[1]):\n",
    "            outputList.append(interscecting_point)\n",
    "    \n",
    "print(outputList)"
   ]
  },
  {
   "cell_type": "code",
   "execution_count": null,
   "id": "a2594971",
   "metadata": {},
   "outputs": [],
   "source": [
    "subject = [[383, 313], [380, 382], [538, 528], [623, 545], [845, 475], [872, 401], [668, 352], [578, 333]]\n",
    "clip = [(300, 250), (400, 350), (450, 300), (350, 200)]\n",
    "\n",
    "subject = [[10, 50], [250, 50], [250, 290], [10, 290]]\n",
    "clip = [[10, 10], [10, 270], [270, 270], [270, 10]]\n",
    "\n",
    "subject = [\n",
    "    [0.08647853743729339, 0.88],\n",
    "    [0.08647853743729339, 0.12],\n",
    "    [0.9135214625627066,  0.12],\n",
    "    [0.9135214625627066, 0.88]\n",
    "]\n",
    "\n",
    "subject = np.array(subject)* 300\n",
    "\n",
    "clip = [\n",
    "    [0.03333333, 0.16666667],\n",
    "    [0.83333333, 0.16666667],\n",
    "    [0.83333333, 0.96666667],\n",
    "    [0.03333333, 0.96666667]\n",
    "]\n",
    "\n",
    "clip = np.array(clip) * 300\n"
   ]
  },
  {
   "cell_type": "code",
   "execution_count": null,
   "id": "11b737d0",
   "metadata": {},
   "outputs": [],
   "source": [
    "print(subject)\n",
    "print(clip)"
   ]
  },
  {
   "cell_type": "code",
   "execution_count": null,
   "id": "6516001b",
   "metadata": {},
   "outputs": [],
   "source": [
    "subjectPolygon = subject.copy()\n",
    "subjectPolygonSize = len(subjectPolygon)\n",
    "\n",
    "clipPolygon = clip.copy()\n",
    "clipPolygonSize = len(clipPolygon)\n",
    "\n",
    "newPolygon = np.empty( (16, 2), dtype=np.float64 )\n",
    "\n",
    "inputPolygon = np.empty( (16, 2), dtype=np.float64 )\n",
    "\n",
    "# copy subject polygon to new polygon and set its size\n",
    "for i in range(subjectPolygonSize):\n",
    "    newPolygon[i] = subjectPolygon[i]\n",
    "    \n",
    "newPolygonSize = subjectPolygonSize\n",
    "    \n",
    "for j in range(clipPolygonSize):\n",
    "    # copy new polygon to input polygon & set counter to 0\n",
    "    for k in range(newPolygonSize):\n",
    "        inputPolygon[k] = newPolygon[k]\n",
    "    counter = 0\n",
    "    \n",
    "    # get clipping polygon edge\n",
    "    cp1 = clipPolygon[j];\n",
    "    cp2 = clipPolygon[(j - 1) % clipPolygonSize];\n",
    "    \n",
    "    for i in range(newPolygonSize):\n",
    "        # get subject polygon edge\n",
    "        s = inputPolygon[i];\n",
    "        e = inputPolygon[(i - 1) % newPolygonSize];\n",
    "        \n",
    "        print(s, e)\n",
    "        m1, b1 = calcSlopeIntercept(e[0], e[1], s[0], s[1])\n",
    "        m2, b2 = calcSlopeIntercept(cp2[0], cp2[1], cp1[0], cp1[1])\n",
    "        \n",
    "        print(cp1, cp2, s)\n",
    "        \n",
    "        interscecting_point = findIntersectionInRange(m1, b1, m2, b2)\n",
    "        \n",
    "        if isRight(cp1[0], cp1[1], cp2[0], cp2[1], s[0], s[1]):\n",
    "            print('here')\n",
    "            if not isRight(cp1[0], cp1[1], cp2[0], cp2[1], e[0], e[1]):\n",
    "                newPolygon[counter] = interscecting_point\n",
    "                counter+=1\n",
    "            newPolygon[counter][0] = s[0]\n",
    "            newPolygon[counter][1] = s[1]\n",
    "            counter+=1\n",
    "        elif isRight(cp1[0], cp1[1], cp2[0], cp2[1], e[0], e[1]):\n",
    "            newPolygon[counter] = interscecting_point\n",
    "            counter+=1\n",
    "            \n",
    "    newPolygonSize = counter;\n"
   ]
  },
  {
   "cell_type": "code",
   "execution_count": null,
   "id": "31b3fd0f",
   "metadata": {},
   "outputs": [],
   "source": [
    "newPolygon[:newPolygonSize]"
   ]
  },
  {
   "cell_type": "code",
   "execution_count": null,
   "id": "a462cd51",
   "metadata": {},
   "outputs": [],
   "source": [
    "image = np.zeros((300, 300, 3))\n",
    "\n",
    "\n",
    "corners = subject.astype(np.int32)\n",
    "\n",
    "# corners = corners.reshape(4, 2)\n",
    "\n",
    "corners = corners.reshape((-1, 1, 2))\n",
    "\n",
    "image = cv2.polylines(image, [corners],\n",
    "                      True, color, 1)\n",
    "        \n",
    "# corners = np.array(gt_box) * 300\n",
    "\n",
    "corners = clip.astype(np.int32)\n",
    "\n",
    "# corners = corners.reshape(4, 2)\n",
    "\n",
    "corners = corners.reshape((-1, 1, 2))\n",
    "\n",
    "image = cv2.polylines(image, [corners],\n",
    "                      True, color, 1)\n",
    "        \n",
    "plt.figure(figsize=(10,10))\n",
    "\n",
    "plt.imshow(image)"
   ]
  },
  {
   "cell_type": "code",
   "execution_count": null,
   "id": "513cc491",
   "metadata": {},
   "outputs": [],
   "source": [
    "subject.astype(np.int32)"
   ]
  },
  {
   "cell_type": "code",
   "execution_count": null,
   "id": "4a4321d9",
   "metadata": {},
   "outputs": [],
   "source": [
    "[ 9.999999 50.000001] [  9.999999 290.000001] [ 25.94356123 264.        ]"
   ]
  },
  {
   "cell_type": "code",
   "execution_count": null,
   "id": "4b32d720",
   "metadata": {},
   "outputs": [],
   "source": [
    "isRight(9.999999, 290.000001, 9.999999, 50.000001, 25.94356123, 264.)"
   ]
  },
  {
   "cell_type": "code",
   "execution_count": 41,
   "id": "b5ee80b9",
   "metadata": {},
   "outputs": [],
   "source": [
    "with open('/Users/usmanr/workspace/rotatedBoxes_Inputs/input/train/COCO_train2014_000000000049.txt.coco_theta') as f:\n",
    "    data = f.readlines()"
   ]
  },
  {
   "cell_type": "code",
   "execution_count": 42,
   "id": "6e55f070",
   "metadata": {},
   "outputs": [
    {
     "data": {
      "text/plain": [
       "['1,235.105085,300.8711,44.384667100760154,80.10267444878727,0.3923407041581309\\n',\n",
       " '1,151.68285,295.055605,35.33416332772716,75.41105877623588,0.5734404518606379\\n',\n",
       " '1,125.0,350.5,12.0,33.0,0\\n',\n",
       " '1,288.574335,346.80408,8.889853171217167,27.44942748776013,-0.15660023955262226\\n',\n",
       " '1,194.5,337.0,6.0,7.0,1.5707963267948966\\n',\n",
       " '1,194.0,349.0,6.0,16.0,0\\n',\n",
       " '1,353.5,337.5,9.0,15.0,1.5707963267948966\\n']"
      ]
     },
     "execution_count": 42,
     "metadata": {},
     "output_type": "execute_result"
    }
   ],
   "source": [
    "data"
   ]
  },
  {
   "cell_type": "code",
   "execution_count": null,
   "id": "f074fb49",
   "metadata": {},
   "outputs": [],
   "source": [
    "data[0].strip()"
   ]
  },
  {
   "cell_type": "code",
   "execution_count": null,
   "id": "97955076",
   "metadata": {},
   "outputs": [],
   "source": [
    "d = list(map(float, data[0].strip().split(',')))"
   ]
  },
  {
   "cell_type": "code",
   "execution_count": null,
   "id": "44b044d3",
   "metadata": {},
   "outputs": [],
   "source": [
    "d = list(map(int, d))"
   ]
  },
  {
   "cell_type": "code",
   "execution_count": null,
   "id": "a3a9441e",
   "metadata": {},
   "outputs": [],
   "source": [
    "d"
   ]
  },
  {
   "cell_type": "code",
   "execution_count": null,
   "id": "14315902",
   "metadata": {},
   "outputs": [],
   "source": []
  },
  {
   "cell_type": "code",
   "execution_count": null,
   "id": "82c53f16",
   "metadata": {},
   "outputs": [],
   "source": []
  },
  {
   "cell_type": "code",
   "execution_count": 1,
   "id": "538c3584",
   "metadata": {},
   "outputs": [],
   "source": [
    "import cv2\n",
    "import numpy as np\n",
    "\n",
    "from matplotlib import pyplot as plt"
   ]
  },
  {
   "cell_type": "code",
   "execution_count": 2,
   "id": "18ae9830",
   "metadata": {},
   "outputs": [],
   "source": [
    "import sys\n",
    "sys.path.append('../')"
   ]
  },
  {
   "cell_type": "code",
   "execution_count": 3,
   "id": "b12531e4",
   "metadata": {},
   "outputs": [],
   "source": [
    "from numbaClipping import clippedPolygon, shoelaceFormula"
   ]
  },
  {
   "cell_type": "code",
   "execution_count": 4,
   "id": "b83cd6bd",
   "metadata": {},
   "outputs": [],
   "source": [
    "# Blue color in BGR\n",
    "color = (255, 0, 0)\n",
    " \n",
    "# Line thickness of 2 px\n",
    "thickness = 2"
   ]
  },
  {
   "cell_type": "code",
   "execution_count": 17,
   "id": "2f29e787",
   "metadata": {},
   "outputs": [],
   "source": [
    "subjectPolygon = [0.73333333, 0.33333333, 1.06666666, 0.66666667, 0.9       ,\n",
    "       0.83333333, 0.56666666, 0.5       ]\n",
    "\n",
    "subjectPolygon = np.array(subjectPolygon).reshape(4, 2) * 300\n",
    "\n",
    "clipPolygon = [1.06314304, 0.04038059, 1.06314304, 0.95961941, 0.60352363,\n",
    "       0.95961941, 0.60352363, 0.04038059]\n",
    "\n",
    "clipPolygon = np.array(clipPolygon).reshape(4, 2) * 300"
   ]
  },
  {
   "cell_type": "code",
   "execution_count": 18,
   "id": "ad41fac0",
   "metadata": {},
   "outputs": [],
   "source": [
    "subjectPolygonSize = len(subjectPolygon)\n",
    "clipPolygonSize = len(clipPolygon)\n",
    "\n",
    "clipped_polygon = clippedPolygon(subjectPolygon, subjectPolygonSize, clipPolygon, clipPolygonSize)"
   ]
  },
  {
   "cell_type": "code",
   "execution_count": 33,
   "id": "7230871d",
   "metadata": {},
   "outputs": [
    {
     "name": "stdout",
     "output_type": "stream",
     "text": [
      "[[219.999999  99.999999]\n",
      " [319.999998 200.000001]\n",
      " [270.       249.999999]\n",
      " [169.999998 150.      ]]\n",
      "[[318.942912  12.114177]\n",
      " [318.942912 287.885823]\n",
      " [181.057089 287.885823]\n",
      " [181.057089  12.114177]]\n"
     ]
    }
   ],
   "source": [
    "print(subjectPolygon)\n",
    "print(clipPolygon)"
   ]
  },
  {
   "cell_type": "code",
   "execution_count": 37,
   "id": "0fdacb1b",
   "metadata": {},
   "outputs": [
    {
     "name": "stderr",
     "output_type": "stream",
     "text": [
      "Clipping input data to the valid range for imshow with RGB data ([0..1] for floats or [0..255] for integers).\n"
     ]
    },
    {
     "data": {
      "text/plain": [
       "<matplotlib.image.AxesImage at 0x121574df0>"
      ]
     },
     "execution_count": 37,
     "metadata": {},
     "output_type": "execute_result"
    },
    {
     "data": {
      "image/png": "[encoded data removed]",
      "text/plain": [
       "<Figure size 720x720 with 1 Axes>"
      ]
     },
     "metadata": {
      "needs_background": "light"
     },
     "output_type": "display_data"
    }
   ],
   "source": [
    "pts1 = np.array(subjectPolygon, np.int32).reshape((-1, 1, 2))\n",
    "\n",
    "pts2 = np.array(clipPolygon, np.int32).reshape((-1, 1, 2))\n",
    "\n",
    "\n",
    "image = np.zeros((350, 350, 3))\n",
    "\n",
    "image = cv2.polylines(image, [pts1],\n",
    "                      True, (0, 32, 32), thickness)\n",
    "image = cv2.polylines(image, [pts2],\n",
    "                      True, color, thickness)\n",
    "\n",
    "clipped_polygon = clippedPolygon(subjectPolygon, subjectPolygonSize, clipPolygon, clipPolygonSize)\n",
    "\n",
    "overlap = clipped_polygon.reshape((-1, 1, 2)).astype( np.int32 )\n",
    "\n",
    "image = cv2.polylines(image, [overlap],\n",
    "                      True, (255, 100 , 100), thickness)\n",
    "\n",
    "plt.figure(figsize=(10,10))\n",
    "plt.imshow(image)"
   ]
  },
  {
   "cell_type": "code",
   "execution_count": 24,
   "id": "a395a465",
   "metadata": {},
   "outputs": [],
   "source": [
    "default_box_area = shoelaceFormula(subjectPolygon)\n",
    "gt_box_area = shoelaceFormula(clipPolygon)\n",
    "clipped_polygon_area = shoelaceFormula(clipped_polygon)"
   ]
  },
  {
   "cell_type": "code",
   "execution_count": 25,
   "id": "2cacbf1d",
   "metadata": {},
   "outputs": [
    {
     "data": {
      "text/plain": [
       "0.25890022121541867"
      ]
     },
     "execution_count": 25,
     "metadata": {},
     "output_type": "execute_result"
    }
   ],
   "source": [
    "clipped_polygon_area / ( default_box_area + gt_box_area - clipped_polygon_area )"
   ]
  },
  {
   "cell_type": "code",
   "execution_count": 29,
   "id": "076b683b",
   "metadata": {},
   "outputs": [
    {
     "name": "stdout",
     "output_type": "stream",
     "text": [
      "9999.99995\n",
      "38025.00036877466\n",
      "9876.62325962345\n"
     ]
    }
   ],
   "source": [
    "print(default_box_area)\n",
    "print(gt_box_area)\n",
    "print(clipped_polygon_area)"
   ]
  },
  {
   "cell_type": "code",
   "execution_count": 43,
   "id": "6793764b",
   "metadata": {},
   "outputs": [],
   "source": [
    "IOU = np.zeros((100, 3))"
   ]
  },
  {
   "cell_type": "code",
   "execution_count": 46,
   "id": "f31ecc55",
   "metadata": {},
   "outputs": [
    {
     "data": {
      "text/plain": [
       "array([0., 0., 0., 0., 0., 0., 0., 0., 0., 0., 0., 0., 0., 0., 0., 0., 0.,\n",
       "       0., 0., 0., 0., 0., 0., 0., 0., 0., 0., 0., 0., 0., 0., 0., 0., 0.,\n",
       "       0., 0., 0., 0., 0., 0., 0., 0., 0., 0., 0., 0., 0., 0., 0., 0., 0.,\n",
       "       0., 0., 0., 0., 0., 0., 0., 0., 0., 0., 0., 0., 0., 0., 0., 0., 0.,\n",
       "       0., 0., 0., 0., 0., 0., 0., 0., 0., 0., 0., 0., 0., 0., 0., 0., 0.,\n",
       "       0., 0., 0., 0., 0., 0., 0., 0., 0., 0., 0., 0., 0., 0., 0.])"
      ]
     },
     "execution_count": 46,
     "metadata": {},
     "output_type": "execute_result"
    }
   ],
   "source": [
    "IOU[:, 0]"
   ]
  },
  {
   "cell_type": "code",
   "execution_count": 84,
   "id": "9dbb37e1",
   "metadata": {},
   "outputs": [
    {
     "data": {
      "text/plain": [
       "31044"
      ]
     },
     "execution_count": 84,
     "metadata": {},
     "output_type": "execute_result"
    }
   ],
   "source": [
    "# square: \n",
    "38 * 38 * 3 + 38 * 38 * 3 * 4 + \\\n",
    "19 * 19 * 3 + 19 * 19 * 4 * 4 + \\\n",
    "10 * 10 * 3 + 10 * 10 * 4 * 4 + \\\n",
    "5 * 5 * 3 + 5 * 5 * 4 * 4 + \\\n",
    "3 * 3 * 3 + 3 * 3 * 3 * 4 + \\\n",
    "1 * 1 * 3 + 1 * 1 * 3 * 4"
   ]
  },
  {
   "cell_type": "code",
   "execution_count": 81,
   "id": "2759060c",
   "metadata": {},
   "outputs": [
    {
     "data": {
      "text/plain": [
       "8732"
      ]
     },
     "execution_count": 81,
     "metadata": {},
     "output_type": "execute_result"
    }
   ],
   "source": [
    "38 * 38 * 4 + 19 * 19 * 6 + 10 * 10 * 6 + 5 * 5 * 6 + 3 * 3 * 4 + 1 * 1 * 4"
   ]
  },
  {
   "cell_type": "code",
   "execution_count": 88,
   "id": "d386470a",
   "metadata": {},
   "outputs": [
    {
     "data": {
      "text/plain": [
       "21660"
      ]
     },
     "execution_count": 88,
     "metadata": {},
     "output_type": "execute_result"
    }
   ],
   "source": [
    "n_boxes = [3, 4, 4, 4, 3, 3]\n",
    "angles = [4, 4, 4, 4, 4, 4]\n",
    "\n",
    "( angles[0] - 1 + n_boxes[0] * angles[0] ) * 38 * 38"
   ]
  },
  {
   "cell_type": "code",
   "execution_count": 87,
   "id": "8b473a08",
   "metadata": {},
   "outputs": [
    {
     "data": {
      "text/plain": [
       "21660"
      ]
     },
     "execution_count": 87,
     "metadata": {},
     "output_type": "execute_result"
    }
   ],
   "source": [
    "38 * 38 * 3 + 38 * 38 * 3 * 4 "
   ]
  },
  {
   "cell_type": "code",
   "execution_count": null,
   "id": "2fbdb5fd",
   "metadata": {},
   "outputs": [],
   "source": []
  }
 ],
 "metadata": {
  "kernelspec": {
   "display_name": "Python 3 (ipykernel)",
   "language": "python",
   "name": "python3"
  },
  "language_info": {
   "codemirror_mode": {
    "name": "ipython",
    "version": 3
   },
   "file_extension": ".py",
   "mimetype": "text/x-python",
   "name": "python",
   "nbconvert_exporter": "python",
   "pygments_lexer": "ipython3",
   "version": "3.9.10"
  }
 },
 "nbformat": 4,
 "nbformat_minor": 5
}
