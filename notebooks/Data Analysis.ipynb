{
 "cells": [
  {
   "cell_type": "code",
   "execution_count": 32,
   "id": "213a8958",
   "metadata": {},
   "outputs": [],
   "source": [
    "import pandas as pd\n",
    "import numpy as np"
   ]
  },
  {
   "cell_type": "code",
   "execution_count": 3,
   "id": "e70aeead",
   "metadata": {},
   "outputs": [],
   "source": [
    "pd.set_option('display.max_columns', None)"
   ]
  },
  {
   "cell_type": "code",
   "execution_count": 4,
   "id": "c518e56f",
   "metadata": {},
   "outputs": [],
   "source": [
    "df_stu = pd.read_csv('/Users/usmanr/Downloads/Apply Advisor - Students.csv')"
   ]
  },
  {
   "cell_type": "code",
   "execution_count": 5,
   "id": "28edf066",
   "metadata": {},
   "outputs": [],
   "source": [
    "df_uni = pd.read_csv('/Users/usmanr/Downloads/Apply Advisor - Universities.csv', engine='python',encoding='latin1')"
   ]
  },
  {
   "cell_type": "code",
   "execution_count": 6,
   "id": "b72de22c",
   "metadata": {},
   "outputs": [
    {
     "data": {
      "text/html": [
       "<div>\n",
       "<style scoped>\n",
       "    .dataframe tbody tr th:only-of-type {\n",
       "        vertical-align: middle;\n",
       "    }\n",
       "\n",
       "    .dataframe tbody tr th {\n",
       "        vertical-align: top;\n",
       "    }\n",
       "\n",
       "    .dataframe thead th {\n",
       "        text-align: right;\n",
       "    }\n",
       "</style>\n",
       "<table border=\"1\" class=\"dataframe\">\n",
       "  <thead>\n",
       "    <tr style=\"text-align: right;\">\n",
       "      <th></th>\n",
       "      <th>Id</th>\n",
       "      <th>Name</th>\n",
       "      <th>CountryId</th>\n",
       "      <th>Type</th>\n",
       "      <th>WebSiteUrl</th>\n",
       "      <th>SholarshipsAvailable</th>\n",
       "      <th>AthletesAcceptance</th>\n",
       "      <th>InternationalAcceptance</th>\n",
       "      <th>TotalPopulation</th>\n",
       "      <th>FemalePopulationPercent</th>\n",
       "      <th>GraduateStudents</th>\n",
       "      <th>GraduationRate</th>\n",
       "      <th>YearlyNetPrice</th>\n",
       "      <th>EnrollmentFee</th>\n",
       "      <th>AdmissionRate</th>\n",
       "      <th>CurrencyCode</th>\n",
       "      <th>GTM</th>\n",
       "      <th>Status</th>\n",
       "      <th>IsOnline</th>\n",
       "      <th>ContractSigned</th>\n",
       "      <th>RespondedContact</th>\n",
       "      <th>HasAcceptedTermsAndConditions</th>\n",
       "      <th>Contacted</th>\n",
       "      <th>DiscountInstitutionPercent</th>\n",
       "      <th>DiscountInstitutionType</th>\n",
       "      <th>NotificationEmailLang</th>\n",
       "    </tr>\n",
       "  </thead>\n",
       "  <tbody>\n",
       "    <tr>\n",
       "      <th>0</th>\n",
       "      <td>1</td>\n",
       "      <td>Alabama A &amp; M University</td>\n",
       "      <td>321</td>\n",
       "      <td>0</td>\n",
       "      <td>www.aamu.edu/</td>\n",
       "      <td>1</td>\n",
       "      <td>0</td>\n",
       "      <td>0</td>\n",
       "      <td>0</td>\n",
       "      <td>54</td>\n",
       "      <td>0</td>\n",
       "      <td>29%</td>\n",
       "      <td>Not provided</td>\n",
       "      <td>NaN</td>\n",
       "      <td>87</td>\n",
       "      <td>USD</td>\n",
       "      <td>0</td>\n",
       "      <td>0</td>\n",
       "      <td>NaN</td>\n",
       "      <td>0</td>\n",
       "      <td>0</td>\n",
       "      <td>0</td>\n",
       "      <td>0</td>\n",
       "      <td>0.0</td>\n",
       "      <td>NaN</td>\n",
       "      <td>EN</td>\n",
       "    </tr>\n",
       "    <tr>\n",
       "      <th>1</th>\n",
       "      <td>2</td>\n",
       "      <td>University of Alabama at Birmingham</td>\n",
       "      <td>321</td>\n",
       "      <td>1</td>\n",
       "      <td>www.uab.edu</td>\n",
       "      <td>0</td>\n",
       "      <td>0</td>\n",
       "      <td>0</td>\n",
       "      <td>10042</td>\n",
       "      <td>44</td>\n",
       "      <td>2614</td>\n",
       "      <td>58%</td>\n",
       "      <td>10890</td>\n",
       "      <td>300.0</td>\n",
       "      <td>92</td>\n",
       "      <td>USD</td>\n",
       "      <td>-6</td>\n",
       "      <td>0</td>\n",
       "      <td>1.0</td>\n",
       "      <td>1</td>\n",
       "      <td>1</td>\n",
       "      <td>1</td>\n",
       "      <td>1</td>\n",
       "      <td>2.0</td>\n",
       "      <td>YearlyNetPrize</td>\n",
       "      <td>EN</td>\n",
       "    </tr>\n",
       "    <tr>\n",
       "      <th>2</th>\n",
       "      <td>3</td>\n",
       "      <td>Amridge University</td>\n",
       "      <td>321</td>\n",
       "      <td>0</td>\n",
       "      <td>www.amridgeuniversity.edu</td>\n",
       "      <td>0</td>\n",
       "      <td>0</td>\n",
       "      <td>0</td>\n",
       "      <td>0</td>\n",
       "      <td>47</td>\n",
       "      <td>0</td>\n",
       "      <td>0%</td>\n",
       "      <td>10155</td>\n",
       "      <td>300.0</td>\n",
       "      <td>0</td>\n",
       "      <td>USD</td>\n",
       "      <td>0</td>\n",
       "      <td>0</td>\n",
       "      <td>NaN</td>\n",
       "      <td>0</td>\n",
       "      <td>1</td>\n",
       "      <td>1</td>\n",
       "      <td>1</td>\n",
       "      <td>0.0</td>\n",
       "      <td>NaN</td>\n",
       "      <td>EN</td>\n",
       "    </tr>\n",
       "    <tr>\n",
       "      <th>3</th>\n",
       "      <td>4</td>\n",
       "      <td>University of Alabama in Huntsville</td>\n",
       "      <td>321</td>\n",
       "      <td>0</td>\n",
       "      <td>www.uah.edu</td>\n",
       "      <td>0</td>\n",
       "      <td>0</td>\n",
       "      <td>0</td>\n",
       "      <td>0</td>\n",
       "      <td>40</td>\n",
       "      <td>0</td>\n",
       "      <td>49%</td>\n",
       "      <td>19423</td>\n",
       "      <td>500.0</td>\n",
       "      <td>76</td>\n",
       "      <td>USD</td>\n",
       "      <td>0</td>\n",
       "      <td>0</td>\n",
       "      <td>NaN</td>\n",
       "      <td>0</td>\n",
       "      <td>0</td>\n",
       "      <td>0</td>\n",
       "      <td>1</td>\n",
       "      <td>0.0</td>\n",
       "      <td>NaN</td>\n",
       "      <td>EN</td>\n",
       "    </tr>\n",
       "    <tr>\n",
       "      <th>4</th>\n",
       "      <td>5</td>\n",
       "      <td>Alabama State University</td>\n",
       "      <td>321</td>\n",
       "      <td>0</td>\n",
       "      <td>www.alasu.edu</td>\n",
       "      <td>0</td>\n",
       "      <td>0</td>\n",
       "      <td>0</td>\n",
       "      <td>0</td>\n",
       "      <td>61</td>\n",
       "      <td>0</td>\n",
       "      <td>25%</td>\n",
       "      <td>15037</td>\n",
       "      <td>425.0</td>\n",
       "      <td>46</td>\n",
       "      <td>USD</td>\n",
       "      <td>0</td>\n",
       "      <td>0</td>\n",
       "      <td>NaN</td>\n",
       "      <td>0</td>\n",
       "      <td>0</td>\n",
       "      <td>0</td>\n",
       "      <td>1</td>\n",
       "      <td>0.0</td>\n",
       "      <td>NaN</td>\n",
       "      <td>EN</td>\n",
       "    </tr>\n",
       "  </tbody>\n",
       "</table>\n",
       "</div>"
      ],
      "text/plain": [
       "   Id                                 Name  CountryId  Type  \\\n",
       "0   1             Alabama A & M University        321     0   \n",
       "1   2  University of Alabama at Birmingham        321     1   \n",
       "2   3                   Amridge University        321     0   \n",
       "3   4  University of Alabama in Huntsville        321     0   \n",
       "4   5             Alabama State University        321     0   \n",
       "\n",
       "                  WebSiteUrl  SholarshipsAvailable  AthletesAcceptance  \\\n",
       "0              www.aamu.edu/                     1                   0   \n",
       "1                www.uab.edu                     0                   0   \n",
       "2  www.amridgeuniversity.edu                     0                   0   \n",
       "3                www.uah.edu                     0                   0   \n",
       "4              www.alasu.edu                     0                   0   \n",
       "\n",
       "   InternationalAcceptance  TotalPopulation  FemalePopulationPercent  \\\n",
       "0                        0                0                       54   \n",
       "1                        0            10042                       44   \n",
       "2                        0                0                       47   \n",
       "3                        0                0                       40   \n",
       "4                        0                0                       61   \n",
       "\n",
       "   GraduateStudents GraduationRate YearlyNetPrice  EnrollmentFee  \\\n",
       "0                 0            29%   Not provided            NaN   \n",
       "1              2614            58%          10890          300.0   \n",
       "2                 0             0%          10155          300.0   \n",
       "3                 0            49%          19423          500.0   \n",
       "4                 0            25%          15037          425.0   \n",
       "\n",
       "   AdmissionRate CurrencyCode  GTM  Status  IsOnline  ContractSigned  \\\n",
       "0             87          USD    0       0       NaN               0   \n",
       "1             92          USD   -6       0       1.0               1   \n",
       "2              0          USD    0       0       NaN               0   \n",
       "3             76          USD    0       0       NaN               0   \n",
       "4             46          USD    0       0       NaN               0   \n",
       "\n",
       "   RespondedContact  HasAcceptedTermsAndConditions  Contacted  \\\n",
       "0                 0                              0          0   \n",
       "1                 1                              1          1   \n",
       "2                 1                              1          1   \n",
       "3                 0                              0          1   \n",
       "4                 0                              0          1   \n",
       "\n",
       "   DiscountInstitutionPercent DiscountInstitutionType NotificationEmailLang  \n",
       "0                         0.0                     NaN                    EN  \n",
       "1                         2.0          YearlyNetPrize                    EN  \n",
       "2                         0.0                     NaN                    EN  \n",
       "3                         0.0                     NaN                    EN  \n",
       "4                         0.0                     NaN                    EN  "
      ]
     },
     "execution_count": 6,
     "metadata": {},
     "output_type": "execute_result"
    }
   ],
   "source": [
    "df_uni.head()"
   ]
  },
  {
   "cell_type": "code",
   "execution_count": 7,
   "id": "dc40ab69",
   "metadata": {},
   "outputs": [
    {
     "data": {
      "text/html": [
       "<div>\n",
       "<style scoped>\n",
       "    .dataframe tbody tr th:only-of-type {\n",
       "        vertical-align: middle;\n",
       "    }\n",
       "\n",
       "    .dataframe tbody tr th {\n",
       "        vertical-align: top;\n",
       "    }\n",
       "\n",
       "    .dataframe thead th {\n",
       "        text-align: right;\n",
       "    }\n",
       "</style>\n",
       "<table border=\"1\" class=\"dataframe\">\n",
       "  <thead>\n",
       "    <tr style=\"text-align: right;\">\n",
       "      <th></th>\n",
       "      <th>StudentId</th>\n",
       "      <th>GPA</th>\n",
       "      <th>UniversityId</th>\n",
       "      <th>AdmittanceStatus</th>\n",
       "      <th>DepositPaymentStatus</th>\n",
       "      <th>Date</th>\n",
       "    </tr>\n",
       "  </thead>\n",
       "  <tbody>\n",
       "    <tr>\n",
       "      <th>0</th>\n",
       "      <td>1</td>\n",
       "      <td>3.0</td>\n",
       "      <td>99</td>\n",
       "      <td>Rejected</td>\n",
       "      <td>0</td>\n",
       "      <td>1/10/2019</td>\n",
       "    </tr>\n",
       "    <tr>\n",
       "      <th>1</th>\n",
       "      <td>1</td>\n",
       "      <td>3.0</td>\n",
       "      <td>48</td>\n",
       "      <td>Rejected</td>\n",
       "      <td>0</td>\n",
       "      <td>1/10/2019</td>\n",
       "    </tr>\n",
       "    <tr>\n",
       "      <th>2</th>\n",
       "      <td>2</td>\n",
       "      <td>2.2</td>\n",
       "      <td>144</td>\n",
       "      <td>Rejected</td>\n",
       "      <td>0</td>\n",
       "      <td>1/10/2019</td>\n",
       "    </tr>\n",
       "    <tr>\n",
       "      <th>3</th>\n",
       "      <td>3</td>\n",
       "      <td>2.8</td>\n",
       "      <td>35</td>\n",
       "      <td>Admitted</td>\n",
       "      <td>0</td>\n",
       "      <td>1/10/2019</td>\n",
       "    </tr>\n",
       "    <tr>\n",
       "      <th>4</th>\n",
       "      <td>4</td>\n",
       "      <td>3.6</td>\n",
       "      <td>147</td>\n",
       "      <td>Admitted</td>\n",
       "      <td>0</td>\n",
       "      <td>1/10/2019</td>\n",
       "    </tr>\n",
       "  </tbody>\n",
       "</table>\n",
       "</div>"
      ],
      "text/plain": [
       "   StudentId  GPA  UniversityId AdmittanceStatus  DepositPaymentStatus  \\\n",
       "0          1  3.0            99         Rejected                     0   \n",
       "1          1  3.0            48         Rejected                     0   \n",
       "2          2  2.2           144         Rejected                     0   \n",
       "3          3  2.8            35         Admitted                     0   \n",
       "4          4  3.6           147         Admitted                     0   \n",
       "\n",
       "        Date  \n",
       "0  1/10/2019  \n",
       "1  1/10/2019  \n",
       "2  1/10/2019  \n",
       "3  1/10/2019  \n",
       "4  1/10/2019  "
      ]
     },
     "execution_count": 7,
     "metadata": {},
     "output_type": "execute_result"
    }
   ],
   "source": [
    "df_stu.head()"
   ]
  },
  {
   "cell_type": "code",
   "execution_count": 8,
   "id": "83fba8d5",
   "metadata": {},
   "outputs": [],
   "source": [
    "df_merged = df_stu.merge(df_uni, left_on = 'StudentId', right_on='Id')"
   ]
  },
  {
   "cell_type": "code",
   "execution_count": 40,
   "id": "196ceb4c",
   "metadata": {},
   "outputs": [
    {
     "data": {
      "text/html": [
       "<div>\n",
       "<style scoped>\n",
       "    .dataframe tbody tr th:only-of-type {\n",
       "        vertical-align: middle;\n",
       "    }\n",
       "\n",
       "    .dataframe tbody tr th {\n",
       "        vertical-align: top;\n",
       "    }\n",
       "\n",
       "    .dataframe thead th {\n",
       "        text-align: right;\n",
       "    }\n",
       "</style>\n",
       "<table border=\"1\" class=\"dataframe\">\n",
       "  <thead>\n",
       "    <tr style=\"text-align: right;\">\n",
       "      <th></th>\n",
       "      <th>Id</th>\n",
       "      <th>Name</th>\n",
       "      <th>CountryId</th>\n",
       "      <th>Type</th>\n",
       "      <th>WebSiteUrl</th>\n",
       "      <th>SholarshipsAvailable</th>\n",
       "      <th>AthletesAcceptance</th>\n",
       "      <th>InternationalAcceptance</th>\n",
       "      <th>TotalPopulation</th>\n",
       "      <th>FemalePopulationPercent</th>\n",
       "      <th>GraduateStudents</th>\n",
       "      <th>GraduationRate</th>\n",
       "      <th>YearlyNetPrice</th>\n",
       "      <th>EnrollmentFee</th>\n",
       "      <th>AdmissionRate</th>\n",
       "      <th>CurrencyCode</th>\n",
       "      <th>GTM</th>\n",
       "      <th>Status</th>\n",
       "      <th>IsOnline</th>\n",
       "      <th>ContractSigned</th>\n",
       "      <th>RespondedContact</th>\n",
       "      <th>HasAcceptedTermsAndConditions</th>\n",
       "      <th>Contacted</th>\n",
       "      <th>DiscountInstitutionPercent</th>\n",
       "      <th>DiscountInstitutionType</th>\n",
       "      <th>NotificationEmailLang</th>\n",
       "    </tr>\n",
       "  </thead>\n",
       "  <tbody>\n",
       "    <tr>\n",
       "      <th>0</th>\n",
       "      <td>1</td>\n",
       "      <td>Alabama A &amp; M University</td>\n",
       "      <td>321</td>\n",
       "      <td>0</td>\n",
       "      <td>www.aamu.edu/</td>\n",
       "      <td>1</td>\n",
       "      <td>0</td>\n",
       "      <td>0</td>\n",
       "      <td>0</td>\n",
       "      <td>54</td>\n",
       "      <td>0</td>\n",
       "      <td>29%</td>\n",
       "      <td>Not provided</td>\n",
       "      <td>NaN</td>\n",
       "      <td>87</td>\n",
       "      <td>USD</td>\n",
       "      <td>0</td>\n",
       "      <td>0</td>\n",
       "      <td>NaN</td>\n",
       "      <td>0</td>\n",
       "      <td>0</td>\n",
       "      <td>0</td>\n",
       "      <td>0</td>\n",
       "      <td>0.0</td>\n",
       "      <td>NaN</td>\n",
       "      <td>EN</td>\n",
       "    </tr>\n",
       "    <tr>\n",
       "      <th>1</th>\n",
       "      <td>2</td>\n",
       "      <td>University of Alabama at Birmingham</td>\n",
       "      <td>321</td>\n",
       "      <td>1</td>\n",
       "      <td>www.uab.edu</td>\n",
       "      <td>0</td>\n",
       "      <td>0</td>\n",
       "      <td>0</td>\n",
       "      <td>10042</td>\n",
       "      <td>44</td>\n",
       "      <td>2614</td>\n",
       "      <td>58%</td>\n",
       "      <td>10890</td>\n",
       "      <td>300.0</td>\n",
       "      <td>92</td>\n",
       "      <td>USD</td>\n",
       "      <td>-6</td>\n",
       "      <td>0</td>\n",
       "      <td>1.0</td>\n",
       "      <td>1</td>\n",
       "      <td>1</td>\n",
       "      <td>1</td>\n",
       "      <td>1</td>\n",
       "      <td>2.0</td>\n",
       "      <td>YearlyNetPrize</td>\n",
       "      <td>EN</td>\n",
       "    </tr>\n",
       "    <tr>\n",
       "      <th>2</th>\n",
       "      <td>3</td>\n",
       "      <td>Amridge University</td>\n",
       "      <td>321</td>\n",
       "      <td>0</td>\n",
       "      <td>www.amridgeuniversity.edu</td>\n",
       "      <td>0</td>\n",
       "      <td>0</td>\n",
       "      <td>0</td>\n",
       "      <td>0</td>\n",
       "      <td>47</td>\n",
       "      <td>0</td>\n",
       "      <td>0%</td>\n",
       "      <td>10155</td>\n",
       "      <td>300.0</td>\n",
       "      <td>0</td>\n",
       "      <td>USD</td>\n",
       "      <td>0</td>\n",
       "      <td>0</td>\n",
       "      <td>NaN</td>\n",
       "      <td>0</td>\n",
       "      <td>1</td>\n",
       "      <td>1</td>\n",
       "      <td>1</td>\n",
       "      <td>0.0</td>\n",
       "      <td>NaN</td>\n",
       "      <td>EN</td>\n",
       "    </tr>\n",
       "    <tr>\n",
       "      <th>3</th>\n",
       "      <td>4</td>\n",
       "      <td>University of Alabama in Huntsville</td>\n",
       "      <td>321</td>\n",
       "      <td>0</td>\n",
       "      <td>www.uah.edu</td>\n",
       "      <td>0</td>\n",
       "      <td>0</td>\n",
       "      <td>0</td>\n",
       "      <td>0</td>\n",
       "      <td>40</td>\n",
       "      <td>0</td>\n",
       "      <td>49%</td>\n",
       "      <td>19423</td>\n",
       "      <td>500.0</td>\n",
       "      <td>76</td>\n",
       "      <td>USD</td>\n",
       "      <td>0</td>\n",
       "      <td>0</td>\n",
       "      <td>NaN</td>\n",
       "      <td>0</td>\n",
       "      <td>0</td>\n",
       "      <td>0</td>\n",
       "      <td>1</td>\n",
       "      <td>0.0</td>\n",
       "      <td>NaN</td>\n",
       "      <td>EN</td>\n",
       "    </tr>\n",
       "    <tr>\n",
       "      <th>4</th>\n",
       "      <td>5</td>\n",
       "      <td>Alabama State University</td>\n",
       "      <td>321</td>\n",
       "      <td>0</td>\n",
       "      <td>www.alasu.edu</td>\n",
       "      <td>0</td>\n",
       "      <td>0</td>\n",
       "      <td>0</td>\n",
       "      <td>0</td>\n",
       "      <td>61</td>\n",
       "      <td>0</td>\n",
       "      <td>25%</td>\n",
       "      <td>15037</td>\n",
       "      <td>425.0</td>\n",
       "      <td>46</td>\n",
       "      <td>USD</td>\n",
       "      <td>0</td>\n",
       "      <td>0</td>\n",
       "      <td>NaN</td>\n",
       "      <td>0</td>\n",
       "      <td>0</td>\n",
       "      <td>0</td>\n",
       "      <td>1</td>\n",
       "      <td>0.0</td>\n",
       "      <td>NaN</td>\n",
       "      <td>EN</td>\n",
       "    </tr>\n",
       "  </tbody>\n",
       "</table>\n",
       "</div>"
      ],
      "text/plain": [
       "   Id                                 Name  CountryId  Type  \\\n",
       "0   1             Alabama A & M University        321     0   \n",
       "1   2  University of Alabama at Birmingham        321     1   \n",
       "2   3                   Amridge University        321     0   \n",
       "3   4  University of Alabama in Huntsville        321     0   \n",
       "4   5             Alabama State University        321     0   \n",
       "\n",
       "                  WebSiteUrl  SholarshipsAvailable  AthletesAcceptance  \\\n",
       "0              www.aamu.edu/                     1                   0   \n",
       "1                www.uab.edu                     0                   0   \n",
       "2  www.amridgeuniversity.edu                     0                   0   \n",
       "3                www.uah.edu                     0                   0   \n",
       "4              www.alasu.edu                     0                   0   \n",
       "\n",
       "   InternationalAcceptance  TotalPopulation  FemalePopulationPercent  \\\n",
       "0                        0                0                       54   \n",
       "1                        0            10042                       44   \n",
       "2                        0                0                       47   \n",
       "3                        0                0                       40   \n",
       "4                        0                0                       61   \n",
       "\n",
       "   GraduateStudents GraduationRate YearlyNetPrice  EnrollmentFee  \\\n",
       "0                 0            29%   Not provided            NaN   \n",
       "1              2614            58%          10890          300.0   \n",
       "2                 0             0%          10155          300.0   \n",
       "3                 0            49%          19423          500.0   \n",
       "4                 0            25%          15037          425.0   \n",
       "\n",
       "   AdmissionRate CurrencyCode  GTM  Status  IsOnline  ContractSigned  \\\n",
       "0             87          USD    0       0       NaN               0   \n",
       "1             92          USD   -6       0       1.0               1   \n",
       "2              0          USD    0       0       NaN               0   \n",
       "3             76          USD    0       0       NaN               0   \n",
       "4             46          USD    0       0       NaN               0   \n",
       "\n",
       "   RespondedContact  HasAcceptedTermsAndConditions  Contacted  \\\n",
       "0                 0                              0          0   \n",
       "1                 1                              1          1   \n",
       "2                 1                              1          1   \n",
       "3                 0                              0          1   \n",
       "4                 0                              0          1   \n",
       "\n",
       "   DiscountInstitutionPercent DiscountInstitutionType NotificationEmailLang  \n",
       "0                         0.0                     NaN                    EN  \n",
       "1                         2.0          YearlyNetPrize                    EN  \n",
       "2                         0.0                     NaN                    EN  \n",
       "3                         0.0                     NaN                    EN  \n",
       "4                         0.0                     NaN                    EN  "
      ]
     },
     "execution_count": 40,
     "metadata": {},
     "output_type": "execute_result"
    }
   ],
   "source": [
    "df_uni.head()"
   ]
  },
  {
   "cell_type": "code",
   "execution_count": 10,
   "id": "dd3df678",
   "metadata": {},
   "outputs": [
    {
     "data": {
      "text/plain": [
       "(179, 32)"
      ]
     },
     "execution_count": 10,
     "metadata": {},
     "output_type": "execute_result"
    }
   ],
   "source": [
    "df_merged.shape"
   ]
  },
  {
   "cell_type": "code",
   "execution_count": 12,
   "id": "a617f456",
   "metadata": {},
   "outputs": [
    {
     "data": {
      "text/plain": [
       "175"
      ]
     },
     "execution_count": 12,
     "metadata": {},
     "output_type": "execute_result"
    }
   ],
   "source": [
    "# how many students contacted\n",
    "len(df_merged[df_merged['Contacted'] == 1])"
   ]
  },
  {
   "cell_type": "code",
   "execution_count": 20,
   "id": "badcfc7a",
   "metadata": {},
   "outputs": [
    {
     "data": {
      "text/plain": [
       "0.07861635220125786"
      ]
     },
     "execution_count": 20,
     "metadata": {},
     "output_type": "execute_result"
    }
   ],
   "source": [
    "# how many contactyed are online\n",
    "\n",
    "len(df_uni[(df_uni['IsOnline'] == 1) & (df_uni['Contacted'] == 1)]) / len(df_uni[df_uni['Contacted'] == 1])"
   ]
  },
  {
   "cell_type": "code",
   "execution_count": 41,
   "id": "7cd04a89",
   "metadata": {},
   "outputs": [
    {
     "data": {
      "text/plain": [
       "1      10890\n",
       "5      21676\n",
       "11      1392\n",
       "18      8781\n",
       "30      5206\n",
       "31     17914\n",
       "34      8004\n",
       "47     29026\n",
       "48      4455\n",
       "49      6860\n",
       "78     28459\n",
       "79     11572\n",
       "80      9215\n",
       "98      7497\n",
       "136    10154\n",
       "143    13581\n",
       "146    12603\n",
       "147    15867\n",
       "150    17803\n",
       "158    11723\n",
       "161     3743\n",
       "205    11180\n",
       "251     5392\n",
       "271     4014\n",
       "296    32091\n",
       "Name: YearlyNetPrice, dtype: object"
      ]
     },
     "execution_count": 41,
     "metadata": {},
     "output_type": "execute_result"
    }
   ],
   "source": [
    "df_uni[(df_uni['YearlyNetPrice'] != 'Not provided') & (df_uni['ContractSigned'] != 0)]['YearlyNetPrice']"
   ]
  },
  {
   "cell_type": "code",
   "execution_count": 44,
   "id": "7c68c93f",
   "metadata": {},
   "outputs": [],
   "source": [
    "l = list(df_uni[(df_uni['YearlyNetPrice'] != 'Not provided') & (df_uni['ContractSigned'] != 1)]['YearlyNetPrice'])\n",
    "\n",
    "l = list(df_uni[(df_uni['YearlyNetPrice'] != 'Not provided') & (df_uni['ContractSigned'] != 1)]['YearlyNetPrice'])"
   ]
  },
  {
   "cell_type": "code",
   "execution_count": 45,
   "id": "be894e64",
   "metadata": {},
   "outputs": [
    {
     "data": {
      "text/plain": [
       "14412.101503759399"
      ]
     },
     "execution_count": 45,
     "metadata": {},
     "output_type": "execute_result"
    }
   ],
   "source": [
    "np.mean(list(map(int, l)))"
   ]
  },
  {
   "cell_type": "code",
   "execution_count": 48,
   "id": "62906dda",
   "metadata": {},
   "outputs": [],
   "source": [
    "l = list(df_uni[(~df_uni['EnrollmentFee'].isna()) & (df_uni['SholarshipsAvailable'] != 1)]['EnrollmentFee'])"
   ]
  },
  {
   "cell_type": "code",
   "execution_count": 50,
   "id": "bf038d85",
   "metadata": {},
   "outputs": [
    {
     "data": {
      "text/plain": [
       "300.0"
      ]
     },
     "execution_count": 50,
     "metadata": {},
     "output_type": "execute_result"
    }
   ],
   "source": [
    "np.median(list(map(int, l)))"
   ]
  },
  {
   "cell_type": "code",
   "execution_count": 51,
   "id": "1d14774e",
   "metadata": {},
   "outputs": [
    {
     "data": {
      "text/plain": [
       "Index(['StudentId', 'GPA', 'UniversityId', 'AdmittanceStatus',\n",
       "       'DepositPaymentStatus', 'Date'],\n",
       "      dtype='object')"
      ]
     },
     "execution_count": 51,
     "metadata": {},
     "output_type": "execute_result"
    }
   ],
   "source": [
    "df_stu.columns"
   ]
  },
  {
   "cell_type": "code",
   "execution_count": 53,
   "id": "811a3fee",
   "metadata": {},
   "outputs": [],
   "source": [
    "l = list(df_stu['GPA'])"
   ]
  },
  {
   "cell_type": "code",
   "execution_count": 54,
   "id": "2bdaa7c5",
   "metadata": {},
   "outputs": [
    {
     "data": {
      "text/plain": [
       "3.0921787709497206"
      ]
     },
     "execution_count": 54,
     "metadata": {},
     "output_type": "execute_result"
    }
   ],
   "source": [
    "np.mean(l)"
   ]
  },
  {
   "cell_type": "code",
   "execution_count": 55,
   "id": "3a635d17",
   "metadata": {},
   "outputs": [
    {
     "data": {
      "text/plain": [
       "0.5504140152218867"
      ]
     },
     "execution_count": 55,
     "metadata": {},
     "output_type": "execute_result"
    }
   ],
   "source": [
    "np.std(l)"
   ]
  },
  {
   "cell_type": "code",
   "execution_count": 56,
   "id": "eac6b9fc",
   "metadata": {},
   "outputs": [
    {
     "data": {
      "text/plain": [
       "2.1564749450725134"
      ]
     },
     "execution_count": 56,
     "metadata": {},
     "output_type": "execute_result"
    }
   ],
   "source": [
    "np.mean(l) - 1.7 * np.std(l)"
   ]
  },
  {
   "cell_type": "code",
   "execution_count": 58,
   "id": "7005c406",
   "metadata": {},
   "outputs": [
    {
     "data": {
      "text/plain": [
       "0.33333333333333337"
      ]
     },
     "execution_count": 58,
     "metadata": {},
     "output_type": "execute_result"
    }
   ],
   "source": [
    "0.1 / 0.3"
   ]
  },
  {
   "cell_type": "code",
   "execution_count": null,
   "id": "e5b99550",
   "metadata": {},
   "outputs": [],
   "source": []
  }
 ],
 "metadata": {
  "kernelspec": {
   "display_name": "Python 3 (ipykernel)",
   "language": "python",
   "name": "python3"
  },
  "language_info": {
   "codemirror_mode": {
    "name": "ipython",
    "version": 3
   },
   "file_extension": ".py",
   "mimetype": "text/x-python",
   "name": "python",
   "nbconvert_exporter": "python",
   "pygments_lexer": "ipython3",
   "version": "3.9.10"
  }
 },
 "nbformat": 4,
 "nbformat_minor": 5
}
