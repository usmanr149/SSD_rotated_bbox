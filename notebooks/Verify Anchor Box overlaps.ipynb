{
 "cells": [
  {
   "cell_type": "code",
   "execution_count": 1,
   "id": "f88d0b16",
   "metadata": {},
   "outputs": [],
   "source": [
    "import cv2\n",
    "import numpy as np\n",
    "\n",
    "from matplotlib import pyplot as plt\n",
    "\n",
    "%load_ext autoreload\n",
    "%autoreload 2"
   ]
  },
  {
   "cell_type": "code",
   "execution_count": 2,
   "id": "e47509d3",
   "metadata": {},
   "outputs": [],
   "source": [
    "import tensorflow as tf"
   ]
  },
  {
   "cell_type": "code",
   "execution_count": 3,
   "id": "7656814e",
   "metadata": {},
   "outputs": [],
   "source": [
    "plt.rcParams[\"figure.figsize\"] = (12,12)"
   ]
  },
  {
   "cell_type": "code",
   "execution_count": 4,
   "id": "a6bc9ab1",
   "metadata": {},
   "outputs": [],
   "source": [
    "import sys\n",
    "import glob"
   ]
  },
  {
   "cell_type": "code",
   "execution_count": 5,
   "id": "718b0416",
   "metadata": {},
   "outputs": [],
   "source": [
    "sys.path.append('../')"
   ]
  },
  {
   "cell_type": "code",
   "execution_count": 6,
   "id": "7c8b5a0c",
   "metadata": {},
   "outputs": [],
   "source": [
    "from bbox_utils.bbox import generate_default_boxes, generate_default_boxes, rotateRectangle\n",
    "from src.config import *"
   ]
  },
  {
   "cell_type": "code",
   "execution_count": 7,
   "id": "d9c8cad3",
   "metadata": {},
   "outputs": [],
   "source": [
    "from bbox_utils.numbaClipping import getIOU, getIOUOverallDefaultBox"
   ]
  },
  {
   "cell_type": "code",
   "execution_count": 8,
   "id": "3bde16ef",
   "metadata": {},
   "outputs": [],
   "source": [
    "# Blue color in BGR\n",
    "color = (255, 0, 0)\n",
    " \n",
    "# Line thickness of 2 px\n",
    "thickness = 1"
   ]
  },
  {
   "cell_type": "code",
   "execution_count": 9,
   "id": "bf064887",
   "metadata": {},
   "outputs": [],
   "source": [
    "prior_boxes, prior_boxes_coco = generate_default_boxes(feature_map_shapes, 6, aspect_ratios, angles)\n",
    "\n",
    "prior_boxes = np.array(prior_boxes, dtype=np.float64) * 300\n",
    "\n",
    "prior_boxes_coco = np.array(prior_boxes_coco, dtype=np.float64)\n",
    "\n",
    "prior_boxes_coco[:, :4] = prior_boxes_coco[:, :4] * 300"
   ]
  },
  {
   "cell_type": "code",
   "execution_count": 10,
   "id": "21d5ed91",
   "metadata": {},
   "outputs": [
    {
     "name": "stdout",
     "output_type": "stream",
     "text": [
      "31044\n"
     ]
    },
    {
     "data": {
      "text/plain": [
       "True"
      ]
     },
     "execution_count": 10,
     "metadata": {},
     "output_type": "execute_result"
    }
   ],
   "source": [
    "print(len(prior_boxes_coco))\n",
    "len(prior_boxes) == len(prior_boxes_coco)"
   ]
  },
  {
   "cell_type": "code",
   "execution_count": null,
   "id": "26378148",
   "metadata": {},
   "outputs": [],
   "source": [
    "with open('/Users/usmanr/workspace/rotatedBoxes_Inputs/input/train/COCO_train2014_000000000036.txt') as f:\n",
    "    data = f.readlines()"
   ]
  },
  {
   "cell_type": "code",
   "execution_count": null,
   "id": "3c6c4532",
   "metadata": {},
   "outputs": [],
   "source": [
    "data = data[0].split(',')\n",
    "gt_box = list(map(float, data))\n",
    "gt_box = gt_box[1:]"
   ]
  },
  {
   "cell_type": "code",
   "execution_count": null,
   "id": "70cfdbed",
   "metadata": {},
   "outputs": [],
   "source": [
    "image = cv2.imread('/Users/usmanr/fiftyone/coco-2014/train/data/COCO_train2014_000000000110.jpg')\n",
    "\n",
    "width = image.shape[0]\n",
    "height = image.shape[1]\n",
    "\n",
    "image = cv2.cvtColor(image, cv2.COLOR_BGR2RGB)\n"
   ]
  },
  {
   "cell_type": "code",
   "execution_count": null,
   "id": "1d66fcd9",
   "metadata": {},
   "outputs": [],
   "source": [
    "plt.imshow(image)"
   ]
  },
  {
   "cell_type": "code",
   "execution_count": null,
   "id": "05d4d082",
   "metadata": {},
   "outputs": [],
   "source": [
    "# for i in range(0, 8, 2):\n",
    "#     gt_box[i] = gt_box[i] / height\n",
    "\n",
    "# for i in range(1, 8, 2):\n",
    "#     gt_box[i] = gt_box[i] / width"
   ]
  },
  {
   "cell_type": "code",
   "execution_count": null,
   "id": "38616bd4",
   "metadata": {},
   "outputs": [],
   "source": [
    "gt_box"
   ]
  },
  {
   "cell_type": "code",
   "execution_count": null,
   "id": "e40682d0",
   "metadata": {},
   "outputs": [],
   "source": [
    "gt_box = [0.523058530183727, 0.65878784, 0.6034454068241469, 0.5107554, 0.7110888976377953, 0.54469654, 0.6307020209973754, 0.692729]"
   ]
  },
  {
   "cell_type": "code",
   "execution_count": null,
   "id": "4dcc863d",
   "metadata": {},
   "outputs": [],
   "source": [
    "np.array(gt_box) * 300"
   ]
  },
  {
   "cell_type": "code",
   "execution_count": null,
   "id": "9d53882d",
   "metadata": {},
   "outputs": [],
   "source": [
    "gt_box = np.array(gt_box)\n",
    "\n",
    "gt_box = gt_box.reshape(4, 2)\n",
    "\n",
    "prior_boxes= np.array(prior_boxes, dtype=np.float64)\n",
    "\n",
    "for i in range(len(prior_boxes)):\n",
    "    \n",
    "    iou = getIOU(prior_boxes[i], gt_box)\n",
    "    \n",
    "    if iou > 0.5:\n",
    "    \n",
    "        corners = np.array(prior_boxes[i]) * 300\n",
    "\n",
    "        corners = corners.astype(np.int32)\n",
    "\n",
    "        corners = corners.reshape(4, 2)\n",
    "\n",
    "        corners = corners.reshape((-1, 1, 2))\n",
    "\n",
    "        image = cv2.polylines(image, [corners],\n",
    "                              True, color, 1)\n",
    "\n",
    "        \n",
    "corners = np.array(gt_box) * 300\n",
    "\n",
    "corners = corners.astype(np.int32)\n",
    "\n",
    "corners = corners.reshape(4, 2)\n",
    "\n",
    "corners = corners.reshape((-1, 1, 2))\n",
    "\n",
    "image = cv2.polylines(image, [corners],\n",
    "                      True, (52, 164, 235), 1)\n",
    "        \n",
    "plt.figure(figsize=(10,10))\n",
    "\n",
    "plt.imshow(image)"
   ]
  },
  {
   "cell_type": "code",
   "execution_count": null,
   "id": "84cc70b1",
   "metadata": {},
   "outputs": [],
   "source": [
    "with open('/Users/usmanr/workspace/rotatedBoxes_Inputs/input/train/COCO_train2014_000000000049.txt') as f:\n",
    "    data = f.readlines()\n",
    "    \n",
    "print(data)"
   ]
  },
  {
   "cell_type": "code",
   "execution_count": null,
   "id": "d88fcec0",
   "metadata": {},
   "outputs": [],
   "source": [
    "getIOU(prior_boxes[i], gt_box)"
   ]
  },
  {
   "cell_type": "code",
   "execution_count": null,
   "id": "f3ab1094",
   "metadata": {},
   "outputs": [],
   "source": [
    "with open('/Users/usmanr/workspace/rotatedBoxes_Inputs/input/train/COCO_train2014_000000002089.txt.coco_theta') as f:\n",
    "    datas = f.readlines()\n",
    "    \n",
    "image = cv2.imread('/Users/usmanr/fiftyone/coco-2014/train/data/COCO_train2014_000000002089.jpg')\n",
    "\n",
    "width = image.shape[0]\n",
    "height = image.shape[1]\n",
    "\n",
    "image = cv2.cvtColor(image, cv2.COLOR_BGR2RGB)\n",
    "\n",
    "image = cv2.resize(image, (300, 300))\n",
    "\n",
    "for i in range(len(datas)):\n",
    "    data = datas[i].split(',')\n",
    "    gt_box = list(map(float, data))\n",
    "    gt_box = gt_box[1:]\n",
    "    \n",
    "    for i in range(0, 8, 2):\n",
    "        gt_box[i] = gt_box[i] / height\n",
    "\n",
    "    for i in range(1, 8, 2):\n",
    "        gt_box[i] = gt_box[i] / width\n",
    "\n",
    "    gt_box = np.array(gt_box, dtype=np.float64) * 300\n",
    "            \n",
    "    result = getIOUOverallDefaultBox(prior_boxes, gt_box)\n",
    "    \n",
    "    for i in range(len(result)):\n",
    "\n",
    "        if result[i] > 0.5:\n",
    "\n",
    "            corners = np.array(prior_boxes[i])\n",
    "\n",
    "            corners = corners.astype(np.int32)\n",
    "\n",
    "            corners = corners.reshape(4, 2)\n",
    "\n",
    "            corners = corners.reshape((-1, 1, 2))\n",
    "\n",
    "            image = cv2.polylines(image, [corners],\n",
    "                                  True, color, 1)\n",
    "\n",
    "        \n",
    "    corners = np.array(gt_box)\n",
    "\n",
    "    corners = corners.astype(np.int32)\n",
    "\n",
    "    corners = corners.reshape(4, 2)\n",
    "\n",
    "    corners = corners.reshape((-1, 1, 2))\n",
    "\n",
    "    image = cv2.polylines(image, [corners],\n",
    "                          True, (52, 164, 235), 1)\n",
    "        \n",
    "plt.figure(figsize=(10,10))\n",
    "\n",
    "plt.imshow(image)"
   ]
  },
  {
   "cell_type": "code",
   "execution_count": null,
   "id": "2847f552",
   "metadata": {},
   "outputs": [],
   "source": [
    "datas"
   ]
  },
  {
   "cell_type": "code",
   "execution_count": null,
   "id": "870b1268",
   "metadata": {},
   "outputs": [],
   "source": [
    "x = [587.18286,328.64633,602.2195,326.97562,604.62195,348.59756,589.5853,350.26828]\n",
    "\n",
    "width = ( max(x[0], x[2], x[4], x[6]) + min(x[0], x[2], x[4], x[6]) ) / 2\n",
    "\n",
    "height = ( max(x[1], x[3], x[5], x[7]) + min(x[1], x[3], x[5], x[7]) ) / 2\n",
    "\n",
    "width, height"
   ]
  },
  {
   "cell_type": "code",
   "execution_count": null,
   "id": "4523bc32",
   "metadata": {},
   "outputs": [],
   "source": [
    "width / height"
   ]
  },
  {
   "cell_type": "code",
   "execution_count": null,
   "id": "a6aaa131",
   "metadata": {},
   "outputs": [],
   "source": [
    "image = cv2.imread('/Users/usmanr/fiftyone/coco-2014/train/data/COCO_train2014_000000001390.jpg')\n",
    "\n",
    "width = image.shape[0]\n",
    "height = image.shape[1]\n",
    "\n",
    "image = cv2.cvtColor(image, cv2.COLOR_BGR2RGB)\n",
    "\n",
    "corners = np.array(x)\n",
    "\n",
    "corners = corners.astype(np.int32)\n",
    "\n",
    "corners = corners.reshape(4, 2)\n",
    "\n",
    "corners = corners.reshape((-1, 1, 2))\n",
    "\n",
    "image = cv2.polylines(image, [corners],\n",
    "                      True, color, 2)\n",
    "\n",
    "plt.figure(figsize=(10,10))\n",
    "\n",
    "plt.imshow(image)"
   ]
  },
  {
   "cell_type": "code",
   "execution_count": null,
   "id": "8c7ccc31",
   "metadata": {},
   "outputs": [],
   "source": [
    "result = getIOUOverallDefaultBox(prior_boxes, gt_box)"
   ]
  },
  {
   "cell_type": "code",
   "execution_count": null,
   "id": "3c204e58",
   "metadata": {},
   "outputs": [],
   "source": [
    "result"
   ]
  },
  {
   "cell_type": "code",
   "execution_count": null,
   "id": "e89f4fa6",
   "metadata": {},
   "outputs": [],
   "source": [
    "with open('/Users/usmanr/workspace/rotatedBoxes_Inputs/input/train/COCO_train2014_000000000036.txt') as f:\n",
    "    data = f.readlines()\n",
    "    \n",
    "image = cv2.imread('/Users/usmanr/fiftyone/coco-2014/train/data/COCO_train2014_000000000036.jpg')\n",
    "\n",
    "width = image.shape[0]\n",
    "height = image.shape[1]\n",
    "\n",
    "image = cv2.cvtColor(image, cv2.COLOR_BGR2RGB)\n",
    "\n",
    "image = cv2.resize(image, (300, 300))\n",
    "\n",
    "data = data[0].split(',')\n",
    "gt_box = list(map(float, data))\n",
    "gt_box = gt_box[1:]\n",
    "\n",
    "for i in range(0, 8, 2):\n",
    "    gt_box[i] = gt_box[i] / height\n",
    "\n",
    "for i in range(1, 8, 2):\n",
    "    gt_box[i] = gt_box[i] / width\n",
    "    \n",
    "gt_box = np.array(gt_box)\n",
    "\n",
    "gt_box = gt_box.reshape(4, 2)\n",
    "\n",
    "prior_boxes= np.array(prior_boxes, dtype=np.float64)\n",
    "\n",
    "for i in range(1000, 1050, 1):\n",
    "    corners = np.array(prior_boxes[i])\n",
    "\n",
    "    corners = corners.astype(np.int32)\n",
    "\n",
    "    corners = corners.reshape(4, 2)\n",
    "\n",
    "    corners = corners.reshape((-1, 1, 2))\n",
    "\n",
    "    image = cv2.polylines(image, [corners],\n",
    "                          True, color, 1)\n",
    "\n",
    "        \n",
    "corners = np.array(gt_box) * 300\n",
    "\n",
    "corners = corners.astype(np.int32)\n",
    "\n",
    "corners = corners.reshape(4, 2)\n",
    "\n",
    "corners = corners.reshape((-1, 1, 2))\n",
    "\n",
    "image = cv2.polylines(image, [corners],\n",
    "                      True, (52, 164, 235), 1)\n",
    "        \n",
    "plt.figure(figsize=(10,10))\n",
    "\n",
    "plt.imshow(image)"
   ]
  },
  {
   "cell_type": "code",
   "execution_count": null,
   "id": "e2552dce",
   "metadata": {},
   "outputs": [],
   "source": [
    "np.array(prior_boxes[i])"
   ]
  },
  {
   "cell_type": "code",
   "execution_count": null,
   "id": "f36e5d8d",
   "metadata": {},
   "outputs": [],
   "source": [
    "x[:-1]"
   ]
  },
  {
   "cell_type": "code",
   "execution_count": null,
   "id": "a672c98c",
   "metadata": {},
   "outputs": [],
   "source": [
    "number_of_feature_maps = 6\n",
    "def calculate_scale_of_default_boxes(k, m, s_max = 0.95, s_min = 0.2):\n",
    "    return s_min + (s_max - s_min) * (k - 1) / (m - 1)\n",
    "\n",
    "for k, f_k in enumerate(feature_map_shapes):\n",
    "    s_k = calculate_scale_of_default_boxes(k, m = number_of_feature_maps, s_max = 0.8, s_min = 0.2)\n",
    "    print(s_k)\n",
    "    s_k_prime = np.sqrt(abs(s_k * calculate_scale_of_default_boxes(k + 1, m = 6)))"
   ]
  },
  {
   "cell_type": "code",
   "execution_count": null,
   "id": "d5906846",
   "metadata": {},
   "outputs": [],
   "source": [
    "prior_boxes = []\n",
    "\n",
    "cx = 0.5\n",
    "cy = 0.5\n",
    "\n",
    "s_max = 0.7\n",
    "s_min = 0.03\n",
    "\n",
    "for k, f_k in enumerate(feature_map_shapes):\n",
    "    if k == 1:\n",
    "        s_k = calculate_scale_of_default_boxes(k + 1, m = number_of_feature_maps, s_max=s_max, s_min=s_min)\n",
    "        s_k_prime = np.sqrt(s_k * calculate_scale_of_default_boxes(k + 1, m = number_of_feature_maps, \n",
    "                                                                   s_max=s_max, s_min=s_min))\n",
    "\n",
    "         # for the square box don't rotate by 90\n",
    "#         for angle in angles[:-1]:\n",
    "#             prior_boxes.append(rotateRectangle(cx, cy, s_k, s_k, angle, 'deg'))\n",
    "#             prior_boxes.append(rotateRectangle(cx, cy, s_k_prime, s_k_prime, angle, 'deg'))\n",
    "\n",
    "#         for angle in angles:\n",
    "#             prior_boxes.append(rotateRectangle(cx, cy, s_k, s_k_prime, angle, 'deg'))\n",
    "\n",
    "        for ar in aspect_ratios[k]:\n",
    "            for angle in [0]:\n",
    "                prior_boxes.append(rotateRectangle(cx, cy, s_k*np.sqrt(ar), s_k/np.sqrt(ar), angle, 'deg'))\n",
    "                prior_boxes.append(rotateRectangle(cx, cy, s_k_prime*np.sqrt(ar), s_k_prime/np.sqrt(ar), angle, 'deg'))\n",
    "            \n",
    "prior_boxes = np.array(prior_boxes) * 300"
   ]
  },
  {
   "cell_type": "code",
   "execution_count": null,
   "id": "7b1b58b9",
   "metadata": {},
   "outputs": [],
   "source": [
    "len(prior_boxes)"
   ]
  },
  {
   "cell_type": "code",
   "execution_count": null,
   "id": "631cf3ac",
   "metadata": {},
   "outputs": [],
   "source": [
    "image = np.zeros((300, 300, 3))\n",
    "\n",
    "for corners in prior_boxes:\n",
    "    corners = corners.astype(np.int32)\n",
    "\n",
    "    corners = corners.reshape(4, 2)\n",
    "\n",
    "    corners = corners.reshape((-1, 1, 2))\n",
    "\n",
    "    image = cv2.polylines(image, [corners],\n",
    "                          True, color, 1)\n",
    "    \n",
    "plt.figure(figsize=(10,10))\n",
    "\n",
    "plt.imshow(image)"
   ]
  },
  {
   "cell_type": "code",
   "execution_count": null,
   "id": "2e27df8d",
   "metadata": {},
   "outputs": [],
   "source": [
    "with open('/Users/usmanr/workspace/rotatedBoxes_Inputs/input/train/COCO_train2014_000000086229.txt') as f:\n",
    "    gt_boxes = f.readlines()\n",
    "    \n",
    "with open('/Users/usmanr/workspace/rotatedBoxes_Inputs/input/train/COCO_train2014_000000086229.txt.coco_theta') as f:\n",
    "    gt_boxes_coco = f.readlines()"
   ]
  },
  {
   "cell_type": "code",
   "execution_count": null,
   "id": "9786b711",
   "metadata": {},
   "outputs": [],
   "source": [
    "from data_pipeline.getData import read_data, resize_images_and_labels"
   ]
  },
  {
   "cell_type": "code",
   "execution_count": null,
   "id": "0da3786f",
   "metadata": {},
   "outputs": [],
   "source": [
    "image, labelled_gt_box_coords, labelled_gt_coco = read_data('COCO_train2014_000000086229', \n",
    "                                      '/Users/usmanr/fiftyone/coco-2014/train/data/', \n",
    "                                      '/Users/usmanr/workspace/rotatedBoxes_Inputs/input/train/', \n",
    "                                      '.jpg')"
   ]
  },
  {
   "cell_type": "code",
   "execution_count": null,
   "id": "ab1b15a1",
   "metadata": {},
   "outputs": [],
   "source": [
    "labelled_gt_box_coords[0]"
   ]
  },
  {
   "cell_type": "code",
   "execution_count": null,
   "id": "c5c11e46",
   "metadata": {},
   "outputs": [],
   "source": [
    "image, labelled_gt_box_coords, labelled_gt_coco = resize_images_and_labels(image, \n",
    "                                                                           labelled_gt_box_coords, \n",
    "                                                                           labelled_gt_coco, \n",
    "                                                                           300, 300)"
   ]
  },
  {
   "cell_type": "code",
   "execution_count": null,
   "id": "8983246b",
   "metadata": {},
   "outputs": [],
   "source": [
    "plt.imshow(image)"
   ]
  },
  {
   "cell_type": "code",
   "execution_count": null,
   "id": "e7d51e1e",
   "metadata": {},
   "outputs": [],
   "source": [
    "corners = np.array(labelled_gt_box_coords[0][1:])\n",
    "\n",
    "corners = corners.astype(np.int32)\n",
    "\n",
    "corners = corners.reshape(4, 2)\n",
    "\n",
    "corners = corners.reshape((-1, 1, 2))\n",
    "\n",
    "image = cv2.polylines(image, [corners],\n",
    "                      True, (52, 164, 235), 1)\n",
    "        \n",
    "plt.figure(figsize=(10,10))\n",
    "\n",
    "plt.imshow(image)"
   ]
  },
  {
   "cell_type": "code",
   "execution_count": null,
   "id": "531e60db",
   "metadata": {},
   "outputs": [],
   "source": [
    "labels_map = {1: 1, 3: 2, 17: 3, 18: 4}"
   ]
  },
  {
   "cell_type": "code",
   "execution_count": null,
   "id": "1e8e509f",
   "metadata": {},
   "outputs": [],
   "source": [
    "gt_labels = [labels_map[l[0]] for l in labelled_gt_box_coords]\n",
    "gt_boxes_normalized = [l[1:] for l in labelled_gt_box_coords]\n",
    "gt_boxes_coco = [l[1:] for l in labelled_gt_coco]"
   ]
  },
  {
   "cell_type": "code",
   "execution_count": null,
   "id": "4d9cbdf0",
   "metadata": {},
   "outputs": [],
   "source": [
    "gt_labels"
   ]
  },
  {
   "cell_type": "code",
   "execution_count": null,
   "id": "400e78fc",
   "metadata": {},
   "outputs": [],
   "source": [
    "IOU_map = np.zeros((1, len(prior_boxes), len(gt_boxes_normalized)))\n",
    "\n",
    "# IOU_map = np.zeros((len(prior_boxes), len(gt_boxes_normalized)))\n",
    "\n",
    "for i in range(len(labelled_gt_box_coords)):\n",
    "    IOU_map[:, :, i] = getIOUOverallDefaultBox(prior_boxes, np.array(gt_boxes_normalized[i]))"
   ]
  },
  {
   "cell_type": "code",
   "execution_count": null,
   "id": "6e5b489e",
   "metadata": {},
   "outputs": [],
   "source": [
    "tf.constant(prior_boxes_coco, np.float32)"
   ]
  },
  {
   "cell_type": "code",
   "execution_count": null,
   "id": "4e4caca1",
   "metadata": {},
   "outputs": [],
   "source": [
    "def calculate_offset_from_gt(gt_boxes_mapped_to_prior, prior_boxes):\n",
    "    prior_boxes = tf.expand_dims(prior_boxes, axis=0)\n",
    "    g_j_cx = 10 * (gt_boxes_mapped_to_prior[:, :, 0] - prior_boxes[:, :, 0]) / prior_boxes[:, :, 2]\n",
    "    g_j_cy = 10 * (gt_boxes_mapped_to_prior[:, :, 1] - prior_boxes[:, :, 1]) / prior_boxes[:, :, 3]\n",
    "    g_j_w = 5 * tf.math.log(gt_boxes_mapped_to_prior[:, :, 2] / prior_boxes[:, :, 2])\n",
    "    g_j_h = 5 * tf.math.log(gt_boxes_mapped_to_prior[:, :, 3] / prior_boxes[:, :, 3])\n",
    "\n",
    "    g_theta = tf.math.tan(gt_boxes_mapped_to_prior[:, :, 4] - prior_boxes[:, :, 4])\n",
    "\n",
    "    offset = tf.concat( [ g_j_cx, g_j_cy, g_j_w, g_j_h, g_theta ] , axis = 0)\n",
    "\n",
    "    return tf.transpose(tf.expand_dims(offset, axis = 0), perm=[0,2,1])"
   ]
  },
  {
   "cell_type": "code",
   "execution_count": null,
   "id": "0e24ba7a",
   "metadata": {},
   "outputs": [],
   "source": [
    "# select the box with the highest IOU\n",
    "highest_overlap_idx = tf.math.argmax(IOU_map, axis = 1)\n",
    "highest_overlap_idx = tf.cast(highest_overlap_idx, tf.int32)\n",
    "idx = tf.range(IOU_map.shape[1])\n",
    "highest_overlap_idx_map = tf.expand_dims(tf.equal(idx, tf.transpose(highest_overlap_idx)), axis = 0)\n",
    "# set the highest overlap to 1\n",
    "IOU_map = tf.where(tf.transpose(highest_overlap_idx_map, perm=[0,2,1]), tf.constant(1.0), IOU_map)\n",
    "\n",
    "# find the column idx with the highest IOU at each row\n",
    "max_IOU_idx_per_row = tf.math.argmax(IOU_map, axis = 2)\n",
    "# find the max value per row\n",
    "max_IOU_per_row = tf.reduce_max(IOU_map, axis = 2)\n",
    "\n",
    "# threshold IOU\n",
    "max_IOU_above_threshold = tf.greater(max_IOU_per_row, 0.5)\n",
    "\n",
    "# map the gt boxes to the prior boxes with the highest overlap\n",
    "gt_box_label_map = tf.gather(gt_boxes_coco, max_IOU_idx_per_row, batch_dims = 0)\n",
    "\n",
    "gt_box_label_map_offsets = calculate_offset_from_gt(gt_box_label_map, tf.constant(prior_boxes_coco, np.float32))\n",
    "\n",
    "# remove from gt_boxes_map where overlap with prior boxes is less than 0.5\n",
    "gt_boxes_map_offset_suppressed = tf.where( tf.expand_dims(max_IOU_above_threshold, -1),  \n",
    "                                    gt_box_label_map_offsets, tf.zeros_like(gt_box_label_map))\n",
    "# add a positive condition column for the localization loss\n",
    "max_IOU_above_threshold_expand = tf.expand_dims(max_IOU_above_threshold, -1)\n",
    "max_IOU_above_threshold_expand = tf.cast(max_IOU_above_threshold_expand, tf.float32)\n",
    "gt_boxes_map_offset_suppressed_with_pos_cond = tf.concat([  gt_boxes_map_offset_suppressed, \n",
    "                                                            max_IOU_above_threshold_expand ], axis = 2)\n",
    "                                                         \n",
    "gt_labels_map = tf.gather(gt_labels, max_IOU_idx_per_row, batch_dims = 0)\n",
    "# suppress the label where IOU with the gt boxes is < 0.5\n",
    "gt_labels_map_suppressed = tf.where( max_IOU_above_threshold, \n",
    "                                    gt_labels_map, tf.zeros_like(gt_labels_map))\n",
    "gt_labels_one_hot_encoded = tf.one_hot(gt_labels_map_suppressed, 4)"
   ]
  },
  {
   "cell_type": "code",
   "execution_count": null,
   "id": "772fc8ee",
   "metadata": {},
   "outputs": [],
   "source": [
    "gt_labels"
   ]
  },
  {
   "cell_type": "code",
   "execution_count": null,
   "id": "a805f77b",
   "metadata": {
    "scrolled": true
   },
   "outputs": [],
   "source": [
    "for i, label in enumerate(gt_labels_one_hot_encoded[0]):\n",
    "    l = label.numpy()\n",
    "    if sum(l[1:]) > 0:\n",
    "        print(i)"
   ]
  },
  {
   "cell_type": "code",
   "execution_count": null,
   "id": "2a7e7bfd",
   "metadata": {},
   "outputs": [],
   "source": [
    "prior_boxes[36055]"
   ]
  },
  {
   "cell_type": "code",
   "execution_count": null,
   "id": "f20e48b4",
   "metadata": {},
   "outputs": [],
   "source": [
    "image_copy = image.copy()"
   ]
  },
  {
   "cell_type": "code",
   "execution_count": null,
   "id": "a72fb8e7",
   "metadata": {},
   "outputs": [],
   "source": [
    "corners"
   ]
  },
  {
   "cell_type": "code",
   "execution_count": null,
   "id": "b6e907c1",
   "metadata": {},
   "outputs": [],
   "source": [
    "corners = np.array(prior_boxes[36056])\n",
    "\n",
    "corners = corners.astype(np.int32)\n",
    "\n",
    "corners = corners.reshape(4, 2)\n",
    "\n",
    "corners = corners.reshape((-1, 1, 2))\n",
    "\n",
    "image = cv2.polylines(image_copy, [corners],\n",
    "                      True, (255, 0, 0), 2)\n",
    "        \n",
    "plt.figure(figsize=(10,10))\n",
    "\n",
    "plt.imshow(image_copy)"
   ]
  },
  {
   "cell_type": "code",
   "execution_count": null,
   "id": "6e47832f",
   "metadata": {},
   "outputs": [],
   "source": [
    "from data_pipeline.dataGenerator import DataGenerator"
   ]
  },
  {
   "cell_type": "code",
   "execution_count": null,
   "id": "b4154176",
   "metadata": {},
   "outputs": [],
   "source": [
    "prior_boxes, prior_boxes_coco = generate_default_boxes(feature_map_shapes, 6, aspect_ratios, angles)\n",
    "\n",
    "prior_boxes = np.array(prior_boxes, dtype=np.float32)\n",
    "\n",
    "prior_boxes_coco = np.array(prior_boxes_coco, dtype=np.float32)\n",
    "\n",
    "list_IDs = glob.glob('/Users/usmanr/workspace/rotatedBoxes_Inputs/input/train/*.txt')\n",
    "\n",
    "list_IDs = [l.split('/')[-1].replace('.txt', '') for l in list_IDs]"
   ]
  },
  {
   "cell_type": "code",
   "execution_count": null,
   "id": "4fc4cb60",
   "metadata": {},
   "outputs": [],
   "source": [
    "label_path = '/Users/usmanr/workspace/rotatedBoxes_Inputs/input/train/'\n",
    "image_path = '/Users/usmanr/fiftyone/coco-2014/train/data/'"
   ]
  },
  {
   "cell_type": "code",
   "execution_count": null,
   "id": "79bc9a86",
   "metadata": {},
   "outputs": [],
   "source": [
    "dg = DataGenerator(list_IDs, \n",
    "                   label_path,\n",
    "                   image_path, \n",
    "                   prior_boxes,\n",
    "                   prior_boxes_coco,\n",
    "                  batch_size=16,\n",
    "                   n_classes=4,\n",
    "                  image_extension='.jpg')"
   ]
  },
  {
   "cell_type": "code",
   "execution_count": null,
   "id": "c9bb2529",
   "metadata": {
    "scrolled": true
   },
   "outputs": [],
   "source": [
    "%%time\n",
    "\n",
    "for d in dg:\n",
    "    holdout = d\n",
    "    break"
   ]
  },
  {
   "cell_type": "code",
   "execution_count": null,
   "id": "3559fd67",
   "metadata": {},
   "outputs": [],
   "source": [
    "plt.imshow(holdout[0][1])"
   ]
  },
  {
   "cell_type": "code",
   "execution_count": null,
   "id": "3149bab6",
   "metadata": {},
   "outputs": [],
   "source": [
    "holdout[1][1][1]"
   ]
  },
  {
   "cell_type": "code",
   "execution_count": null,
   "id": "378634fb",
   "metadata": {},
   "outputs": [],
   "source": [
    "for i, label in enumerate(holdout[1][1][1]):\n",
    "    l = label.numpy()\n",
    "    if sum(l[1:]) > 0:\n",
    "        print(i)"
   ]
  },
  {
   "cell_type": "code",
   "execution_count": null,
   "id": "bc4efc68",
   "metadata": {},
   "outputs": [],
   "source": [
    "image_copy = holdout[0][1].copy()"
   ]
  },
  {
   "cell_type": "code",
   "execution_count": null,
   "id": "4eb5bff4",
   "metadata": {},
   "outputs": [],
   "source": [
    "corners = np.array(prior_boxes[19695]) * 300\n",
    "\n",
    "corners = corners.astype(np.int32)\n",
    "\n",
    "corners = corners.reshape(4, 2)\n",
    "\n",
    "corners = corners.reshape((-1, 1, 2))\n",
    "\n",
    "image = cv2.polylines(image_copy, [corners],\n",
    "                      True, (255, 0, 0), 2)\n",
    "        \n",
    "plt.figure(figsize=(10,10))\n",
    "\n",
    "plt.imshow(image_copy)"
   ]
  },
  {
   "cell_type": "code",
   "execution_count": null,
   "id": "13b939ef",
   "metadata": {},
   "outputs": [],
   "source": [
    "from models.SSD_VGG16 import buildSSD_VGG16"
   ]
  },
  {
   "cell_type": "code",
   "execution_count": null,
   "id": "1acaef93",
   "metadata": {},
   "outputs": [],
   "source": [
    "model = buildSSD_VGG16(5, n_boxes, angles)"
   ]
  },
  {
   "cell_type": "code",
   "execution_count": null,
   "id": "b9deb50d",
   "metadata": {},
   "outputs": [],
   "source": [
    "model.summary()"
   ]
  },
  {
   "cell_type": "code",
   "execution_count": null,
   "id": "73fe5cd5",
   "metadata": {},
   "outputs": [],
   "source": []
  }
 ],
 "metadata": {
  "kernelspec": {
   "display_name": "Python 3 (ipykernel)",
   "language": "python",
   "name": "python3"
  },
  "language_info": {
   "codemirror_mode": {
    "name": "ipython",
    "version": 3
   },
   "file_extension": ".py",
   "mimetype": "text/x-python",
   "name": "python",
   "nbconvert_exporter": "python",
   "pygments_lexer": "ipython3",
   "version": "3.9.13"
  }
 },
 "nbformat": 4,
 "nbformat_minor": 5
}
