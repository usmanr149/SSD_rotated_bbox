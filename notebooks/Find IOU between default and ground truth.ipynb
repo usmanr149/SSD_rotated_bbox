{
 "cells": [
  {
   "cell_type": "code",
   "execution_count": 1,
   "id": "836ab81b",
   "metadata": {},
   "outputs": [],
   "source": [
    "import cv2\n",
    "import numpy as np\n",
    "\n",
    "import pandas as pd\n",
    "\n",
    "from matplotlib import pyplot as plt\n",
    "\n",
    "%load_ext autoreload\n",
    "%autoreload 2"
   ]
  },
  {
   "cell_type": "code",
   "execution_count": 2,
   "id": "4a800ae7",
   "metadata": {},
   "outputs": [],
   "source": [
    "import numba\n",
    "from numba import jit"
   ]
  },
  {
   "cell_type": "code",
   "execution_count": 3,
   "id": "5f8dbe4f",
   "metadata": {},
   "outputs": [],
   "source": [
    "from bbox_utils.bbox import generate_default_boxes"
   ]
  },
  {
   "cell_type": "code",
   "execution_count": 4,
   "id": "fbcaa0fa",
   "metadata": {},
   "outputs": [],
   "source": [
    "feature_map_shapes = [38, 19, 10, 5, 3, 1]\n",
    "\n",
    "aspect_ratios = [\n",
    "    [2, 0.5],\n",
    "    [2, 3, 0.5, 0.333],\n",
    "    [2, 3, 0.5, 0.333],\n",
    "    [2, 3, 0.5, 0.333],\n",
    "    [2, 0.5],\n",
    "    [2, 0.5]\n",
    "]\n",
    "angles = [0, 45, 90, 135]\n",
    "\n",
    "prior_boxes = generate_default_boxes(feature_map_shapes, 6, aspect_ratios, angles)"
   ]
  },
  {
   "cell_type": "code",
   "execution_count": null,
   "id": "38de788f",
   "metadata": {},
   "outputs": [],
   "source": [
    "np.array(prior_boxes[31038]) * 300"
   ]
  },
  {
   "cell_type": "code",
   "execution_count": null,
   "id": "2d06babb",
   "metadata": {},
   "outputs": [],
   "source": [
    "def rotateTheta(x, y, theta):\n",
    "    theta = theta * np.pi / 180\n",
    "\n",
    "    x_rot_theta  = x * np.cos(theta) + y * np.sin(theta)\n",
    "    y_rot_theta = y * np.cos(theta) - x * np.sin(theta)\n",
    "    \n",
    "    return x_rot_theta, y_rot_theta\n",
    "\n",
    "def rotateRectangle(c_x, c_y, width, height, theta):\n",
    "\n",
    "    rotRect = []\n",
    "    \n",
    "    corners = [\n",
    "        [-width / 2, -height / 2],\n",
    "        [width / 2, -height / 2],\n",
    "        [width / 2, height / 2],\n",
    "        [-width / 2, height / 2]\n",
    "    ]\n",
    "    \n",
    "    for corner in corners:\n",
    "        x_prime, y_prime = rotateTheta(corner[0], corner[1], theta)\n",
    "        rotRect.append(c_x + x_prime)\n",
    "        rotRect.append(c_y + y_prime)\n",
    "    \n",
    "    return rotRect\n",
    "\n",
    "corners = rotateRectangle(0.5, 0.5, 0.2, 0.1, 90)\n",
    "\n",
    "image = np.zeros((300, 300, 3))\n",
    "\n",
    "corners = np.array(corners) * 300\n",
    "\n",
    "print(corners)\n",
    "\n",
    "corners = corners.astype(np.int32)\n",
    "\n",
    "corners = corners.reshape(4, 2)\n",
    "\n",
    "corners = corners.reshape((-1, 1, 2))\n",
    "\n",
    "image = cv2.polylines(image, [corners],\n",
    "                      True, (255, 100, 100), 1)\n",
    "        \n",
    "plt.figure(figsize=(10,10))\n",
    "\n",
    "plt.imshow(image)"
   ]
  },
  {
   "cell_type": "code",
   "execution_count": null,
   "id": "febad863",
   "metadata": {},
   "outputs": [],
   "source": [
    "np.array(prior_boxes[31038]) * 300"
   ]
  },
  {
   "cell_type": "code",
   "execution_count": null,
   "id": "56914bc4",
   "metadata": {},
   "outputs": [],
   "source": [
    "def isRight(x1, y1, x2, y2, x, y):\n",
    "    R = (x - x1) * (y2 - y1) - (y - y1) * (x2 - x1)\n",
    "    \n",
    "    return R >= 0\n",
    "\n",
    "def calcSlopeIntercept(x1, y1, x2, y2):\n",
    "    \n",
    "    if x2 - x1 == 0:\n",
    "        return float('inf'), x1\n",
    "    \n",
    "    m = ( y2 - y1 ) / ( x2 - x1 )\n",
    "    \n",
    "    b = y1 - m * x1\n",
    "    \n",
    "    return m, b\n",
    "\n",
    "def findIntersectionInRange(m1, b1, m2, b2):\n",
    "    if m1 == m2:\n",
    "        return None, None\n",
    "    \n",
    "    elif m1 == float('inf'):\n",
    "        x_intersect = b1\n",
    "        y_intersect = m2 * x_intersect + b2\n",
    "    elif m2 == float('inf'):\n",
    "        x_intersect = b2\n",
    "        y_intersect = m1 * x_intersect + b1\n",
    "    elif m1 == 0:\n",
    "        y_intersect = b1\n",
    "        x_intersect = ( y_intersect - b2 ) / m2\n",
    "    elif m2 == 0:\n",
    "        y_intersect = b2\n",
    "        x_intersect = ( y_intersect - b1 ) / m1\n",
    "    else:\n",
    "        x_intersect = (b2 - b1) / (m1 - m2)\n",
    "        y_intersect = m1 * x_intersect + b1\n",
    "    \n",
    "    return [x_intersect, y_intersect]\n",
    "\n",
    "# def clippedPolygon(subject, clip):\n",
    "#     outputList = subject.copy()\n",
    "\n",
    "#     for i in range(len(clip)):\n",
    "#         inputList = outputList.copy()\n",
    "#         outputList = []\n",
    "\n",
    "#         curr_edge = clip[i]\n",
    "#         prev_edge = clip[(i - 1) % len(clip)]\n",
    "\n",
    "#         for j in range(len(inputList)):\n",
    "#             curr_point = inputList[j]\n",
    "#             prev_point = inputList[(j - 1) % len(inputList)]\n",
    "\n",
    "#             m1, b1 = calcSlopeIntercept(prev_point[0], prev_point[1], curr_point[0], curr_point[1])\n",
    "#             m2, b2 = calcSlopeIntercept(prev_edge[0], prev_edge[1], curr_edge[0], curr_edge[1])\n",
    "\n",
    "#             interscecting_point = findIntersectionInRange(m1, b1, m2, b2)\n",
    "#             if isRight(prev_edge[0], prev_edge[1], curr_edge[0], curr_edge[1], curr_point[0], curr_point[1]):\n",
    "#     #             print(prev_edge[0], prev_edge[1], curr_edge[0], curr_edge[1], curr_point[0], curr_point[1])\n",
    "#                 if not isRight(prev_edge[0], prev_edge[1], curr_edge[0], curr_edge[1], prev_point[0], prev_point[1]):\n",
    "#                     outputList.append(interscecting_point)\n",
    "#                 outputList.append([curr_point[0], curr_point[1]])\n",
    "#             elif isRight(prev_edge[0], prev_edge[1], curr_edge[0], curr_edge[1], prev_point[0], prev_point[1]):\n",
    "#                 outputList.append(interscecting_point)\n",
    "#     return outputList\n",
    "\n",
    "def clippedPolygon(subjectPolygon, subjectPolygonSize, clipPolygon, clipPolygonSize):\n",
    "        \n",
    "    newPolygon = np.empty( (16, 2), dtype=np.float64 )\n",
    "\n",
    "    inputPolygon = np.empty( (16, 2), dtype=np.float64 )\n",
    "\n",
    "    # copy subject polygon to new polygon and set its size\n",
    "    for i in range(subjectPolygonSize):\n",
    "        newPolygon[i] = subjectPolygon[i]\n",
    "\n",
    "    newPolygonSize = subjectPolygonSize\n",
    "\n",
    "    for j in range(clipPolygonSize):\n",
    "        # copy new polygon to input polygon & set counter to 0\n",
    "        for k in range(newPolygonSize):\n",
    "            inputPolygon[k] = newPolygon[k]\n",
    "        counter = 0\n",
    "\n",
    "        # get clipping polygon edge\n",
    "        cp1 = clipPolygon[j];\n",
    "        cp2 = clipPolygon[(j - 1) % clipPolygonSize];\n",
    "\n",
    "        for i in range(newPolygonSize):\n",
    "            # get subject polygon edge\n",
    "            s = inputPolygon[i];\n",
    "            e = inputPolygon[(i - 1) % newPolygonSize];\n",
    "\n",
    "    #         curr_edge = cp1\n",
    "    #         prev_edge = cp2\n",
    "\n",
    "    #         curr_point = s\n",
    "    #         prev_point = e\n",
    "\n",
    "            m1, b1 = calcSlopeIntercept(e[0], e[1], s[0], s[1])\n",
    "            m2, b2 = calcSlopeIntercept(cp2[0], cp2[1], cp1[0], cp1[1])\n",
    "\n",
    "            interscecting_point = findIntersectionInRange(m1, b1, m2, b2)\n",
    "\n",
    "            if isRight(cp1[0], cp1[1], cp2[0], cp2[1], s[0], s[1]):\n",
    "                if not isRight(cp1[0], cp1[1], cp2[0], cp2[1], e[0], e[1]):\n",
    "                    newPolygon[counter] = interscecting_point\n",
    "                    counter+=1\n",
    "                newPolygon[counter] = [s[0], s[1]]\n",
    "#                 newPolygon[counter][0] = s[0]\n",
    "#                 newPolygon[counter][1] = s[1]\n",
    "                counter+=1\n",
    "            elif isRight(cp1[0], cp1[1], cp2[0], cp2[1], e[0], e[1]):\n",
    "                newPolygon[counter] = interscecting_point\n",
    "                counter+=1\n",
    "\n",
    "        newPolygonSize = counter;\n",
    "    return newPolygon[:newPolygonSize]\n",
    "    \n",
    "\n",
    "def shoelaceFormula(coordinates):\n",
    "    if len(coordinates) < 3:\n",
    "        return 'Not a polygon'\n",
    "    \n",
    "    area = 0\n",
    "\n",
    "    for i in range(len(coordinates)):\n",
    "        i_plus_1 = (i + 1) % len(coordinates)\n",
    "        area += (coordinates[i_plus_1][0] * coordinates[i][1] - coordinates[i][0] * coordinates[i_plus_1][1]) / 2\n",
    "\n",
    "    return abs(area)"
   ]
  },
  {
   "cell_type": "code",
   "execution_count": null,
   "id": "3f5f6942",
   "metadata": {},
   "outputs": [],
   "source": [
    "def getIOU(default_box, gt_box):\n",
    "    default_box = np.array(default_box).reshape(4, 2)\n",
    "    gt_box = np.array(gt_box).reshape(4, 2)\n",
    "    \n",
    "    clipped_polygon = clippedPolygon(default_box, len(default_box), gt_box, len(gt_box))\n",
    "        \n",
    "    if len(clipped_polygon) == 0:\n",
    "        return 0\n",
    "        \n",
    "    default_box_area = shoelaceFormula(default_box)\n",
    "    gt_box_area = shoelaceFormula(gt_box)\n",
    "    clipped_polygon_area = shoelaceFormula(clipped_polygon)\n",
    "    \n",
    "    IOU = clipped_polygon_area / ( default_box_area + gt_box_area - clipped_polygon_area )\n",
    "    \n",
    "    return IOU"
   ]
  },
  {
   "cell_type": "code",
   "execution_count": null,
   "id": "69edf710",
   "metadata": {},
   "outputs": [],
   "source": [
    "default_box = [10, 50, 250, 50, 250, 290, 10, 290]\n",
    "\n",
    "gt_box = [10, 10, 10, 270, 270, 270, 270, 10]\n",
    "\n",
    "# Blue color in BGR\n",
    "color = (255, 0, 0)\n",
    " \n",
    "# Line thickness of 2 px\n",
    "thickness = 1\n",
    "\n",
    "image = np.zeros((300, 300, 3))\n",
    "\n",
    "corners = np.array(default_box)\n",
    "    \n",
    "corners = corners.astype(np.int32)\n",
    "\n",
    "corners = corners.reshape(4, 2)\n",
    "\n",
    "corners = corners.reshape((-1, 1, 2))\n",
    "\n",
    "image = cv2.polylines(image, [corners],\n",
    "                      True, color, 1)\n",
    "\n",
    "corners = np.array(gt_box)\n",
    "    \n",
    "corners = corners.astype(np.int32)\n",
    "\n",
    "corners = corners.reshape(4, 2)\n",
    "\n",
    "corners = corners.reshape((-1, 1, 2))\n",
    "\n",
    "image = cv2.polylines(image, [corners],\n",
    "                      True, color, 1)\n",
    "\n",
    "plt.figure(figsize=(10,10))\n",
    "\n",
    "plt.imshow(image)"
   ]
  },
  {
   "cell_type": "code",
   "execution_count": null,
   "id": "5434f2fe",
   "metadata": {},
   "outputs": [],
   "source": [
    "getIOU(default_box, gt_box)"
   ]
  },
  {
   "cell_type": "code",
   "execution_count": null,
   "id": "d3ea026c",
   "metadata": {},
   "outputs": [],
   "source": [
    "prior_boxes[31038]"
   ]
  },
  {
   "cell_type": "code",
   "execution_count": null,
   "id": "31b3738d",
   "metadata": {},
   "outputs": [],
   "source": [
    "image = np.zeros((300, 300, 3))\n",
    "\n",
    "corners = np.array(prior_boxes[31038]) * 300\n",
    "    \n",
    "corners = corners.astype(np.int32)\n",
    "\n",
    "corners = corners.reshape(4, 2)\n",
    "\n",
    "corners = corners.reshape((-1, 1, 2))\n",
    "\n",
    "image = cv2.polylines(image, [corners],\n",
    "                      True, color, 1)\n",
    "\n",
    "plt.figure(figsize=(10,10))\n",
    "\n",
    "plt.imshow(image)"
   ]
  },
  {
   "cell_type": "code",
   "execution_count": null,
   "id": "474ff5a1",
   "metadata": {},
   "outputs": [],
   "source": [
    "prior_boxes[31038]"
   ]
  },
  {
   "cell_type": "code",
   "execution_count": null,
   "id": "6a87d7a9",
   "metadata": {},
   "outputs": [],
   "source": [
    "prior_boxes[31038]\n",
    "\n",
    "gt_box = [0, 0, 0, 1, 1, 1, 1, 0]\n",
    "\n",
    "getIOU(prior_boxes[31038], gt_box)"
   ]
  },
  {
   "cell_type": "code",
   "execution_count": 43,
   "id": "51029be5",
   "metadata": {},
   "outputs": [],
   "source": [
    "# Blue color in BGR\n",
    "color = (255, 0, 0)\n",
    " \n",
    "# Line thickness of 2 px\n",
    "thickness = 1\n",
    "\n",
    "image = np.zeros((300, 300, 3))\n",
    " \n",
    "for i in np.arange(31038, 31039, 1):\n",
    "    corners = np.array(prior_boxes[i]) * 300\n",
    "    \n",
    "    corners = corners.astype(np.int32)\n",
    "\n",
    "    corners = corners.reshape(4, 2)\n",
    "    \n",
    "    corners = corners.reshape((-1, 1, 2))\n",
    "\n",
    "    image = cv2.polylines(image, [corners],\n",
    "                          True, color, 1)\n",
    "    \n",
    "gt_box = [0, 0, 1, 0, 1, 1, 0, 1]\n",
    "\n",
    "corners = np.array(gt_box) * 300\n",
    "    \n",
    "corners = corners.astype(np.int32)\n",
    "\n",
    "corners = corners.reshape(4, 2)\n",
    "\n",
    "corners = corners.reshape((-1, 1, 2))\n",
    "\n",
    "image = cv2.polylines(image, [corners],\n",
    "                      True, color, 1)\n",
    "\n",
    "overlap = [[0.08647853743729339, 0.88], [0.08647853743729339, 0.12], [0.9135214625627066, 0.12], [0.9135214625627066, 0.88]]\n",
    "\n",
    "corners = np.array(overlap) * 300\n",
    "    \n",
    "corners = corners.astype(np.int32)\n",
    "\n",
    "corners = corners.reshape((-1, 1, 2))\n",
    "\n",
    "image = cv2.polylines(image, [corners],\n",
    "                      True, (255, 100, 100), 1)"
   ]
  },
  {
   "cell_type": "code",
   "execution_count": 44,
   "id": "213e19d4",
   "metadata": {},
   "outputs": [
    {
     "data": {
      "text/plain": [
       "array([[[ 25, 264]],\n",
       "\n",
       "       [[ 25,  36]],\n",
       "\n",
       "       [[274,  36]],\n",
       "\n",
       "       [[274, 264]]], dtype=int32)"
      ]
     },
     "execution_count": 44,
     "metadata": {},
     "output_type": "execute_result"
    }
   ],
   "source": [
    "corners"
   ]
  },
  {
   "cell_type": "code",
   "execution_count": 45,
   "id": "c904d8ed",
   "metadata": {},
   "outputs": [
    {
     "name": "stderr",
     "output_type": "stream",
     "text": [
      "Clipping input data to the valid range for imshow with RGB data ([0..1] for floats or [0..255] for integers).\n"
     ]
    },
    {
     "data": {
      "text/plain": [
       "<matplotlib.image.AxesImage at 0x135f5e790>"
      ]
     },
     "execution_count": 45,
     "metadata": {},
     "output_type": "execute_result"
    },
    {
     "data": {
      "image/png": "[encoded data removed]",
      "text/plain": [
       "<Figure size 720x720 with 1 Axes>"
      ]
     },
     "metadata": {
      "needs_background": "light"
     },
     "output_type": "display_data"
    }
   ],
   "source": [
    "plt.figure(figsize=(10,10))\n",
    "\n",
    "plt.imshow(image)"
   ]
  },
  {
   "cell_type": "code",
   "execution_count": null,
   "id": "2f9e0063",
   "metadata": {},
   "outputs": [],
   "source": [
    "prior_boxes[31038]"
   ]
  },
  {
   "cell_type": "code",
   "execution_count": null,
   "id": "a564d472",
   "metadata": {},
   "outputs": [],
   "source": [
    "gt_box"
   ]
  },
  {
   "cell_type": "code",
   "execution_count": null,
   "id": "2e36ce33",
   "metadata": {},
   "outputs": [],
   "source": [
    "prior_boxes[31038]"
   ]
  },
  {
   "cell_type": "code",
   "execution_count": null,
   "id": "eeef06c1",
   "metadata": {},
   "outputs": [],
   "source": [
    "np.array([[150, 100], [250, 200],[200, 250], [100, 150]]) / 300"
   ]
  },
  {
   "cell_type": "code",
   "execution_count": null,
   "id": "f72491d5",
   "metadata": {},
   "outputs": [],
   "source": []
  },
  {
   "cell_type": "code",
   "execution_count": 47,
   "id": "3292a3fc",
   "metadata": {},
   "outputs": [
    {
     "ename": "TypingError",
     "evalue": "Failed in nopython mode pipeline (step: nopython frontend)\nNo implementation of function Function(<built-in function getitem>) found for signature:\n \n >>> getitem(float64, Literal[int](0))\n \nThere are 22 candidate implementations:\n      - Of which 22 did not match due to:\n      Overload of function 'getitem': File: <numerous>: Line N/A.\n        With argument(s): '(float64, int64)':\n       No match.\n\nDuring: typing of intrinsic-call at /var/folders/34/5ztskbx12m981d9v0q4821hh0000gn/T/ipykernel_12370/1574220204.py (72)\nDuring: typing of static-get-item at /var/folders/34/5ztskbx12m981d9v0q4821hh0000gn/T/ipykernel_12370/1574220204.py (72)\n\nFile \"../../../../var/folders/34/5ztskbx12m981d9v0q4821hh0000gn/T/ipykernel_12370/1574220204.py\", line 72:\n<source missing, REPL/exec in use?>\n\nDuring: resolving callee type: type(CPUDispatcher(<function clippedPolygon at 0x12d26f9d0>))\nDuring: typing of call at /var/folders/34/5ztskbx12m981d9v0q4821hh0000gn/T/ipykernel_12370/1574220204.py (106)\n\nDuring: resolving callee type: type(CPUDispatcher(<function clippedPolygon at 0x12d26f9d0>))\nDuring: typing of call at /var/folders/34/5ztskbx12m981d9v0q4821hh0000gn/T/ipykernel_12370/1574220204.py (106)\n",
     "output_type": "error",
     "traceback": [
      "\u001b[0;31m---------------------------------------------------------------------------\u001b[0m",
      "\u001b[0;31mTypingError\u001b[0m                               Traceback (most recent call last)",
      "Input \u001b[0;32mIn [47]\u001b[0m, in \u001b[0;36m<cell line: 24>\u001b[0;34m()\u001b[0m\n\u001b[1;32m     22\u001b[0m     \u001b[38;5;28;01mreturn\u001b[39;00m np\u001b[38;5;241m.\u001b[39mfloat64(IOU)\n\u001b[1;32m     24\u001b[0m \u001b[38;5;28;01mfor\u001b[39;00m i \u001b[38;5;129;01min\u001b[39;00m \u001b[38;5;28mrange\u001b[39m(\u001b[38;5;28mlen\u001b[39m(prior_boxes)):\n\u001b[0;32m---> 26\u001b[0m     iou \u001b[38;5;241m=\u001b[39m \u001b[43mgetIOU\u001b[49m\u001b[43m(\u001b[49m\u001b[43mprior_boxes\u001b[49m\u001b[43m[\u001b[49m\u001b[43mi\u001b[49m\u001b[43m]\u001b[49m\u001b[43m,\u001b[49m\u001b[43m \u001b[49m\u001b[43mgt_box\u001b[49m\u001b[43m)\u001b[49m\n\u001b[1;32m     28\u001b[0m     \u001b[38;5;28;01mif\u001b[39;00m iou \u001b[38;5;241m>\u001b[39m \u001b[38;5;241m0.6\u001b[39m:\n\u001b[1;32m     30\u001b[0m         corners \u001b[38;5;241m=\u001b[39m np\u001b[38;5;241m.\u001b[39marray(prior_boxes[i]) \u001b[38;5;241m*\u001b[39m \u001b[38;5;241m300\u001b[39m\n",
      "Input \u001b[0;32mIn [47]\u001b[0m, in \u001b[0;36mgetIOU\u001b[0;34m(default_box, gt_box)\u001b[0m\n\u001b[1;32m      8\u001b[0m \u001b[38;5;28;01mdef\u001b[39;00m \u001b[38;5;21mgetIOU\u001b[39m(default_box, gt_box):\n\u001b[1;32m      9\u001b[0m     default_box \u001b[38;5;241m=\u001b[39m default_box\u001b[38;5;241m.\u001b[39mreshape(\u001b[38;5;241m4\u001b[39m, \u001b[38;5;241m2\u001b[39m)\n\u001b[0;32m---> 11\u001b[0m     clipped_polygon \u001b[38;5;241m=\u001b[39m \u001b[43mclippedPolygon\u001b[49m\u001b[43m(\u001b[49m\u001b[43mdefault_box\u001b[49m\u001b[43m,\u001b[49m\u001b[43m \u001b[49m\u001b[38;5;28;43mlen\u001b[39;49m\u001b[43m(\u001b[49m\u001b[43mdefault_box\u001b[49m\u001b[43m)\u001b[49m\u001b[43m,\u001b[49m\u001b[43m \u001b[49m\u001b[43mgt_box\u001b[49m\u001b[43m,\u001b[49m\u001b[43m \u001b[49m\u001b[38;5;28;43mlen\u001b[39;49m\u001b[43m(\u001b[49m\u001b[43mgt_box\u001b[49m\u001b[43m)\u001b[49m\u001b[43m)\u001b[49m\n\u001b[1;32m     13\u001b[0m     \u001b[38;5;28;01mif\u001b[39;00m \u001b[38;5;28mlen\u001b[39m(clipped_polygon) \u001b[38;5;241m==\u001b[39m \u001b[38;5;241m0\u001b[39m:\n\u001b[1;32m     14\u001b[0m         \u001b[38;5;28;01mreturn\u001b[39;00m \u001b[38;5;241m0\u001b[39m\n",
      "File \u001b[0;32m/usr/local/lib/python3.9/site-packages/numba/core/dispatcher.py:468\u001b[0m, in \u001b[0;36m_DispatcherBase._compile_for_args\u001b[0;34m(self, *args, **kws)\u001b[0m\n\u001b[1;32m    464\u001b[0m         msg \u001b[38;5;241m=\u001b[39m (\u001b[38;5;124mf\u001b[39m\u001b[38;5;124m\"\u001b[39m\u001b[38;5;132;01m{\u001b[39;00m\u001b[38;5;28mstr\u001b[39m(e)\u001b[38;5;241m.\u001b[39mrstrip()\u001b[38;5;132;01m}\u001b[39;00m\u001b[38;5;124m \u001b[39m\u001b[38;5;130;01m\\n\u001b[39;00m\u001b[38;5;130;01m\\n\u001b[39;00m\u001b[38;5;124mThis error may have been caused \u001b[39m\u001b[38;5;124m\"\u001b[39m\n\u001b[1;32m    465\u001b[0m                \u001b[38;5;124mf\u001b[39m\u001b[38;5;124m\"\u001b[39m\u001b[38;5;124mby the following argument(s):\u001b[39m\u001b[38;5;130;01m\\n\u001b[39;00m\u001b[38;5;132;01m{\u001b[39;00margs_str\u001b[38;5;132;01m}\u001b[39;00m\u001b[38;5;130;01m\\n\u001b[39;00m\u001b[38;5;124m\"\u001b[39m)\n\u001b[1;32m    466\u001b[0m         e\u001b[38;5;241m.\u001b[39mpatch_message(msg)\n\u001b[0;32m--> 468\u001b[0m     \u001b[43merror_rewrite\u001b[49m\u001b[43m(\u001b[49m\u001b[43me\u001b[49m\u001b[43m,\u001b[49m\u001b[43m \u001b[49m\u001b[38;5;124;43m'\u001b[39;49m\u001b[38;5;124;43mtyping\u001b[39;49m\u001b[38;5;124;43m'\u001b[39;49m\u001b[43m)\u001b[49m\n\u001b[1;32m    469\u001b[0m \u001b[38;5;28;01mexcept\u001b[39;00m errors\u001b[38;5;241m.\u001b[39mUnsupportedError \u001b[38;5;28;01mas\u001b[39;00m e:\n\u001b[1;32m    470\u001b[0m     \u001b[38;5;66;03m# Something unsupported is present in the user code, add help info\u001b[39;00m\n\u001b[1;32m    471\u001b[0m     error_rewrite(e, \u001b[38;5;124m'\u001b[39m\u001b[38;5;124munsupported_error\u001b[39m\u001b[38;5;124m'\u001b[39m)\n",
      "File \u001b[0;32m/usr/local/lib/python3.9/site-packages/numba/core/dispatcher.py:409\u001b[0m, in \u001b[0;36m_DispatcherBase._compile_for_args.<locals>.error_rewrite\u001b[0;34m(e, issue_type)\u001b[0m\n\u001b[1;32m    407\u001b[0m     \u001b[38;5;28;01mraise\u001b[39;00m e\n\u001b[1;32m    408\u001b[0m \u001b[38;5;28;01melse\u001b[39;00m:\n\u001b[0;32m--> 409\u001b[0m     \u001b[38;5;28;01mraise\u001b[39;00m e\u001b[38;5;241m.\u001b[39mwith_traceback(\u001b[38;5;28;01mNone\u001b[39;00m)\n",
      "\u001b[0;31mTypingError\u001b[0m: Failed in nopython mode pipeline (step: nopython frontend)\nNo implementation of function Function(<built-in function getitem>) found for signature:\n \n >>> getitem(float64, Literal[int](0))\n \nThere are 22 candidate implementations:\n      - Of which 22 did not match due to:\n      Overload of function 'getitem': File: <numerous>: Line N/A.\n        With argument(s): '(float64, int64)':\n       No match.\n\nDuring: typing of intrinsic-call at /var/folders/34/5ztskbx12m981d9v0q4821hh0000gn/T/ipykernel_12370/1574220204.py (72)\nDuring: typing of static-get-item at /var/folders/34/5ztskbx12m981d9v0q4821hh0000gn/T/ipykernel_12370/1574220204.py (72)\n\nFile \"../../../../var/folders/34/5ztskbx12m981d9v0q4821hh0000gn/T/ipykernel_12370/1574220204.py\", line 72:\n<source missing, REPL/exec in use?>\n\nDuring: resolving callee type: type(CPUDispatcher(<function clippedPolygon at 0x12d26f9d0>))\nDuring: typing of call at /var/folders/34/5ztskbx12m981d9v0q4821hh0000gn/T/ipykernel_12370/1574220204.py (106)\n\nDuring: resolving callee type: type(CPUDispatcher(<function clippedPolygon at 0x12d26f9d0>))\nDuring: typing of call at /var/folders/34/5ztskbx12m981d9v0q4821hh0000gn/T/ipykernel_12370/1574220204.py (106)\n"
     ]
    }
   ],
   "source": [
    "image = np.zeros((300, 300, 3))\n",
    "\n",
    "gt_box = [0.03333333, 0.16666667, 0.83333333, 0.16666667, 0.83333333,\n",
    "       0.96666667, 0.03333333, 0.96666667]\n",
    "\n",
    "gt_box = [0.5       , 0.33333333, 0.83333333, 0.66666667, 0.66666667, 0.83333333, 0.33333333, 0.5]\n",
    "\n",
    "for i in range(len(prior_boxes)):\n",
    "    \n",
    "    iou = getIOU(prior_boxes[i], gt_box)\n",
    "    \n",
    "    if iou > 0.6:\n",
    "    \n",
    "        corners = np.array(prior_boxes[i]) * 300\n",
    "\n",
    "        corners = corners.astype(np.int32)\n",
    "\n",
    "        corners = corners.reshape(4, 2)\n",
    "\n",
    "        corners = corners.reshape((-1, 1, 2))\n",
    "\n",
    "        image = cv2.polylines(image, [corners],\n",
    "                              True, color, 1)\n",
    "\n",
    "        \n",
    "corners = np.array(gt_box) * 300\n",
    "\n",
    "corners = corners.astype(np.int32)\n",
    "\n",
    "corners = corners.reshape(4, 2)\n",
    "\n",
    "corners = corners.reshape((-1, 1, 2))\n",
    "\n",
    "image = cv2.polylines(image, [corners],\n",
    "                      True, (255, 100, 100), 1)\n",
    "        \n",
    "plt.figure(figsize=(10,10))\n",
    "\n",
    "plt.imshow(image)"
   ]
  },
  {
   "cell_type": "code",
   "execution_count": null,
   "id": "618b34b0",
   "metadata": {},
   "outputs": [],
   "source": [
    "np.array(prior_boxes[31038]) * 300"
   ]
  },
  {
   "cell_type": "code",
   "execution_count": null,
   "id": "3f2449e6",
   "metadata": {},
   "outputs": [],
   "source": [
    "image = np.zeros((300, 300, 3))\n",
    "\n",
    "corners = np.array(prior_boxes[i]) * 300\n",
    "\n",
    "corners = corners.astype(np.int32)\n",
    "\n",
    "corners = corners.reshape(4, 2)\n",
    "\n",
    "corners = corners.reshape((-1, 1, 2))\n",
    "\n",
    "image = cv2.polylines(image, [corners],\n",
    "                      True, color, 1)\n",
    "\n",
    "corners = np.array(gt_box) * 300\n",
    "\n",
    "corners = corners.astype(np.int32)\n",
    "\n",
    "corners = corners.reshape(4, 2)\n",
    "\n",
    "corners = corners.reshape((-1, 1, 2))\n",
    "\n",
    "image = cv2.polylines(image, [corners],\n",
    "                      True, color, 1)\n",
    "        \n",
    "plt.figure(figsize=(10,10))\n",
    "\n",
    "plt.imshow(image)"
   ]
  },
  {
   "cell_type": "code",
   "execution_count": null,
   "id": "cd8d0f52",
   "metadata": {},
   "outputs": [],
   "source": [
    "np.array([10, 50, 250, 50, 250, 290, 10, 290]) / 300"
   ]
  },
  {
   "cell_type": "code",
   "execution_count": null,
   "id": "2e46dc4d",
   "metadata": {},
   "outputs": [],
   "source": [
    "getIOU(prior_boxes[i], gt_box)"
   ]
  },
  {
   "cell_type": "code",
   "execution_count": null,
   "id": "dde3d3f4",
   "metadata": {},
   "outputs": [],
   "source": [
    "%%time\n",
    "\n",
    "gt_box = [0.03333333, 0.16666667, 0.83333333, 0.16666667, 0.83333333,\n",
    "       0.96666667, 0.03333333, 0.96666667]\n",
    "\n",
    "for i in range(len(prior_boxes)):\n",
    "    \n",
    "    iou = getIOU(prior_boxes[i], gt_box)"
   ]
  },
  {
   "cell_type": "code",
   "execution_count": null,
   "id": "8a22a2ac",
   "metadata": {},
   "outputs": [],
   "source": [
    "%%time\n",
    "\n",
    "np.apply_along_axis(getIOU, 1, prior_boxes, gt_box)"
   ]
  },
  {
   "cell_type": "code",
   "execution_count": 48,
   "id": "fb4fd535",
   "metadata": {},
   "outputs": [],
   "source": [
    "@jit(nopython=True, parallel=False)\n",
    "def isRight(x1, y1, x2, y2, x, y):\n",
    "    R = (x - x1) * (y2 - y1) - (y - y1) * (x2 - x1)\n",
    "    \n",
    "    return R >= 0\n",
    "\n",
    "@jit(nopython=True, parallel=False)\n",
    "def calcSlopeIntercept(x1, y1, x2, y2):\n",
    "        \n",
    "    if x2 - x1 == 0:\n",
    "        return 2**32 - 1, x1\n",
    "    \n",
    "    m = ( y2 - y1 ) / ( x2 - x1 )\n",
    "    \n",
    "    b = y1 - m * x1\n",
    "    \n",
    "    return np.float64(m), np.float64(b)\n",
    "\n",
    "@jit(nopython=True, parallel=False)\n",
    "def findIntersectionInRange(m1, b1, m2, b2):\n",
    "    if m1 == m2:\n",
    "        return np.array([2**32 - 1, 2**32 - 1], dtype=np.float64)\n",
    "    \n",
    "    elif m1 == 2**32 - 1:\n",
    "        x_intersect = b1\n",
    "        y_intersect = m2 * x_intersect + b2\n",
    "    elif m2 == 2**32 - 1:\n",
    "        x_intersect = b2\n",
    "        y_intersect = m1 * x_intersect + b1\n",
    "    elif m1 == 0:\n",
    "        y_intersect = b1\n",
    "        x_intersect = ( y_intersect - b2 ) / m2\n",
    "    elif m2 == 0:\n",
    "        y_intersect = b2\n",
    "        x_intersect = ( y_intersect - b1 ) / m1\n",
    "    else:\n",
    "        x_intersect = (b2 - b1) / (m1 - m2)\n",
    "        y_intersect = m1 * x_intersect + b1\n",
    "    \n",
    "    return np.array([x_intersect, y_intersect], dtype=np.float64)\n",
    "\n",
    "@jit(nopython=True, parallel=False)\n",
    "def clippedPolygon(subjectPolygon, subjectPolygonSize, clipPolygon, clipPolygonSize):\n",
    "            \n",
    "    newPolygon = np.empty( (16, 2), dtype=np.float64 )\n",
    "\n",
    "    inputPolygon = np.empty( (16, 2), dtype=np.float64 )\n",
    "\n",
    "    # copy subject polygon to new polygon and set its size\n",
    "    for i in range(subjectPolygonSize):\n",
    "        newPolygon[i] = subjectPolygon[i]\n",
    "\n",
    "    newPolygonSize = subjectPolygonSize\n",
    "\n",
    "    for j in range(clipPolygonSize):\n",
    "        # copy new polygon to input polygon & set counter to 0\n",
    "        for k in range(newPolygonSize):\n",
    "            inputPolygon[k] = newPolygon[k]\n",
    "        counter = 0\n",
    "\n",
    "        # get clipping polygon edge\n",
    "        cp1 = clipPolygon[j];\n",
    "        cp2 = clipPolygon[(j - 1) % clipPolygonSize];\n",
    "\n",
    "        for i in range(newPolygonSize):\n",
    "            # get subject polygon edge\n",
    "            s = inputPolygon[i];\n",
    "            e = inputPolygon[(i - 1) % newPolygonSize];\n",
    "\n",
    "\n",
    "            m1, b1 = calcSlopeIntercept(e[0], e[1], s[0], s[1])\n",
    "            m2, b2 = calcSlopeIntercept(cp2[0], cp2[1], cp1[0], cp1[1])\n",
    "\n",
    "            interscecting_point = findIntersectionInRange(m1, b1, m2, b2)\n",
    "\n",
    "            if isRight(cp1[0], cp1[1], cp2[0], cp2[1], s[0], s[1]):\n",
    "                if not isRight(cp1[0], cp1[1], cp2[0], cp2[1], e[0], e[1]):\n",
    "                    newPolygon[counter] = interscecting_point\n",
    "                    counter+=1\n",
    "                newPolygon[counter] = [s[0], s[1]]\n",
    "                counter+=1\n",
    "            elif isRight(cp1[0], cp1[1], cp2[0], cp2[1], e[0], e[1]):\n",
    "                newPolygon[counter] = interscecting_point\n",
    "                counter+=1\n",
    "\n",
    "        newPolygonSize = counter;\n",
    "    return newPolygon[:newPolygonSize]\n",
    "\n",
    "@jit(nopython=True, parallel=False)\n",
    "def shoelaceFormula(coordinates):\n",
    "    if len(coordinates) < 3:\n",
    "        return np.float64(0)\n",
    "    \n",
    "    area = 0\n",
    "\n",
    "    for i in range(len(coordinates)):\n",
    "        i_plus_1 = (i + 1) % len(coordinates)\n",
    "        area += (coordinates[i_plus_1][0] * coordinates[i][1] - coordinates[i][0] * coordinates[i_plus_1][1]) / 2\n",
    "\n",
    "    return np.float64(area)\n",
    "\n",
    "@jit(nopython=True, parallel=False)\n",
    "def getIOU(default_box, gt_box):\n",
    "    default_box = default_box.reshape(4, 2)\n",
    "    \n",
    "    \n",
    "    \n",
    "    clipped_polygon = clippedPolygon(default_box, len(default_box), gt_box, len(gt_box))\n",
    "        \n",
    "    if len(clipped_polygon) == 0:\n",
    "        return 0\n",
    "        \n",
    "    default_box_area = shoelaceFormula(default_box)\n",
    "    gt_box_area = shoelaceFormula(gt_box)\n",
    "    clipped_polygon_area = shoelaceFormula(clipped_polygon)\n",
    "    \n",
    "    IOU = clipped_polygon_area / ( default_box_area + gt_box_area - clipped_polygon_area )\n",
    "    \n",
    "    return np.float64(IOU)\n",
    "\n",
    "# Parallel version\n",
    "@jit(nopython=True, parallel=True)\n",
    "def getIOUOverallDefaultBox(prior_boxes, gt_box):\n",
    "    gt_box = gt_box.reshape(4, 2)\n",
    "    iou = np.empty(len(prior_boxes), dtype = np.float64)\n",
    "    for i in numba.prange(len(prior_boxes)):\n",
    "        iou[i] = getIOU(prior_boxes[i], gt_box)\n",
    "        \n",
    "    return iou"
   ]
  },
  {
   "cell_type": "code",
   "execution_count": 49,
   "id": "bbb886a7",
   "metadata": {},
   "outputs": [
    {
     "data": {
      "text/plain": [
       "array([0.        , 0.        , 0.        , ..., 0.57439227, 0.54580721,\n",
       "       0.58330925])"
      ]
     },
     "execution_count": 49,
     "metadata": {},
     "output_type": "execute_result"
    }
   ],
   "source": [
    "gt_box = [0.03333333, 0.16666667, 0.83333333, 0.16666667, 0.83333333,\n",
    "       0.96666667, 0.03333333, 0.96666667]\n",
    "\n",
    "gt_box = np.array(gt_box, dtype=np.float64)\n",
    "prior_boxes= np.array(prior_boxes, dtype=np.float64)\n",
    "\n",
    "getIOUOverallDefaultBox(prior_boxes, gt_box)"
   ]
  },
  {
   "cell_type": "code",
   "execution_count": 50,
   "id": "4d9175c6",
   "metadata": {},
   "outputs": [
    {
     "name": "stdout",
     "output_type": "stream",
     "text": [
      "CPU times: user 1.82 s, sys: 6.84 ms, total: 1.83 s\n",
      "Wall time: 157 ms\n"
     ]
    }
   ],
   "source": [
    "%%time\n",
    "results = getIOUOverallDefaultBox(prior_boxes, gt_box)"
   ]
  },
  {
   "cell_type": "code",
   "execution_count": 51,
   "id": "ece3f1a6",
   "metadata": {},
   "outputs": [],
   "source": [
    "results_mask = np.greater(results, 0.5)"
   ]
  },
  {
   "cell_type": "code",
   "execution_count": 56,
   "id": "a7f4ec84",
   "metadata": {},
   "outputs": [
    {
     "data": {
      "text/plain": [
       "(array([0]),)"
      ]
     },
     "execution_count": 56,
     "metadata": {},
     "output_type": "execute_result"
    }
   ],
   "source": [
    "np.where(np.any(results_mask, axis=0))"
   ]
  },
  {
   "cell_type": "code",
   "execution_count": 57,
   "id": "e23c9197",
   "metadata": {},
   "outputs": [
    {
     "name": "stdout",
     "output_type": "stream",
     "text": [
      "30964\n",
      "30965\n",
      "30966\n",
      "30967\n",
      "30968\n",
      "30969\n",
      "30971\n",
      "30973\n",
      "30975\n",
      "30977\n",
      "31034\n",
      "31035\n",
      "31036\n",
      "31037\n",
      "31038\n",
      "31039\n",
      "31040\n",
      "31041\n",
      "31042\n",
      "31043\n",
      "31044\n",
      "31045\n",
      "31046\n",
      "31047\n"
     ]
    }
   ],
   "source": [
    "for i, mask in enumerate(results_mask):\n",
    "    if mask:\n",
    "        print(i)"
   ]
  },
  {
   "cell_type": "code",
   "execution_count": 61,
   "id": "21e5a318",
   "metadata": {},
   "outputs": [
    {
     "name": "stderr",
     "output_type": "stream",
     "text": [
      "Clipping input data to the valid range for imshow with RGB data ([0..1] for floats or [0..255] for integers).\n"
     ]
    },
    {
     "data": {
      "text/plain": [
       "<matplotlib.image.AxesImage at 0x1362123d0>"
      ]
     },
     "execution_count": 61,
     "metadata": {},
     "output_type": "execute_result"
    },
    {
     "data": {
      "image/png": "[encoded data removed]",
      "text/plain": [
       "<Figure size 720x720 with 1 Axes>"
      ]
     },
     "metadata": {
      "needs_background": "light"
     },
     "output_type": "display_data"
    }
   ],
   "source": [
    "image = np.zeros((300, 300, 3))\n",
    "\n",
    "corners = np.array(prior_boxes[30967]) * 300\n",
    "    \n",
    "corners = corners.astype(np.int32)\n",
    "\n",
    "corners = corners.reshape(4, 2)\n",
    "\n",
    "corners = corners.reshape((-1, 1, 2))\n",
    "\n",
    "image = cv2.polylines(image, [corners],\n",
    "                      True, color, 1)\n",
    "\n",
    "plt.figure(figsize=(10,10))\n",
    "\n",
    "plt.imshow(image)"
   ]
  },
  {
   "cell_type": "code",
   "execution_count": null,
   "id": "752e030d",
   "metadata": {},
   "outputs": [],
   "source": []
  }
 ],
 "metadata": {
  "kernelspec": {
   "display_name": "Python 3 (ipykernel)",
   "language": "python",
   "name": "python3"
  },
  "language_info": {
   "codemirror_mode": {
    "name": "ipython",
    "version": 3
   },
   "file_extension": ".py",
   "mimetype": "text/x-python",
   "name": "python",
   "nbconvert_exporter": "python",
   "pygments_lexer": "ipython3",
   "version": "3.9.10"
  }
 },
 "nbformat": 4,
 "nbformat_minor": 5
}
