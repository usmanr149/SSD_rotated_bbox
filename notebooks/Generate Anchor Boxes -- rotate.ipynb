{
 "cells": [
  {
   "cell_type": "code",
   "execution_count": 1,
   "id": "a9b2ed4c",
   "metadata": {},
   "outputs": [],
   "source": [
    "import cv2\n",
    "import numpy as np\n",
    "\n",
    "import pandas as pd\n",
    "\n",
    "from matplotlib import pyplot as plt\n",
    "\n",
    "%load_ext autoreload\n",
    "%autoreload 2"
   ]
  },
  {
   "cell_type": "code",
   "execution_count": 2,
   "id": "ed679036",
   "metadata": {},
   "outputs": [],
   "source": [
    "image = np.zeros((300, 300, 3))"
   ]
  },
  {
   "cell_type": "code",
   "execution_count": 3,
   "id": "d3fc9b72",
   "metadata": {},
   "outputs": [],
   "source": [
    "image = np.zeros((300, 300, 3))\n",
    "\n",
    "pts1 = np.array([[100, 100], [200, 100],\n",
    "                [200, 50], [100, 50]\n",
    "               ],\n",
    "               np.int32)\n",
    " \n",
    "pts1 = pts1.reshape((-1, 1, 2))"
   ]
  },
  {
   "cell_type": "code",
   "execution_count": 4,
   "id": "0540e3f5",
   "metadata": {},
   "outputs": [
    {
     "data": {
      "text/plain": [
       "<matplotlib.image.AxesImage at 0x1230e4640>"
      ]
     },
     "execution_count": 4,
     "metadata": {},
     "output_type": "execute_result"
    },
    {
     "data": {
      "image/png": "[encoded data removed]",
      "text/plain": [
       "<Figure size 720x720 with 1 Axes>"
      ]
     },
     "metadata": {
      "needs_background": "light"
     },
     "output_type": "display_data"
    }
   ],
   "source": [
    "plt.figure(figsize=(10,10))\n",
    "plt.imshow(image)"
   ]
  },
  {
   "cell_type": "code",
   "execution_count": 5,
   "id": "4ca617d0",
   "metadata": {},
   "outputs": [],
   "source": [
    "def rotateTheta(x, y, theta):\n",
    "    x_rot_theta  = x * np.cos(theta) + y * np.sin(theta)\n",
    "    y_rot_theta = y * np.cos(theta) - x * np.sin(theta)\n",
    "    \n",
    "    return x_rot_theta, y_rot_theta"
   ]
  },
  {
   "cell_type": "code",
   "execution_count": 7,
   "id": "18ac44f8",
   "metadata": {},
   "outputs": [],
   "source": [
    "theta = 30 * np.pi / 180"
   ]
  },
  {
   "cell_type": "code",
   "execution_count": 8,
   "id": "d58da340",
   "metadata": {},
   "outputs": [
    {
     "name": "stdout",
     "output_type": "stream",
     "text": [
      "140.84936490538902 40.84936490538903\n",
      "184.15063509461098 65.84936490538902\n",
      "159.15063509461098 109.15063509461098\n",
      "115.84936490538902 84.15063509461098\n"
     ]
    },
    {
     "data": {
      "text/plain": [
       "[[115.84936490538902, 65.84936490538902],\n",
       " [159.15063509461098, 40.84936490538903],\n",
       " [184.15063509461098, 84.15063509461098],\n",
       " [140.84936490538902, 109.15063509461098]]"
      ]
     },
     "execution_count": 8,
     "metadata": {},
     "output_type": "execute_result"
    }
   ],
   "source": [
    "c_x = 150\n",
    "c_y = 75\n",
    "width = 50\n",
    "height = 50\n",
    "x_prime, y_prime = rotateTheta(-width / 2, height / 2, theta)\n",
    "print(c_x + x_prime, c_y - y_prime)\n",
    "\n",
    "x_prime, y_prime = rotateTheta(width / 2, height / 2, theta)\n",
    "print(c_x + x_prime, c_y - y_prime)\n",
    "\n",
    "x_prime, y_prime = rotateTheta(width / 2, -height / 2, theta)\n",
    "print(c_x + x_prime, c_y - y_prime)\n",
    "\n",
    "x_prime, y_prime = rotateTheta(-width / 2, -height / 2, theta)\n",
    "print(c_x + x_prime, c_y - y_prime)\n",
    "\n",
    "\n",
    "def rotateRectangle(c_x, c_y, width, height, theta):\n",
    "    newRect = []\n",
    "    \n",
    "    corners = [\n",
    "        [-width / 2, -height / 2],\n",
    "        [width / 2, -height / 2],\n",
    "        [width / 2, height / 2],\n",
    "        [-width / 2, height / 2]\n",
    "    ]\n",
    "    \n",
    "    for corner in corners:\n",
    "        x_prime, y_prime = rotateTheta(corner[0], corner[1], theta)\n",
    "        newRect.append([c_x + x_prime, c_y + y_prime])\n",
    "    \n",
    "    return newRect\n",
    "\n",
    "rotateRectangle(c_x, c_y, width, height, theta)"
   ]
  },
  {
   "cell_type": "code",
   "execution_count": 9,
   "id": "49fa5d05",
   "metadata": {},
   "outputs": [],
   "source": [
    "image = np.zeros((300, 300, 3))\n",
    "\n",
    "# Blue color in BGR\n",
    "color = (255, 0, 0)\n",
    " \n",
    "# Line thickness of 2 px\n",
    "thickness = 1\n",
    " \n",
    "# Using cv2.polylines() method\n",
    "# Draw a Blue polygon with\n",
    "# thickness of 1 px\n",
    "# image = cv2.polylines(image, [pts1],\n",
    "#                       True, color, thickness)\n",
    "\n",
    "\n",
    "for t in [0, 30, 60, 90, 120, 150]:\n",
    "    theta = t * np.pi / 180\n",
    "\n",
    "    pts2 = np.array(rotateRectangle(c_x, c_y, width, height, theta),\n",
    "                   np.int32)\n",
    "\n",
    "    pts2 = pts2.reshape((-1, 1, 2))\n",
    "\n",
    "    image = cv2.polylines(image, [pts2],\n",
    "                          True, color, thickness)\n",
    "\n",
    "image = cv2.circle(image, (150, 75), radius=1, color=(255, 0, 255), thickness=3)"
   ]
  },
  {
   "cell_type": "code",
   "execution_count": 10,
   "id": "8e499221",
   "metadata": {},
   "outputs": [
    {
     "name": "stderr",
     "output_type": "stream",
     "text": [
      "Clipping input data to the valid range for imshow with RGB data ([0..1] for floats or [0..255] for integers).\n"
     ]
    },
    {
     "data": {
      "text/plain": [
       "<matplotlib.image.AxesImage at 0x12315f160>"
      ]
     },
     "execution_count": 10,
     "metadata": {},
     "output_type": "execute_result"
    },
    {
     "data": {
      "image/png": "[encoded data removed]",
      "text/plain": [
       "<Figure size 720x720 with 1 Axes>"
      ]
     },
     "metadata": {
      "needs_background": "light"
     },
     "output_type": "display_data"
    }
   ],
   "source": [
    "plt.figure(figsize=(10,10))\n",
    "\n",
    "plt.imshow(image)"
   ]
  },
  {
   "cell_type": "code",
   "execution_count": 11,
   "id": "7516d0b1",
   "metadata": {},
   "outputs": [
    {
     "data": {
      "text/plain": [
       "25.0"
      ]
     },
     "execution_count": 11,
     "metadata": {},
     "output_type": "execute_result"
    }
   ],
   "source": [
    "height / 2"
   ]
  },
  {
   "cell_type": "code",
   "execution_count": 12,
   "id": "f163fd20",
   "metadata": {},
   "outputs": [
    {
     "data": {
      "text/plain": [
       "(34.15063509461097, -9.150635094610971)"
      ]
     },
     "execution_count": 12,
     "metadata": {},
     "output_type": "execute_result"
    }
   ],
   "source": [
    "rotateTheta(-width / 2, height / 2, theta)"
   ]
  },
  {
   "cell_type": "code",
   "execution_count": 13,
   "id": "6a0733a1",
   "metadata": {},
   "outputs": [
    {
     "name": "stdout",
     "output_type": "stream",
     "text": [
      "205.80127018922195 71.65063509461098\n",
      "119.19872981077806 121.65063509461096\n",
      "94.19872981077806 78.34936490538902\n",
      "180.80127018922195 28.349364905389038\n"
     ]
    }
   ],
   "source": [
    "c_x = 150\n",
    "c_y = 75\n",
    "width = 100\n",
    "height = 50\n",
    "x_prime, y_prime = rotateTheta(-width / 2, height / 2, theta)\n",
    "print(c_x + x_prime, c_y - y_prime)\n",
    "\n",
    "x_prime, y_prime = rotateTheta(width / 2, height / 2, theta)\n",
    "print(c_x + x_prime, c_y - y_prime)\n",
    "\n",
    "x_prime, y_prime = rotateTheta(width / 2, -height / 2, theta)\n",
    "print(c_x + x_prime, c_y - y_prime)\n",
    "\n",
    "x_prime, y_prime = rotateTheta(-width / 2, -height / 2, theta)\n",
    "print(c_x + x_prime, c_y - y_prime)"
   ]
  },
  {
   "cell_type": "code",
   "execution_count": 14,
   "id": "5eaa43ca",
   "metadata": {},
   "outputs": [
    {
     "data": {
      "text/plain": [
       "(30.80127018922194, 46.65063509461096)"
      ]
     },
     "execution_count": 14,
     "metadata": {},
     "output_type": "execute_result"
    }
   ],
   "source": [
    "x_prime, y_prime"
   ]
  },
  {
   "cell_type": "code",
   "execution_count": 15,
   "id": "921dcfac",
   "metadata": {},
   "outputs": [
    {
     "data": {
      "text/plain": [
       "(180.80127018922195, 121.65063509461096)"
      ]
     },
     "execution_count": 15,
     "metadata": {},
     "output_type": "execute_result"
    }
   ],
   "source": [
    "c_x + x_prime, c_y + y_prime"
   ]
  },
  {
   "cell_type": "code",
   "execution_count": 16,
   "id": "59786bdb",
   "metadata": {},
   "outputs": [
    {
     "name": "stdout",
     "output_type": "stream",
     "text": [
      "119.19872981077806 121.65063509461096\n",
      "180.80127018922195 28.349364905389038\n",
      "180.80127018922195 121.65063509461096\n",
      "119.19872981077806 121.65063509461096\n"
     ]
    }
   ],
   "source": [
    "print(c_x - x_prime, c_y + y_prime)\n",
    "print(c_x + x_prime, c_y - y_prime)\n",
    "print(c_x + x_prime, c_y + y_prime)\n",
    "print(c_x - x_prime, c_y + y_prime)"
   ]
  },
  {
   "cell_type": "code",
   "execution_count": 17,
   "id": "ab5c5fd1",
   "metadata": {},
   "outputs": [
    {
     "data": {
      "text/plain": [
       "-1.0"
      ]
     },
     "execution_count": 17,
     "metadata": {},
     "output_type": "execute_result"
    }
   ],
   "source": [
    "np.cos(np.pi)"
   ]
  },
  {
   "cell_type": "code",
   "execution_count": 18,
   "id": "aaa6650a",
   "metadata": {},
   "outputs": [
    {
     "data": {
      "text/plain": [
       "0.7071067811865476"
      ]
     },
     "execution_count": 18,
     "metadata": {},
     "output_type": "execute_result"
    }
   ],
   "source": [
    "np.cos(45 * np.pi / 180)"
   ]
  },
  {
   "cell_type": "code",
   "execution_count": 62,
   "id": "e611a994",
   "metadata": {},
   "outputs": [
    {
     "name": "stdout",
     "output_type": "stream",
     "text": [
      "60.0 78.23042886243178\n"
     ]
    }
   ],
   "source": [
    "feature_map_shapes = [38, 19, 10, 5, 3, 1]\n",
    "\n",
    "aspect_ratios = [\n",
    "    [1, 2, 0.5],\n",
    "    [1, 2, 3, 0.5, 0.333],\n",
    "    [1, 2, 3, 0.5, 0.333],\n",
    "    [1, 2, 3, 0.5, 0.333],\n",
    "    [1, 2, 0.5],\n",
    "    [1, 2, 0.5]\n",
    "]\n",
    "\n",
    "number_of_feature_maps = 6\n",
    "\n",
    "def calculate_scale_of_default_boxes(k, m, s_max = 0.9, s_min = 0.2):\n",
    "    \"\"\"\n",
    "    m = number_of_feature_maps\n",
    "    s_k = s_min + (s_max - s_min) * (k - 1)/(m - 1)\n",
    "    width_k = s_k * sqrt(aspect_ratio)\n",
    "    height_k = s_k / sqrt(aspect_ratio)\n",
    "    \"\"\"\n",
    "    return s_min + (s_max - s_min) * (k - 1) / (m - 1)\n",
    "\n",
    "image = np.zeros((300, 300, 3))\n",
    "c_x = 150\n",
    "c_y = 150\n",
    "\n",
    "for k, f_k in enumerate(feature_map_shapes[:2]):\n",
    "    if k==1:\n",
    "        s_k = calculate_scale_of_default_boxes(k, m = number_of_feature_maps)\n",
    "        s_k_prime = np.sqrt(s_k * calculate_scale_of_default_boxes(k + 1, m = 6))\n",
    "        print(s_k * 300, s_k_prime * 300)\n",
    "\n",
    "        width = int(s_k * 300 / 2)\n",
    "        height = int(s_k_prime * 300 / 2)\n",
    "\n",
    "        image = cv2.rectangle(image, (c_x - width, c_y - height), (c_x + width, c_y + height), \n",
    "                             color, thickness)\n",
    "\n",
    "        for ar in aspect_ratios[k]:\n",
    "            width = int(s_k*np.sqrt(ar) * 300 / 2)\n",
    "            height = int(s_k/np.sqrt(ar) * 300 / 2)\n",
    "            image = cv2.rectangle(image, (c_x - width, c_y - height), (c_x + width, c_y + height), \n",
    "                             color, thickness)"
   ]
  },
  {
   "cell_type": "code",
   "execution_count": 63,
   "id": "fbad9ddd",
   "metadata": {},
   "outputs": [
    {
     "name": "stdout",
     "output_type": "stream",
     "text": [
      "[[149.9, 149.9], [150.1, 149.9], [150.1, 150.1], [149.9, 150.1]]\n",
      "[[149.8623774486648, 150.03255815357164], [149.96744184642836, 149.8623774486648], [150.1376225513352, 149.96744184642836], [150.03255815357164, 150.1376225513352]]\n"
     ]
    }
   ],
   "source": [
    "for k, f_k in enumerate(feature_map_shapes[:2]):\n",
    "    if k==1:\n",
    "        s_k = calculate_scale_of_default_boxes(k, m = number_of_feature_maps)\n",
    "        s_k_prime = np.sqrt(s_k * calculate_scale_of_default_boxes(k + 1, m = 6))\n",
    "        for angle in [0, 45]:\n",
    "            print(rotateRectangle(c_x, c_y, s_k, s_k, angle))"
   ]
  },
  {
   "cell_type": "code",
   "execution_count": 64,
   "id": "c98c2c51",
   "metadata": {},
   "outputs": [
    {
     "name": "stderr",
     "output_type": "stream",
     "text": [
      "Clipping input data to the valid range for imshow with RGB data ([0..1] for floats or [0..255] for integers).\n"
     ]
    },
    {
     "data": {
      "text/plain": [
       "<matplotlib.image.AxesImage at 0x124bc50a0>"
      ]
     },
     "execution_count": 64,
     "metadata": {},
     "output_type": "execute_result"
    },
    {
     "data": {
      "image/png": "[encoded data removed]",
      "text/plain": [
       "<Figure size 720x720 with 1 Axes>"
      ]
     },
     "metadata": {
      "needs_background": "light"
     },
     "output_type": "display_data"
    }
   ],
   "source": [
    "plt.figure(figsize=(10,10))\n",
    "\n",
    "plt.imshow(image)"
   ]
  },
  {
   "cell_type": "code",
   "execution_count": 65,
   "id": "74617f0f",
   "metadata": {},
   "outputs": [],
   "source": [
    "import sys"
   ]
  },
  {
   "cell_type": "code",
   "execution_count": 66,
   "id": "c653b66e",
   "metadata": {},
   "outputs": [],
   "source": [
    "from bbox_utils.bbox import generate_default_boxes"
   ]
  },
  {
   "cell_type": "code",
   "execution_count": 83,
   "id": "d55b709a",
   "metadata": {},
   "outputs": [],
   "source": [
    "feature_map_shapes = [38, 19, 10, 5, 3, 1]\n",
    "\n",
    "aspect_ratios = [\n",
    "    [2, 0.5],\n",
    "    [2, 3, 0.5, 0.333],\n",
    "    [2, 3, 0.5, 0.333],\n",
    "    [2, 3, 0.5, 0.333],\n",
    "    [2, 0.5],\n",
    "    [2, 0.5]\n",
    "]\n",
    "angles = [0, 45, 90, 135]\n",
    "\n",
    "prior_boxes = generate_default_boxes(feature_map_shapes, 6, aspect_ratios, angles)"
   ]
  },
  {
   "cell_type": "code",
   "execution_count": 84,
   "id": "344b14e4",
   "metadata": {},
   "outputs": [
    {
     "data": {
      "text/plain": [
       "31048"
      ]
     },
     "execution_count": 84,
     "metadata": {},
     "output_type": "execute_result"
    }
   ],
   "source": [
    "len(prior_boxes)"
   ]
  },
  {
   "cell_type": "code",
   "execution_count": 85,
   "id": "28c84242",
   "metadata": {},
   "outputs": [
    {
     "data": {
      "text/html": [
       "<div>\n",
       "<style scoped>\n",
       "    .dataframe tbody tr th:only-of-type {\n",
       "        vertical-align: middle;\n",
       "    }\n",
       "\n",
       "    .dataframe tbody tr th {\n",
       "        vertical-align: top;\n",
       "    }\n",
       "\n",
       "    .dataframe thead th {\n",
       "        text-align: right;\n",
       "    }\n",
       "</style>\n",
       "<table border=\"1\" class=\"dataframe\">\n",
       "  <thead>\n",
       "    <tr style=\"text-align: right;\">\n",
       "      <th></th>\n",
       "      <th>0</th>\n",
       "      <th>1</th>\n",
       "      <th>2</th>\n",
       "      <th>3</th>\n",
       "      <th>4</th>\n",
       "      <th>5</th>\n",
       "      <th>6</th>\n",
       "      <th>7</th>\n",
       "    </tr>\n",
       "  </thead>\n",
       "  <tbody>\n",
       "    <tr>\n",
       "      <th>0</th>\n",
       "      <td>-0.016842</td>\n",
       "      <td>-0.016842</td>\n",
       "      <td>0.043158</td>\n",
       "      <td>-0.016842</td>\n",
       "      <td>0.043158</td>\n",
       "      <td>0.043158</td>\n",
       "      <td>-0.016842</td>\n",
       "      <td>0.043158</td>\n",
       "    </tr>\n",
       "    <tr>\n",
       "      <th>1</th>\n",
       "      <td>-0.029269</td>\n",
       "      <td>0.013158</td>\n",
       "      <td>0.013158</td>\n",
       "      <td>-0.029269</td>\n",
       "      <td>0.055584</td>\n",
       "      <td>0.013158</td>\n",
       "      <td>0.013158</td>\n",
       "      <td>0.055584</td>\n",
       "    </tr>\n",
       "    <tr>\n",
       "      <th>2</th>\n",
       "      <td>-0.016842</td>\n",
       "      <td>-0.041614</td>\n",
       "      <td>0.043158</td>\n",
       "      <td>-0.041614</td>\n",
       "      <td>0.043158</td>\n",
       "      <td>0.067930</td>\n",
       "      <td>-0.016842</td>\n",
       "      <td>0.067930</td>\n",
       "    </tr>\n",
       "    <tr>\n",
       "      <th>3</th>\n",
       "      <td>-0.046785</td>\n",
       "      <td>-0.004359</td>\n",
       "      <td>-0.004359</td>\n",
       "      <td>-0.046785</td>\n",
       "      <td>0.073101</td>\n",
       "      <td>0.030675</td>\n",
       "      <td>0.030675</td>\n",
       "      <td>0.073101</td>\n",
       "    </tr>\n",
       "    <tr>\n",
       "      <th>4</th>\n",
       "      <td>-0.041614</td>\n",
       "      <td>0.043158</td>\n",
       "      <td>-0.041614</td>\n",
       "      <td>-0.016842</td>\n",
       "      <td>0.067930</td>\n",
       "      <td>-0.016842</td>\n",
       "      <td>0.067930</td>\n",
       "      <td>0.043158</td>\n",
       "    </tr>\n",
       "    <tr>\n",
       "      <th>...</th>\n",
       "      <td>...</td>\n",
       "      <td>...</td>\n",
       "      <td>...</td>\n",
       "      <td>...</td>\n",
       "      <td>...</td>\n",
       "      <td>...</td>\n",
       "      <td>...</td>\n",
       "      <td>...</td>\n",
       "    </tr>\n",
       "    <tr>\n",
       "      <th>31043</th>\n",
       "      <td>0.690000</td>\n",
       "      <td>1.070000</td>\n",
       "      <td>-0.070000</td>\n",
       "      <td>0.310000</td>\n",
       "      <td>0.310000</td>\n",
       "      <td>-0.070000</td>\n",
       "      <td>1.070000</td>\n",
       "      <td>0.690000</td>\n",
       "    </tr>\n",
       "    <tr>\n",
       "      <th>31044</th>\n",
       "      <td>0.231299</td>\n",
       "      <td>-0.037401</td>\n",
       "      <td>0.768701</td>\n",
       "      <td>-0.037401</td>\n",
       "      <td>0.768701</td>\n",
       "      <td>1.037401</td>\n",
       "      <td>0.231299</td>\n",
       "      <td>1.037401</td>\n",
       "    </tr>\n",
       "    <tr>\n",
       "      <th>31045</th>\n",
       "      <td>-0.070000</td>\n",
       "      <td>0.310000</td>\n",
       "      <td>0.310000</td>\n",
       "      <td>-0.070000</td>\n",
       "      <td>1.070000</td>\n",
       "      <td>0.690000</td>\n",
       "      <td>0.690000</td>\n",
       "      <td>1.070000</td>\n",
       "    </tr>\n",
       "    <tr>\n",
       "      <th>31046</th>\n",
       "      <td>-0.037401</td>\n",
       "      <td>0.768701</td>\n",
       "      <td>-0.037401</td>\n",
       "      <td>0.231299</td>\n",
       "      <td>1.037401</td>\n",
       "      <td>0.231299</td>\n",
       "      <td>1.037401</td>\n",
       "      <td>0.768701</td>\n",
       "    </tr>\n",
       "    <tr>\n",
       "      <th>31047</th>\n",
       "      <td>0.310000</td>\n",
       "      <td>1.070000</td>\n",
       "      <td>-0.070000</td>\n",
       "      <td>0.690000</td>\n",
       "      <td>0.690000</td>\n",
       "      <td>-0.070000</td>\n",
       "      <td>1.070000</td>\n",
       "      <td>0.310000</td>\n",
       "    </tr>\n",
       "  </tbody>\n",
       "</table>\n",
       "<p>31048 rows × 8 columns</p>\n",
       "</div>"
      ],
      "text/plain": [
       "              0         1         2         3         4         5         6  \\\n",
       "0     -0.016842 -0.016842  0.043158 -0.016842  0.043158  0.043158 -0.016842   \n",
       "1     -0.029269  0.013158  0.013158 -0.029269  0.055584  0.013158  0.013158   \n",
       "2     -0.016842 -0.041614  0.043158 -0.041614  0.043158  0.067930 -0.016842   \n",
       "3     -0.046785 -0.004359 -0.004359 -0.046785  0.073101  0.030675  0.030675   \n",
       "4     -0.041614  0.043158 -0.041614 -0.016842  0.067930 -0.016842  0.067930   \n",
       "...         ...       ...       ...       ...       ...       ...       ...   \n",
       "31043  0.690000  1.070000 -0.070000  0.310000  0.310000 -0.070000  1.070000   \n",
       "31044  0.231299 -0.037401  0.768701 -0.037401  0.768701  1.037401  0.231299   \n",
       "31045 -0.070000  0.310000  0.310000 -0.070000  1.070000  0.690000  0.690000   \n",
       "31046 -0.037401  0.768701 -0.037401  0.231299  1.037401  0.231299  1.037401   \n",
       "31047  0.310000  1.070000 -0.070000  0.690000  0.690000 -0.070000  1.070000   \n",
       "\n",
       "              7  \n",
       "0      0.043158  \n",
       "1      0.055584  \n",
       "2      0.067930  \n",
       "3      0.073101  \n",
       "4      0.043158  \n",
       "...         ...  \n",
       "31043  0.690000  \n",
       "31044  1.037401  \n",
       "31045  1.070000  \n",
       "31046  0.768701  \n",
       "31047  0.310000  \n",
       "\n",
       "[31048 rows x 8 columns]"
      ]
     },
     "execution_count": 85,
     "metadata": {},
     "output_type": "execute_result"
    }
   ],
   "source": [
    "pd.DataFrame(prior_boxes)"
   ]
  },
  {
   "cell_type": "code",
   "execution_count": 86,
   "id": "506cea51",
   "metadata": {},
   "outputs": [],
   "source": [
    "df = pd.DataFrame(prior_boxes) * 300\n",
    "df = df.astype(int)"
   ]
  },
  {
   "cell_type": "code",
   "execution_count": 87,
   "id": "4827b8a5",
   "metadata": {},
   "outputs": [
    {
     "data": {
      "text/html": [
       "<div>\n",
       "<style scoped>\n",
       "    .dataframe tbody tr th:only-of-type {\n",
       "        vertical-align: middle;\n",
       "    }\n",
       "\n",
       "    .dataframe tbody tr th {\n",
       "        vertical-align: top;\n",
       "    }\n",
       "\n",
       "    .dataframe thead th {\n",
       "        text-align: right;\n",
       "    }\n",
       "</style>\n",
       "<table border=\"1\" class=\"dataframe\">\n",
       "  <thead>\n",
       "    <tr style=\"text-align: right;\">\n",
       "      <th></th>\n",
       "      <th>0</th>\n",
       "      <th>1</th>\n",
       "      <th>2</th>\n",
       "      <th>3</th>\n",
       "      <th>4</th>\n",
       "      <th>5</th>\n",
       "      <th>6</th>\n",
       "      <th>7</th>\n",
       "    </tr>\n",
       "  </thead>\n",
       "  <tbody>\n",
       "    <tr>\n",
       "      <th>0</th>\n",
       "      <td>-5</td>\n",
       "      <td>-5</td>\n",
       "      <td>12</td>\n",
       "      <td>-5</td>\n",
       "      <td>12</td>\n",
       "      <td>12</td>\n",
       "      <td>-5</td>\n",
       "      <td>12</td>\n",
       "    </tr>\n",
       "    <tr>\n",
       "      <th>1</th>\n",
       "      <td>-8</td>\n",
       "      <td>3</td>\n",
       "      <td>3</td>\n",
       "      <td>-8</td>\n",
       "      <td>16</td>\n",
       "      <td>3</td>\n",
       "      <td>3</td>\n",
       "      <td>16</td>\n",
       "    </tr>\n",
       "    <tr>\n",
       "      <th>2</th>\n",
       "      <td>-5</td>\n",
       "      <td>-12</td>\n",
       "      <td>12</td>\n",
       "      <td>-12</td>\n",
       "      <td>12</td>\n",
       "      <td>20</td>\n",
       "      <td>-5</td>\n",
       "      <td>20</td>\n",
       "    </tr>\n",
       "    <tr>\n",
       "      <th>3</th>\n",
       "      <td>-14</td>\n",
       "      <td>-1</td>\n",
       "      <td>-1</td>\n",
       "      <td>-14</td>\n",
       "      <td>21</td>\n",
       "      <td>9</td>\n",
       "      <td>9</td>\n",
       "      <td>21</td>\n",
       "    </tr>\n",
       "    <tr>\n",
       "      <th>4</th>\n",
       "      <td>-12</td>\n",
       "      <td>12</td>\n",
       "      <td>-12</td>\n",
       "      <td>-5</td>\n",
       "      <td>20</td>\n",
       "      <td>-5</td>\n",
       "      <td>20</td>\n",
       "      <td>12</td>\n",
       "    </tr>\n",
       "  </tbody>\n",
       "</table>\n",
       "</div>"
      ],
      "text/plain": [
       "    0   1   2   3   4   5   6   7\n",
       "0  -5  -5  12  -5  12  12  -5  12\n",
       "1  -8   3   3  -8  16   3   3  16\n",
       "2  -5 -12  12 -12  12  20  -5  20\n",
       "3 -14  -1  -1 -14  21   9   9  21\n",
       "4 -12  12 -12  -5  20  -5  20  12"
      ]
     },
     "execution_count": 87,
     "metadata": {},
     "output_type": "execute_result"
    }
   ],
   "source": [
    "df.head()"
   ]
  },
  {
   "cell_type": "code",
   "execution_count": 88,
   "id": "3deb7799",
   "metadata": {},
   "outputs": [
    {
     "data": {
      "text/html": [
       "<div>\n",
       "<style scoped>\n",
       "    .dataframe tbody tr th:only-of-type {\n",
       "        vertical-align: middle;\n",
       "    }\n",
       "\n",
       "    .dataframe tbody tr th {\n",
       "        vertical-align: top;\n",
       "    }\n",
       "\n",
       "    .dataframe thead th {\n",
       "        text-align: right;\n",
       "    }\n",
       "</style>\n",
       "<table border=\"1\" class=\"dataframe\">\n",
       "  <thead>\n",
       "    <tr style=\"text-align: right;\">\n",
       "      <th></th>\n",
       "      <th>0</th>\n",
       "      <th>1</th>\n",
       "      <th>2</th>\n",
       "      <th>3</th>\n",
       "      <th>4</th>\n",
       "      <th>5</th>\n",
       "      <th>6</th>\n",
       "      <th>7</th>\n",
       "    </tr>\n",
       "  </thead>\n",
       "  <tbody>\n",
       "    <tr>\n",
       "      <th>0</th>\n",
       "      <td>-5</td>\n",
       "      <td>-5</td>\n",
       "      <td>12</td>\n",
       "      <td>-5</td>\n",
       "      <td>12</td>\n",
       "      <td>12</td>\n",
       "      <td>-5</td>\n",
       "      <td>12</td>\n",
       "    </tr>\n",
       "    <tr>\n",
       "      <th>1</th>\n",
       "      <td>-8</td>\n",
       "      <td>3</td>\n",
       "      <td>3</td>\n",
       "      <td>-8</td>\n",
       "      <td>16</td>\n",
       "      <td>3</td>\n",
       "      <td>3</td>\n",
       "      <td>16</td>\n",
       "    </tr>\n",
       "    <tr>\n",
       "      <th>2</th>\n",
       "      <td>-5</td>\n",
       "      <td>-12</td>\n",
       "      <td>12</td>\n",
       "      <td>-12</td>\n",
       "      <td>12</td>\n",
       "      <td>20</td>\n",
       "      <td>-5</td>\n",
       "      <td>20</td>\n",
       "    </tr>\n",
       "    <tr>\n",
       "      <th>3</th>\n",
       "      <td>-14</td>\n",
       "      <td>-1</td>\n",
       "      <td>-1</td>\n",
       "      <td>-14</td>\n",
       "      <td>21</td>\n",
       "      <td>9</td>\n",
       "      <td>9</td>\n",
       "      <td>21</td>\n",
       "    </tr>\n",
       "    <tr>\n",
       "      <th>4</th>\n",
       "      <td>-12</td>\n",
       "      <td>12</td>\n",
       "      <td>-12</td>\n",
       "      <td>-5</td>\n",
       "      <td>20</td>\n",
       "      <td>-5</td>\n",
       "      <td>20</td>\n",
       "      <td>12</td>\n",
       "    </tr>\n",
       "    <tr>\n",
       "      <th>...</th>\n",
       "      <td>...</td>\n",
       "      <td>...</td>\n",
       "      <td>...</td>\n",
       "      <td>...</td>\n",
       "      <td>...</td>\n",
       "      <td>...</td>\n",
       "      <td>...</td>\n",
       "      <td>...</td>\n",
       "    </tr>\n",
       "    <tr>\n",
       "      <th>31043</th>\n",
       "      <td>207</td>\n",
       "      <td>321</td>\n",
       "      <td>-21</td>\n",
       "      <td>92</td>\n",
       "      <td>92</td>\n",
       "      <td>-21</td>\n",
       "      <td>321</td>\n",
       "      <td>207</td>\n",
       "    </tr>\n",
       "    <tr>\n",
       "      <th>31044</th>\n",
       "      <td>69</td>\n",
       "      <td>-11</td>\n",
       "      <td>230</td>\n",
       "      <td>-11</td>\n",
       "      <td>230</td>\n",
       "      <td>311</td>\n",
       "      <td>69</td>\n",
       "      <td>311</td>\n",
       "    </tr>\n",
       "    <tr>\n",
       "      <th>31045</th>\n",
       "      <td>-21</td>\n",
       "      <td>93</td>\n",
       "      <td>93</td>\n",
       "      <td>-21</td>\n",
       "      <td>321</td>\n",
       "      <td>206</td>\n",
       "      <td>206</td>\n",
       "      <td>321</td>\n",
       "    </tr>\n",
       "    <tr>\n",
       "      <th>31046</th>\n",
       "      <td>-11</td>\n",
       "      <td>230</td>\n",
       "      <td>-11</td>\n",
       "      <td>69</td>\n",
       "      <td>311</td>\n",
       "      <td>69</td>\n",
       "      <td>311</td>\n",
       "      <td>230</td>\n",
       "    </tr>\n",
       "    <tr>\n",
       "      <th>31047</th>\n",
       "      <td>93</td>\n",
       "      <td>321</td>\n",
       "      <td>-21</td>\n",
       "      <td>206</td>\n",
       "      <td>206</td>\n",
       "      <td>-21</td>\n",
       "      <td>321</td>\n",
       "      <td>93</td>\n",
       "    </tr>\n",
       "  </tbody>\n",
       "</table>\n",
       "<p>31048 rows × 8 columns</p>\n",
       "</div>"
      ],
      "text/plain": [
       "         0    1    2    3    4    5    6    7\n",
       "0       -5   -5   12   -5   12   12   -5   12\n",
       "1       -8    3    3   -8   16    3    3   16\n",
       "2       -5  -12   12  -12   12   20   -5   20\n",
       "3      -14   -1   -1  -14   21    9    9   21\n",
       "4      -12   12  -12   -5   20   -5   20   12\n",
       "...    ...  ...  ...  ...  ...  ...  ...  ...\n",
       "31043  207  321  -21   92   92  -21  321  207\n",
       "31044   69  -11  230  -11  230  311   69  311\n",
       "31045  -21   93   93  -21  321  206  206  321\n",
       "31046  -11  230  -11   69  311   69  311  230\n",
       "31047   93  321  -21  206  206  -21  321   93\n",
       "\n",
       "[31048 rows x 8 columns]"
      ]
     },
     "execution_count": 88,
     "metadata": {},
     "output_type": "execute_result"
    }
   ],
   "source": [
    "df.drop_duplicates()"
   ]
  },
  {
   "cell_type": "code",
   "execution_count": 89,
   "id": "c1717cb0",
   "metadata": {},
   "outputs": [],
   "source": [
    "corners = np.array(prior_boxes[10001]) * 300\n",
    "\n",
    "corners = corners.astype(np.int32)\n",
    "\n",
    "corners = corners.reshape(4, 2)"
   ]
  },
  {
   "cell_type": "code",
   "execution_count": 90,
   "id": "3412dc50",
   "metadata": {},
   "outputs": [
    {
     "data": {
      "text/plain": [
       "array([100, 101, 102, 103, 104, 105, 106, 107, 108, 109, 110, 111, 112,\n",
       "       113, 114, 115, 116, 117, 118, 119, 120, 121, 122, 123, 124, 125,\n",
       "       126, 127, 128, 129, 130, 131, 132, 133, 134, 135, 136, 137, 138,\n",
       "       139, 140, 141, 142, 143, 144, 145, 146, 147, 148, 149, 150, 151,\n",
       "       152, 153, 154, 155, 156, 157, 158, 159, 160, 161, 162, 163, 164,\n",
       "       165, 166, 167, 168, 169, 170, 171, 172, 173, 174, 175, 176, 177,\n",
       "       178, 179, 180, 181, 182, 183, 184, 185, 186, 187, 188, 189, 190,\n",
       "       191, 192, 193, 194, 195, 196, 197, 198, 199])"
      ]
     },
     "execution_count": 90,
     "metadata": {},
     "output_type": "execute_result"
    }
   ],
   "source": [
    "np.arange(100, 200)"
   ]
  },
  {
   "cell_type": "code",
   "execution_count": 115,
   "id": "106ca26f",
   "metadata": {},
   "outputs": [],
   "source": [
    "image = np.zeros((300, 300, 3))\n",
    " \n",
    "for i in np.arange(31040, 31048, 1):\n",
    "    corners = np.array(prior_boxes[i]) * 300\n",
    "    \n",
    "    corners = corners.astype(np.int32)\n",
    "\n",
    "    corners = corners.reshape(4, 2)\n",
    "    \n",
    "    corners = corners.reshape((-1, 1, 2))\n",
    "\n",
    "    image = cv2.polylines(image, [corners],\n",
    "                          True, color, 1)"
   ]
  },
  {
   "cell_type": "code",
   "execution_count": 116,
   "id": "4f3bcf55",
   "metadata": {},
   "outputs": [
    {
     "name": "stderr",
     "output_type": "stream",
     "text": [
      "Clipping input data to the valid range for imshow with RGB data ([0..1] for floats or [0..255] for integers).\n"
     ]
    },
    {
     "data": {
      "text/plain": [
       "<matplotlib.image.AxesImage at 0x125ad54f0>"
      ]
     },
     "execution_count": 116,
     "metadata": {},
     "output_type": "execute_result"
    },
    {
     "data": {
      "image/png": "[encoded data removed]",
      "text/plain": [
       "<Figure size 1080x1080 with 1 Axes>"
      ]
     },
     "metadata": {
      "needs_background": "light"
     },
     "output_type": "display_data"
    }
   ],
   "source": [
    "plt.figure(figsize=(15,15))\n",
    "\n",
    "plt.imshow(image)"
   ]
  },
  {
   "cell_type": "code",
   "execution_count": null,
   "id": "9a7ada56",
   "metadata": {},
   "outputs": [],
   "source": []
  },
  {
   "cell_type": "code",
   "execution_count": null,
   "id": "eae5da07",
   "metadata": {},
   "outputs": [],
   "source": []
  }
 ],
 "metadata": {
  "kernelspec": {
   "display_name": "Python 3 (ipykernel)",
   "language": "python",
   "name": "python3"
  },
  "language_info": {
   "codemirror_mode": {
    "name": "ipython",
    "version": 3
   },
   "file_extension": ".py",
   "mimetype": "text/x-python",
   "name": "python",
   "nbconvert_exporter": "python",
   "pygments_lexer": "ipython3",
   "version": "3.9.10"
  }
 },
 "nbformat": 4,
 "nbformat_minor": 5
}
